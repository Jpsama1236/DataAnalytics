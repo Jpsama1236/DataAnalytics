{
  "cells": [
    {
      "cell_type": "markdown",
      "metadata": {
        "id": "view-in-github",
        "colab_type": "text"
      },
      "source": [
        "<a href=\"https://colab.research.google.com/github/Jpsama1236/DataAnalytics/blob/main/Project_9_IMDB_Movie_Dataset_Exercise.ipynb\" target=\"_parent\"><img src=\"https://colab.research.google.com/assets/colab-badge.svg\" alt=\"Open In Colab\"/></a>"
      ]
    },
    {
      "cell_type": "markdown",
      "metadata": {
        "id": "o9IVe6t-BfVQ"
      },
      "source": [
        "https://www.kaggle.com/PromptCloudHQ/imdb-data"
      ]
    },
    {
      "cell_type": "markdown",
      "metadata": {
        "id": "tAq8866DBfVa"
      },
      "source": [
        "### IMDB data from 2006 to 2016"
      ]
    },
    {
      "cell_type": "raw",
      "metadata": {
        "id": "k0bklEFxBfVc"
      },
      "source": [
        "Here's a data set of 1,000 most popular movies on IMDB in the last 10 years. The data points included are:\n",
        "\n",
        "Title, Genre, Description, Director, Actors, Year, Runtime, Rating, Votes, Revenue, Metascrore"
      ]
    },
    {
      "cell_type": "code",
      "execution_count": null,
      "metadata": {
        "id": "vOt3WolTBfVd"
      },
      "outputs": [],
      "source": [
        "import pandas as pd\n",
        "import seaborn as sns\n",
        "import matplotlib.pyplot as plt"
      ]
    },
    {
      "cell_type": "code",
      "execution_count": null,
      "metadata": {
        "id": "hoB_2493BfVf"
      },
      "outputs": [],
      "source": [
        "data=pd.read_csv('/content/IMDB-Movie-Data.csv')"
      ]
    },
    {
      "cell_type": "markdown",
      "metadata": {
        "id": "uljXxq9cBfVg"
      },
      "source": [
        "### 1. Display Top 10 Rows of The Dataset"
      ]
    },
    {
      "cell_type": "code",
      "execution_count": null,
      "metadata": {
        "colab": {
          "base_uri": "https://localhost:8080/",
          "height": 858
        },
        "id": "7aS4kGkzBfVh",
        "outputId": "53038791-fa47-441c-8b9a-325dd6e5579a"
      },
      "outputs": [
        {
          "output_type": "execute_result",
          "data": {
            "text/plain": [
              "   Rank                    Title                       Genre  \\\n",
              "0     1  Guardians of the Galaxy     Action,Adventure,Sci-Fi   \n",
              "1     2               Prometheus    Adventure,Mystery,Sci-Fi   \n",
              "2     3                    Split             Horror,Thriller   \n",
              "3     4                     Sing     Animation,Comedy,Family   \n",
              "4     5            Suicide Squad    Action,Adventure,Fantasy   \n",
              "5     6           The Great Wall    Action,Adventure,Fantasy   \n",
              "6     7               La La Land          Comedy,Drama,Music   \n",
              "7     8                 Mindhorn                      Comedy   \n",
              "8     9       The Lost City of Z  Action,Adventure,Biography   \n",
              "9    10               Passengers     Adventure,Drama,Romance   \n",
              "\n",
              "                                         Description              Director  \\\n",
              "0  A group of intergalactic criminals are forced ...            James Gunn   \n",
              "1  Following clues to the origin of mankind, a te...          Ridley Scott   \n",
              "2  Three girls are kidnapped by a man with a diag...    M. Night Shyamalan   \n",
              "3  In a city of humanoid animals, a hustling thea...  Christophe Lourdelet   \n",
              "4  A secret government agency recruits some of th...            David Ayer   \n",
              "5  European mercenaries searching for black powde...           Yimou Zhang   \n",
              "6  A jazz pianist falls for an aspiring actress i...       Damien Chazelle   \n",
              "7  A has-been actor best known for playing the ti...            Sean Foley   \n",
              "8  A true-life drama, centering on British explor...            James Gray   \n",
              "9  A spacecraft traveling to a distant colony pla...         Morten Tyldum   \n",
              "\n",
              "                                              Actors  Year  Runtime (Minutes)  \\\n",
              "0  Chris Pratt, Vin Diesel, Bradley Cooper, Zoe S...  2014                121   \n",
              "1  Noomi Rapace, Logan Marshall-Green, Michael Fa...  2012                124   \n",
              "2  James McAvoy, Anya Taylor-Joy, Haley Lu Richar...  2016                117   \n",
              "3  Matthew McConaughey,Reese Witherspoon, Seth Ma...  2016                108   \n",
              "4  Will Smith, Jared Leto, Margot Robbie, Viola D...  2016                123   \n",
              "5      Matt Damon, Tian Jing, Willem Dafoe, Andy Lau  2016                103   \n",
              "6  Ryan Gosling, Emma Stone, Rosemarie DeWitt, J....  2016                128   \n",
              "7  Essie Davis, Andrea Riseborough, Julian Barrat...  2016                 89   \n",
              "8  Charlie Hunnam, Robert Pattinson, Sienna Mille...  2016                141   \n",
              "9  Jennifer Lawrence, Chris Pratt, Michael Sheen,...  2016                116   \n",
              "\n",
              "   Rating   Votes  Revenue (Millions)  Metascore  \n",
              "0     8.1  757074              333.13       76.0  \n",
              "1     7.0  485820              126.46       65.0  \n",
              "2     7.3  157606              138.12       62.0  \n",
              "3     7.2   60545              270.32       59.0  \n",
              "4     6.2  393727              325.02       40.0  \n",
              "5     6.1   56036               45.13       42.0  \n",
              "6     8.3  258682              151.06       93.0  \n",
              "7     6.4    2490                 NaN       71.0  \n",
              "8     7.1    7188                8.01       78.0  \n",
              "9     7.0  192177              100.01       41.0  "
            ],
            "text/html": [
              "\n",
              "  <div id=\"df-5beee5c7-7dfe-4689-a832-5b7dc78278e3\">\n",
              "    <div class=\"colab-df-container\">\n",
              "      <div>\n",
              "<style scoped>\n",
              "    .dataframe tbody tr th:only-of-type {\n",
              "        vertical-align: middle;\n",
              "    }\n",
              "\n",
              "    .dataframe tbody tr th {\n",
              "        vertical-align: top;\n",
              "    }\n",
              "\n",
              "    .dataframe thead th {\n",
              "        text-align: right;\n",
              "    }\n",
              "</style>\n",
              "<table border=\"1\" class=\"dataframe\">\n",
              "  <thead>\n",
              "    <tr style=\"text-align: right;\">\n",
              "      <th></th>\n",
              "      <th>Rank</th>\n",
              "      <th>Title</th>\n",
              "      <th>Genre</th>\n",
              "      <th>Description</th>\n",
              "      <th>Director</th>\n",
              "      <th>Actors</th>\n",
              "      <th>Year</th>\n",
              "      <th>Runtime (Minutes)</th>\n",
              "      <th>Rating</th>\n",
              "      <th>Votes</th>\n",
              "      <th>Revenue (Millions)</th>\n",
              "      <th>Metascore</th>\n",
              "    </tr>\n",
              "  </thead>\n",
              "  <tbody>\n",
              "    <tr>\n",
              "      <th>0</th>\n",
              "      <td>1</td>\n",
              "      <td>Guardians of the Galaxy</td>\n",
              "      <td>Action,Adventure,Sci-Fi</td>\n",
              "      <td>A group of intergalactic criminals are forced ...</td>\n",
              "      <td>James Gunn</td>\n",
              "      <td>Chris Pratt, Vin Diesel, Bradley Cooper, Zoe S...</td>\n",
              "      <td>2014</td>\n",
              "      <td>121</td>\n",
              "      <td>8.1</td>\n",
              "      <td>757074</td>\n",
              "      <td>333.13</td>\n",
              "      <td>76.0</td>\n",
              "    </tr>\n",
              "    <tr>\n",
              "      <th>1</th>\n",
              "      <td>2</td>\n",
              "      <td>Prometheus</td>\n",
              "      <td>Adventure,Mystery,Sci-Fi</td>\n",
              "      <td>Following clues to the origin of mankind, a te...</td>\n",
              "      <td>Ridley Scott</td>\n",
              "      <td>Noomi Rapace, Logan Marshall-Green, Michael Fa...</td>\n",
              "      <td>2012</td>\n",
              "      <td>124</td>\n",
              "      <td>7.0</td>\n",
              "      <td>485820</td>\n",
              "      <td>126.46</td>\n",
              "      <td>65.0</td>\n",
              "    </tr>\n",
              "    <tr>\n",
              "      <th>2</th>\n",
              "      <td>3</td>\n",
              "      <td>Split</td>\n",
              "      <td>Horror,Thriller</td>\n",
              "      <td>Three girls are kidnapped by a man with a diag...</td>\n",
              "      <td>M. Night Shyamalan</td>\n",
              "      <td>James McAvoy, Anya Taylor-Joy, Haley Lu Richar...</td>\n",
              "      <td>2016</td>\n",
              "      <td>117</td>\n",
              "      <td>7.3</td>\n",
              "      <td>157606</td>\n",
              "      <td>138.12</td>\n",
              "      <td>62.0</td>\n",
              "    </tr>\n",
              "    <tr>\n",
              "      <th>3</th>\n",
              "      <td>4</td>\n",
              "      <td>Sing</td>\n",
              "      <td>Animation,Comedy,Family</td>\n",
              "      <td>In a city of humanoid animals, a hustling thea...</td>\n",
              "      <td>Christophe Lourdelet</td>\n",
              "      <td>Matthew McConaughey,Reese Witherspoon, Seth Ma...</td>\n",
              "      <td>2016</td>\n",
              "      <td>108</td>\n",
              "      <td>7.2</td>\n",
              "      <td>60545</td>\n",
              "      <td>270.32</td>\n",
              "      <td>59.0</td>\n",
              "    </tr>\n",
              "    <tr>\n",
              "      <th>4</th>\n",
              "      <td>5</td>\n",
              "      <td>Suicide Squad</td>\n",
              "      <td>Action,Adventure,Fantasy</td>\n",
              "      <td>A secret government agency recruits some of th...</td>\n",
              "      <td>David Ayer</td>\n",
              "      <td>Will Smith, Jared Leto, Margot Robbie, Viola D...</td>\n",
              "      <td>2016</td>\n",
              "      <td>123</td>\n",
              "      <td>6.2</td>\n",
              "      <td>393727</td>\n",
              "      <td>325.02</td>\n",
              "      <td>40.0</td>\n",
              "    </tr>\n",
              "    <tr>\n",
              "      <th>5</th>\n",
              "      <td>6</td>\n",
              "      <td>The Great Wall</td>\n",
              "      <td>Action,Adventure,Fantasy</td>\n",
              "      <td>European mercenaries searching for black powde...</td>\n",
              "      <td>Yimou Zhang</td>\n",
              "      <td>Matt Damon, Tian Jing, Willem Dafoe, Andy Lau</td>\n",
              "      <td>2016</td>\n",
              "      <td>103</td>\n",
              "      <td>6.1</td>\n",
              "      <td>56036</td>\n",
              "      <td>45.13</td>\n",
              "      <td>42.0</td>\n",
              "    </tr>\n",
              "    <tr>\n",
              "      <th>6</th>\n",
              "      <td>7</td>\n",
              "      <td>La La Land</td>\n",
              "      <td>Comedy,Drama,Music</td>\n",
              "      <td>A jazz pianist falls for an aspiring actress i...</td>\n",
              "      <td>Damien Chazelle</td>\n",
              "      <td>Ryan Gosling, Emma Stone, Rosemarie DeWitt, J....</td>\n",
              "      <td>2016</td>\n",
              "      <td>128</td>\n",
              "      <td>8.3</td>\n",
              "      <td>258682</td>\n",
              "      <td>151.06</td>\n",
              "      <td>93.0</td>\n",
              "    </tr>\n",
              "    <tr>\n",
              "      <th>7</th>\n",
              "      <td>8</td>\n",
              "      <td>Mindhorn</td>\n",
              "      <td>Comedy</td>\n",
              "      <td>A has-been actor best known for playing the ti...</td>\n",
              "      <td>Sean Foley</td>\n",
              "      <td>Essie Davis, Andrea Riseborough, Julian Barrat...</td>\n",
              "      <td>2016</td>\n",
              "      <td>89</td>\n",
              "      <td>6.4</td>\n",
              "      <td>2490</td>\n",
              "      <td>NaN</td>\n",
              "      <td>71.0</td>\n",
              "    </tr>\n",
              "    <tr>\n",
              "      <th>8</th>\n",
              "      <td>9</td>\n",
              "      <td>The Lost City of Z</td>\n",
              "      <td>Action,Adventure,Biography</td>\n",
              "      <td>A true-life drama, centering on British explor...</td>\n",
              "      <td>James Gray</td>\n",
              "      <td>Charlie Hunnam, Robert Pattinson, Sienna Mille...</td>\n",
              "      <td>2016</td>\n",
              "      <td>141</td>\n",
              "      <td>7.1</td>\n",
              "      <td>7188</td>\n",
              "      <td>8.01</td>\n",
              "      <td>78.0</td>\n",
              "    </tr>\n",
              "    <tr>\n",
              "      <th>9</th>\n",
              "      <td>10</td>\n",
              "      <td>Passengers</td>\n",
              "      <td>Adventure,Drama,Romance</td>\n",
              "      <td>A spacecraft traveling to a distant colony pla...</td>\n",
              "      <td>Morten Tyldum</td>\n",
              "      <td>Jennifer Lawrence, Chris Pratt, Michael Sheen,...</td>\n",
              "      <td>2016</td>\n",
              "      <td>116</td>\n",
              "      <td>7.0</td>\n",
              "      <td>192177</td>\n",
              "      <td>100.01</td>\n",
              "      <td>41.0</td>\n",
              "    </tr>\n",
              "  </tbody>\n",
              "</table>\n",
              "</div>\n",
              "      <button class=\"colab-df-convert\" onclick=\"convertToInteractive('df-5beee5c7-7dfe-4689-a832-5b7dc78278e3')\"\n",
              "              title=\"Convert this dataframe to an interactive table.\"\n",
              "              style=\"display:none;\">\n",
              "        \n",
              "  <svg xmlns=\"http://www.w3.org/2000/svg\" height=\"24px\"viewBox=\"0 0 24 24\"\n",
              "       width=\"24px\">\n",
              "    <path d=\"M0 0h24v24H0V0z\" fill=\"none\"/>\n",
              "    <path d=\"M18.56 5.44l.94 2.06.94-2.06 2.06-.94-2.06-.94-.94-2.06-.94 2.06-2.06.94zm-11 1L8.5 8.5l.94-2.06 2.06-.94-2.06-.94L8.5 2.5l-.94 2.06-2.06.94zm10 10l.94 2.06.94-2.06 2.06-.94-2.06-.94-.94-2.06-.94 2.06-2.06.94z\"/><path d=\"M17.41 7.96l-1.37-1.37c-.4-.4-.92-.59-1.43-.59-.52 0-1.04.2-1.43.59L10.3 9.45l-7.72 7.72c-.78.78-.78 2.05 0 2.83L4 21.41c.39.39.9.59 1.41.59.51 0 1.02-.2 1.41-.59l7.78-7.78 2.81-2.81c.8-.78.8-2.07 0-2.86zM5.41 20L4 18.59l7.72-7.72 1.47 1.35L5.41 20z\"/>\n",
              "  </svg>\n",
              "      </button>\n",
              "      \n",
              "  <style>\n",
              "    .colab-df-container {\n",
              "      display:flex;\n",
              "      flex-wrap:wrap;\n",
              "      gap: 12px;\n",
              "    }\n",
              "\n",
              "    .colab-df-convert {\n",
              "      background-color: #E8F0FE;\n",
              "      border: none;\n",
              "      border-radius: 50%;\n",
              "      cursor: pointer;\n",
              "      display: none;\n",
              "      fill: #1967D2;\n",
              "      height: 32px;\n",
              "      padding: 0 0 0 0;\n",
              "      width: 32px;\n",
              "    }\n",
              "\n",
              "    .colab-df-convert:hover {\n",
              "      background-color: #E2EBFA;\n",
              "      box-shadow: 0px 1px 2px rgba(60, 64, 67, 0.3), 0px 1px 3px 1px rgba(60, 64, 67, 0.15);\n",
              "      fill: #174EA6;\n",
              "    }\n",
              "\n",
              "    [theme=dark] .colab-df-convert {\n",
              "      background-color: #3B4455;\n",
              "      fill: #D2E3FC;\n",
              "    }\n",
              "\n",
              "    [theme=dark] .colab-df-convert:hover {\n",
              "      background-color: #434B5C;\n",
              "      box-shadow: 0px 1px 3px 1px rgba(0, 0, 0, 0.15);\n",
              "      filter: drop-shadow(0px 1px 2px rgba(0, 0, 0, 0.3));\n",
              "      fill: #FFFFFF;\n",
              "    }\n",
              "  </style>\n",
              "\n",
              "      <script>\n",
              "        const buttonEl =\n",
              "          document.querySelector('#df-5beee5c7-7dfe-4689-a832-5b7dc78278e3 button.colab-df-convert');\n",
              "        buttonEl.style.display =\n",
              "          google.colab.kernel.accessAllowed ? 'block' : 'none';\n",
              "\n",
              "        async function convertToInteractive(key) {\n",
              "          const element = document.querySelector('#df-5beee5c7-7dfe-4689-a832-5b7dc78278e3');\n",
              "          const dataTable =\n",
              "            await google.colab.kernel.invokeFunction('convertToInteractive',\n",
              "                                                     [key], {});\n",
              "          if (!dataTable) return;\n",
              "\n",
              "          const docLinkHtml = 'Like what you see? Visit the ' +\n",
              "            '<a target=\"_blank\" href=https://colab.research.google.com/notebooks/data_table.ipynb>data table notebook</a>'\n",
              "            + ' to learn more about interactive tables.';\n",
              "          element.innerHTML = '';\n",
              "          dataTable['output_type'] = 'display_data';\n",
              "          await google.colab.output.renderOutput(dataTable, element);\n",
              "          const docLink = document.createElement('div');\n",
              "          docLink.innerHTML = docLinkHtml;\n",
              "          element.appendChild(docLink);\n",
              "        }\n",
              "      </script>\n",
              "    </div>\n",
              "  </div>\n",
              "  "
            ]
          },
          "metadata": {},
          "execution_count": 3
        }
      ],
      "source": [
        "data.head(10)"
      ]
    },
    {
      "cell_type": "markdown",
      "metadata": {
        "id": "iZr_qRkJBfVj"
      },
      "source": [
        "### 2. Check Last 10 Rows of The Dataset"
      ]
    },
    {
      "cell_type": "code",
      "execution_count": null,
      "metadata": {
        "colab": {
          "base_uri": "https://localhost:8080/",
          "height": 788
        },
        "id": "Rt8yFtxwBfVk",
        "outputId": "3399c975-16ca-4467-a7f4-1f7fdcd686cc"
      },
      "outputs": [
        {
          "output_type": "execute_result",
          "data": {
            "text/plain": [
              "     Rank                           Title                     Genre  \\\n",
              "990   991  Underworld: Rise of the Lycans  Action,Adventure,Fantasy   \n",
              "991   992                Taare Zameen Par        Drama,Family,Music   \n",
              "992   993            Take Me Home Tonight      Comedy,Drama,Romance   \n",
              "993   994        Resident Evil: Afterlife   Action,Adventure,Horror   \n",
              "994   995                       Project X                    Comedy   \n",
              "995   996            Secret in Their Eyes       Crime,Drama,Mystery   \n",
              "996   997                 Hostel: Part II                    Horror   \n",
              "997   998          Step Up 2: The Streets       Drama,Music,Romance   \n",
              "998   999                    Search Party          Adventure,Comedy   \n",
              "999  1000                      Nine Lives     Comedy,Family,Fantasy   \n",
              "\n",
              "                                           Description            Director  \\\n",
              "990  An origins story centered on the centuries-old...  Patrick Tatopoulos   \n",
              "991  An eight-year-old boy is thought to be a lazy ...          Aamir Khan   \n",
              "992  Four years after graduation, an awkward high s...       Michael Dowse   \n",
              "993  While still out to destroy the evil Umbrella C...  Paul W.S. Anderson   \n",
              "994  3 high school seniors throw a birthday party t...     Nima Nourizadeh   \n",
              "995  A tight-knit team of rising investigators, alo...           Billy Ray   \n",
              "996  Three American college students studying abroa...            Eli Roth   \n",
              "997  Romantic sparks occur between two dance studen...          Jon M. Chu   \n",
              "998  A pair of friends embark on a mission to reuni...      Scot Armstrong   \n",
              "999  A stuffy businessman finds himself trapped ins...    Barry Sonnenfeld   \n",
              "\n",
              "                                                Actors  Year  \\\n",
              "990  Rhona Mitra, Michael Sheen, Bill Nighy, Steven...  2009   \n",
              "991  Darsheel Safary, Aamir Khan, Tanay Chheda, Sac...  2007   \n",
              "992  Topher Grace, Anna Faris, Dan Fogler, Teresa P...  2011   \n",
              "993  Milla Jovovich, Ali Larter, Wentworth Miller,K...  2010   \n",
              "994  Thomas Mann, Oliver Cooper, Jonathan Daniel Br...  2012   \n",
              "995  Chiwetel Ejiofor, Nicole Kidman, Julia Roberts...  2015   \n",
              "996  Lauren German, Heather Matarazzo, Bijou Philli...  2007   \n",
              "997  Robert Hoffman, Briana Evigan, Cassie Ventura,...  2008   \n",
              "998  Adam Pally, T.J. Miller, Thomas Middleditch,Sh...  2014   \n",
              "999  Kevin Spacey, Jennifer Garner, Robbie Amell,Ch...  2016   \n",
              "\n",
              "     Runtime (Minutes)  Rating   Votes  Revenue (Millions)  Metascore  \n",
              "990                 92     6.6  129708               45.80       44.0  \n",
              "991                165     8.5  102697                1.20       42.0  \n",
              "992                 97     6.3   45419                6.92        NaN  \n",
              "993                 97     5.9  140900               60.13       37.0  \n",
              "994                 88     6.7  164088               54.72       48.0  \n",
              "995                111     6.2   27585                 NaN       45.0  \n",
              "996                 94     5.5   73152               17.54       46.0  \n",
              "997                 98     6.2   70699               58.01       50.0  \n",
              "998                 93     5.6    4881                 NaN       22.0  \n",
              "999                 87     5.3   12435               19.64       11.0  "
            ],
            "text/html": [
              "\n",
              "  <div id=\"df-85b4b347-83eb-495f-84ec-ad75655b3fb4\">\n",
              "    <div class=\"colab-df-container\">\n",
              "      <div>\n",
              "<style scoped>\n",
              "    .dataframe tbody tr th:only-of-type {\n",
              "        vertical-align: middle;\n",
              "    }\n",
              "\n",
              "    .dataframe tbody tr th {\n",
              "        vertical-align: top;\n",
              "    }\n",
              "\n",
              "    .dataframe thead th {\n",
              "        text-align: right;\n",
              "    }\n",
              "</style>\n",
              "<table border=\"1\" class=\"dataframe\">\n",
              "  <thead>\n",
              "    <tr style=\"text-align: right;\">\n",
              "      <th></th>\n",
              "      <th>Rank</th>\n",
              "      <th>Title</th>\n",
              "      <th>Genre</th>\n",
              "      <th>Description</th>\n",
              "      <th>Director</th>\n",
              "      <th>Actors</th>\n",
              "      <th>Year</th>\n",
              "      <th>Runtime (Minutes)</th>\n",
              "      <th>Rating</th>\n",
              "      <th>Votes</th>\n",
              "      <th>Revenue (Millions)</th>\n",
              "      <th>Metascore</th>\n",
              "    </tr>\n",
              "  </thead>\n",
              "  <tbody>\n",
              "    <tr>\n",
              "      <th>990</th>\n",
              "      <td>991</td>\n",
              "      <td>Underworld: Rise of the Lycans</td>\n",
              "      <td>Action,Adventure,Fantasy</td>\n",
              "      <td>An origins story centered on the centuries-old...</td>\n",
              "      <td>Patrick Tatopoulos</td>\n",
              "      <td>Rhona Mitra, Michael Sheen, Bill Nighy, Steven...</td>\n",
              "      <td>2009</td>\n",
              "      <td>92</td>\n",
              "      <td>6.6</td>\n",
              "      <td>129708</td>\n",
              "      <td>45.80</td>\n",
              "      <td>44.0</td>\n",
              "    </tr>\n",
              "    <tr>\n",
              "      <th>991</th>\n",
              "      <td>992</td>\n",
              "      <td>Taare Zameen Par</td>\n",
              "      <td>Drama,Family,Music</td>\n",
              "      <td>An eight-year-old boy is thought to be a lazy ...</td>\n",
              "      <td>Aamir Khan</td>\n",
              "      <td>Darsheel Safary, Aamir Khan, Tanay Chheda, Sac...</td>\n",
              "      <td>2007</td>\n",
              "      <td>165</td>\n",
              "      <td>8.5</td>\n",
              "      <td>102697</td>\n",
              "      <td>1.20</td>\n",
              "      <td>42.0</td>\n",
              "    </tr>\n",
              "    <tr>\n",
              "      <th>992</th>\n",
              "      <td>993</td>\n",
              "      <td>Take Me Home Tonight</td>\n",
              "      <td>Comedy,Drama,Romance</td>\n",
              "      <td>Four years after graduation, an awkward high s...</td>\n",
              "      <td>Michael Dowse</td>\n",
              "      <td>Topher Grace, Anna Faris, Dan Fogler, Teresa P...</td>\n",
              "      <td>2011</td>\n",
              "      <td>97</td>\n",
              "      <td>6.3</td>\n",
              "      <td>45419</td>\n",
              "      <td>6.92</td>\n",
              "      <td>NaN</td>\n",
              "    </tr>\n",
              "    <tr>\n",
              "      <th>993</th>\n",
              "      <td>994</td>\n",
              "      <td>Resident Evil: Afterlife</td>\n",
              "      <td>Action,Adventure,Horror</td>\n",
              "      <td>While still out to destroy the evil Umbrella C...</td>\n",
              "      <td>Paul W.S. Anderson</td>\n",
              "      <td>Milla Jovovich, Ali Larter, Wentworth Miller,K...</td>\n",
              "      <td>2010</td>\n",
              "      <td>97</td>\n",
              "      <td>5.9</td>\n",
              "      <td>140900</td>\n",
              "      <td>60.13</td>\n",
              "      <td>37.0</td>\n",
              "    </tr>\n",
              "    <tr>\n",
              "      <th>994</th>\n",
              "      <td>995</td>\n",
              "      <td>Project X</td>\n",
              "      <td>Comedy</td>\n",
              "      <td>3 high school seniors throw a birthday party t...</td>\n",
              "      <td>Nima Nourizadeh</td>\n",
              "      <td>Thomas Mann, Oliver Cooper, Jonathan Daniel Br...</td>\n",
              "      <td>2012</td>\n",
              "      <td>88</td>\n",
              "      <td>6.7</td>\n",
              "      <td>164088</td>\n",
              "      <td>54.72</td>\n",
              "      <td>48.0</td>\n",
              "    </tr>\n",
              "    <tr>\n",
              "      <th>995</th>\n",
              "      <td>996</td>\n",
              "      <td>Secret in Their Eyes</td>\n",
              "      <td>Crime,Drama,Mystery</td>\n",
              "      <td>A tight-knit team of rising investigators, alo...</td>\n",
              "      <td>Billy Ray</td>\n",
              "      <td>Chiwetel Ejiofor, Nicole Kidman, Julia Roberts...</td>\n",
              "      <td>2015</td>\n",
              "      <td>111</td>\n",
              "      <td>6.2</td>\n",
              "      <td>27585</td>\n",
              "      <td>NaN</td>\n",
              "      <td>45.0</td>\n",
              "    </tr>\n",
              "    <tr>\n",
              "      <th>996</th>\n",
              "      <td>997</td>\n",
              "      <td>Hostel: Part II</td>\n",
              "      <td>Horror</td>\n",
              "      <td>Three American college students studying abroa...</td>\n",
              "      <td>Eli Roth</td>\n",
              "      <td>Lauren German, Heather Matarazzo, Bijou Philli...</td>\n",
              "      <td>2007</td>\n",
              "      <td>94</td>\n",
              "      <td>5.5</td>\n",
              "      <td>73152</td>\n",
              "      <td>17.54</td>\n",
              "      <td>46.0</td>\n",
              "    </tr>\n",
              "    <tr>\n",
              "      <th>997</th>\n",
              "      <td>998</td>\n",
              "      <td>Step Up 2: The Streets</td>\n",
              "      <td>Drama,Music,Romance</td>\n",
              "      <td>Romantic sparks occur between two dance studen...</td>\n",
              "      <td>Jon M. Chu</td>\n",
              "      <td>Robert Hoffman, Briana Evigan, Cassie Ventura,...</td>\n",
              "      <td>2008</td>\n",
              "      <td>98</td>\n",
              "      <td>6.2</td>\n",
              "      <td>70699</td>\n",
              "      <td>58.01</td>\n",
              "      <td>50.0</td>\n",
              "    </tr>\n",
              "    <tr>\n",
              "      <th>998</th>\n",
              "      <td>999</td>\n",
              "      <td>Search Party</td>\n",
              "      <td>Adventure,Comedy</td>\n",
              "      <td>A pair of friends embark on a mission to reuni...</td>\n",
              "      <td>Scot Armstrong</td>\n",
              "      <td>Adam Pally, T.J. Miller, Thomas Middleditch,Sh...</td>\n",
              "      <td>2014</td>\n",
              "      <td>93</td>\n",
              "      <td>5.6</td>\n",
              "      <td>4881</td>\n",
              "      <td>NaN</td>\n",
              "      <td>22.0</td>\n",
              "    </tr>\n",
              "    <tr>\n",
              "      <th>999</th>\n",
              "      <td>1000</td>\n",
              "      <td>Nine Lives</td>\n",
              "      <td>Comedy,Family,Fantasy</td>\n",
              "      <td>A stuffy businessman finds himself trapped ins...</td>\n",
              "      <td>Barry Sonnenfeld</td>\n",
              "      <td>Kevin Spacey, Jennifer Garner, Robbie Amell,Ch...</td>\n",
              "      <td>2016</td>\n",
              "      <td>87</td>\n",
              "      <td>5.3</td>\n",
              "      <td>12435</td>\n",
              "      <td>19.64</td>\n",
              "      <td>11.0</td>\n",
              "    </tr>\n",
              "  </tbody>\n",
              "</table>\n",
              "</div>\n",
              "      <button class=\"colab-df-convert\" onclick=\"convertToInteractive('df-85b4b347-83eb-495f-84ec-ad75655b3fb4')\"\n",
              "              title=\"Convert this dataframe to an interactive table.\"\n",
              "              style=\"display:none;\">\n",
              "        \n",
              "  <svg xmlns=\"http://www.w3.org/2000/svg\" height=\"24px\"viewBox=\"0 0 24 24\"\n",
              "       width=\"24px\">\n",
              "    <path d=\"M0 0h24v24H0V0z\" fill=\"none\"/>\n",
              "    <path d=\"M18.56 5.44l.94 2.06.94-2.06 2.06-.94-2.06-.94-.94-2.06-.94 2.06-2.06.94zm-11 1L8.5 8.5l.94-2.06 2.06-.94-2.06-.94L8.5 2.5l-.94 2.06-2.06.94zm10 10l.94 2.06.94-2.06 2.06-.94-2.06-.94-.94-2.06-.94 2.06-2.06.94z\"/><path d=\"M17.41 7.96l-1.37-1.37c-.4-.4-.92-.59-1.43-.59-.52 0-1.04.2-1.43.59L10.3 9.45l-7.72 7.72c-.78.78-.78 2.05 0 2.83L4 21.41c.39.39.9.59 1.41.59.51 0 1.02-.2 1.41-.59l7.78-7.78 2.81-2.81c.8-.78.8-2.07 0-2.86zM5.41 20L4 18.59l7.72-7.72 1.47 1.35L5.41 20z\"/>\n",
              "  </svg>\n",
              "      </button>\n",
              "      \n",
              "  <style>\n",
              "    .colab-df-container {\n",
              "      display:flex;\n",
              "      flex-wrap:wrap;\n",
              "      gap: 12px;\n",
              "    }\n",
              "\n",
              "    .colab-df-convert {\n",
              "      background-color: #E8F0FE;\n",
              "      border: none;\n",
              "      border-radius: 50%;\n",
              "      cursor: pointer;\n",
              "      display: none;\n",
              "      fill: #1967D2;\n",
              "      height: 32px;\n",
              "      padding: 0 0 0 0;\n",
              "      width: 32px;\n",
              "    }\n",
              "\n",
              "    .colab-df-convert:hover {\n",
              "      background-color: #E2EBFA;\n",
              "      box-shadow: 0px 1px 2px rgba(60, 64, 67, 0.3), 0px 1px 3px 1px rgba(60, 64, 67, 0.15);\n",
              "      fill: #174EA6;\n",
              "    }\n",
              "\n",
              "    [theme=dark] .colab-df-convert {\n",
              "      background-color: #3B4455;\n",
              "      fill: #D2E3FC;\n",
              "    }\n",
              "\n",
              "    [theme=dark] .colab-df-convert:hover {\n",
              "      background-color: #434B5C;\n",
              "      box-shadow: 0px 1px 3px 1px rgba(0, 0, 0, 0.15);\n",
              "      filter: drop-shadow(0px 1px 2px rgba(0, 0, 0, 0.3));\n",
              "      fill: #FFFFFF;\n",
              "    }\n",
              "  </style>\n",
              "\n",
              "      <script>\n",
              "        const buttonEl =\n",
              "          document.querySelector('#df-85b4b347-83eb-495f-84ec-ad75655b3fb4 button.colab-df-convert');\n",
              "        buttonEl.style.display =\n",
              "          google.colab.kernel.accessAllowed ? 'block' : 'none';\n",
              "\n",
              "        async function convertToInteractive(key) {\n",
              "          const element = document.querySelector('#df-85b4b347-83eb-495f-84ec-ad75655b3fb4');\n",
              "          const dataTable =\n",
              "            await google.colab.kernel.invokeFunction('convertToInteractive',\n",
              "                                                     [key], {});\n",
              "          if (!dataTable) return;\n",
              "\n",
              "          const docLinkHtml = 'Like what you see? Visit the ' +\n",
              "            '<a target=\"_blank\" href=https://colab.research.google.com/notebooks/data_table.ipynb>data table notebook</a>'\n",
              "            + ' to learn more about interactive tables.';\n",
              "          element.innerHTML = '';\n",
              "          dataTable['output_type'] = 'display_data';\n",
              "          await google.colab.output.renderOutput(dataTable, element);\n",
              "          const docLink = document.createElement('div');\n",
              "          docLink.innerHTML = docLinkHtml;\n",
              "          element.appendChild(docLink);\n",
              "        }\n",
              "      </script>\n",
              "    </div>\n",
              "  </div>\n",
              "  "
            ]
          },
          "metadata": {},
          "execution_count": 4
        }
      ],
      "source": [
        "data.tail(10)"
      ]
    },
    {
      "cell_type": "markdown",
      "metadata": {
        "id": "4oQ9IzZABfVl"
      },
      "source": [
        "### 3. Find Shape of Our Dataset (Number of Rows And Number of Columns)"
      ]
    },
    {
      "cell_type": "code",
      "execution_count": null,
      "metadata": {
        "colab": {
          "base_uri": "https://localhost:8080/"
        },
        "id": "jADtybqLBfVm",
        "outputId": "bc4195ba-c724-4783-e8fe-60f36ba4b911"
      },
      "outputs": [
        {
          "output_type": "stream",
          "name": "stdout",
          "text": [
            "Number of Rows 1000\n",
            "Number of Columns 12\n"
          ]
        }
      ],
      "source": [
        "print(\"Number of Rows\",data.shape[0])\n",
        "print(\"Number of Columns\",data.shape[1])"
      ]
    },
    {
      "cell_type": "markdown",
      "metadata": {
        "id": "iAZcy5UuBfVn"
      },
      "source": [
        "### 4. Getting Information About Our Dataset Like Total Number Rows, Total Number of Columns, Datatypes of Each Column And Memory Requirement"
      ]
    },
    {
      "cell_type": "code",
      "execution_count": null,
      "metadata": {
        "colab": {
          "base_uri": "https://localhost:8080/"
        },
        "id": "IiE8OgzNBfVn",
        "outputId": "9783be7e-7659-438e-eb59-227d9f6504f5"
      },
      "outputs": [
        {
          "output_type": "stream",
          "name": "stdout",
          "text": [
            "<class 'pandas.core.frame.DataFrame'>\n",
            "RangeIndex: 1000 entries, 0 to 999\n",
            "Data columns (total 12 columns):\n",
            " #   Column              Non-Null Count  Dtype  \n",
            "---  ------              --------------  -----  \n",
            " 0   Rank                1000 non-null   int64  \n",
            " 1   Title               1000 non-null   object \n",
            " 2   Genre               1000 non-null   object \n",
            " 3   Description         1000 non-null   object \n",
            " 4   Director            1000 non-null   object \n",
            " 5   Actors              1000 non-null   object \n",
            " 6   Year                1000 non-null   int64  \n",
            " 7   Runtime (Minutes)   1000 non-null   int64  \n",
            " 8   Rating              1000 non-null   float64\n",
            " 9   Votes               1000 non-null   int64  \n",
            " 10  Revenue (Millions)  872 non-null    float64\n",
            " 11  Metascore           936 non-null    float64\n",
            "dtypes: float64(3), int64(4), object(5)\n",
            "memory usage: 93.9+ KB\n"
          ]
        }
      ],
      "source": [
        "data.info()"
      ]
    },
    {
      "cell_type": "code",
      "execution_count": null,
      "metadata": {
        "id": "vk4C1PCxBfVo"
      },
      "outputs": [],
      "source": []
    },
    {
      "cell_type": "markdown",
      "metadata": {
        "id": "GwWUTxE-BfVp"
      },
      "source": [
        "### 5. Check Missing Values In The Dataset"
      ]
    },
    {
      "cell_type": "code",
      "execution_count": null,
      "metadata": {
        "colab": {
          "base_uri": "https://localhost:8080/"
        },
        "id": "xVan7JNCBfVq",
        "outputId": "37fc81cc-1fae-4b3e-f642-cc28ebd675c1"
      },
      "outputs": [
        {
          "output_type": "execute_result",
          "data": {
            "text/plain": [
              "True"
            ]
          },
          "metadata": {},
          "execution_count": 12
        }
      ],
      "source": [
        "data.isnull().values.any()"
      ]
    },
    {
      "cell_type": "code",
      "execution_count": null,
      "metadata": {
        "colab": {
          "base_uri": "https://localhost:8080/",
          "height": 567
        },
        "id": "xRa8QJPTBfVr",
        "outputId": "caa97040-612d-4bfc-c95f-971d49328881"
      },
      "outputs": [
        {
          "output_type": "execute_result",
          "data": {
            "text/plain": [
              "<Axes: >"
            ]
          },
          "metadata": {},
          "execution_count": 14
        },
        {
          "output_type": "display_data",
          "data": {
            "text/plain": [
              "<Figure size 640x480 with 2 Axes>"
            ],
            "image/png": "[encoded data removed]"
          },
          "metadata": {}
        }
      ],
      "source": [
        "sns.heatmap(data.isnull())"
      ]
    },
    {
      "cell_type": "code",
      "execution_count": null,
      "metadata": {
        "colab": {
          "base_uri": "https://localhost:8080/"
        },
        "id": "78S86SW0BfVr",
        "outputId": "d18f97fb-8c42-45aa-930e-d31a65ba9a7e"
      },
      "outputs": [
        {
          "output_type": "execute_result",
          "data": {
            "text/plain": [
              "Rank                   0.0\n",
              "Title                  0.0\n",
              "Genre                  0.0\n",
              "Description            0.0\n",
              "Director               0.0\n",
              "Actors                 0.0\n",
              "Year                   0.0\n",
              "Runtime (Minutes)      0.0\n",
              "Rating                 0.0\n",
              "Votes                  0.0\n",
              "Revenue (Millions)    12.8\n",
              "Metascore              6.4\n",
              "dtype: float64"
            ]
          },
          "metadata": {},
          "execution_count": 15
        }
      ],
      "source": [
        "data.isnull().sum()*100 / len(data)"
      ]
    },
    {
      "cell_type": "markdown",
      "metadata": {
        "id": "9QahQQ-bBfVs"
      },
      "source": [
        "### 6. Drop All The  Missing Values"
      ]
    },
    {
      "cell_type": "code",
      "execution_count": null,
      "metadata": {
        "id": "joQKopRTBfVs"
      },
      "outputs": [],
      "source": [
        "data.dropna(axis=0,inplace=True)"
      ]
    },
    {
      "cell_type": "code",
      "execution_count": null,
      "metadata": {
        "id": "w7ftct9MBfVt"
      },
      "outputs": [],
      "source": []
    },
    {
      "cell_type": "markdown",
      "metadata": {
        "id": "5h0jvctwBfVt"
      },
      "source": [
        "### 7. Check For Duplicate Data"
      ]
    },
    {
      "cell_type": "code",
      "execution_count": null,
      "metadata": {
        "colab": {
          "base_uri": "https://localhost:8080/"
        },
        "id": "gZpXNlfkBfVt",
        "outputId": "0a93d6ae-f472-4715-f3a6-842870b000b5"
      },
      "outputs": [
        {
          "output_type": "execute_result",
          "data": {
            "text/plain": [
              "False"
            ]
          },
          "metadata": {},
          "execution_count": 18
        }
      ],
      "source": [
        "data.isnull().values.any()"
      ]
    },
    {
      "cell_type": "markdown",
      "metadata": {
        "id": "u8G8-do3BfVu"
      },
      "source": [
        "### 8. Get Overall Statistics About The DataFrame"
      ]
    },
    {
      "cell_type": "code",
      "execution_count": null,
      "metadata": {
        "colab": {
          "base_uri": "https://localhost:8080/",
          "height": 542
        },
        "id": "Te6alqeKBfVv",
        "outputId": "e1e16847-5f75-4848-dd1e-d31511fd0a7e"
      },
      "outputs": [
        {
          "output_type": "execute_result",
          "data": {
            "text/plain": [
              "               Rank     Title                    Genre  \\\n",
              "count    838.000000       838                      838   \n",
              "unique          NaN       837                      189   \n",
              "top             NaN  The Host  Action,Adventure,Sci-Fi   \n",
              "freq            NaN         2                       50   \n",
              "mean     485.247017       NaN                      NaN   \n",
              "std      286.572065       NaN                      NaN   \n",
              "min        1.000000       NaN                      NaN   \n",
              "25%      238.250000       NaN                      NaN   \n",
              "50%      475.500000       NaN                      NaN   \n",
              "75%      729.750000       NaN                      NaN   \n",
              "max     1000.000000       NaN                      NaN   \n",
              "\n",
              "                                              Description      Director  \\\n",
              "count                                                 838           838   \n",
              "unique                                                838           524   \n",
              "top     A group of intergalactic criminals are forced ...  Ridley Scott   \n",
              "freq                                                    1             8   \n",
              "mean                                                  NaN           NaN   \n",
              "std                                                   NaN           NaN   \n",
              "min                                                   NaN           NaN   \n",
              "25%                                                   NaN           NaN   \n",
              "50%                                                   NaN           NaN   \n",
              "75%                                                   NaN           NaN   \n",
              "max                                                   NaN           NaN   \n",
              "\n",
              "                                                   Actors        Year  \\\n",
              "count                                                 838   838.00000   \n",
              "unique                                                834         NaN   \n",
              "top     Jennifer Lawrence, Josh Hutcherson, Liam Hemsw...         NaN   \n",
              "freq                                                    2         NaN   \n",
              "mean                                                  NaN  2012.50716   \n",
              "std                                                   NaN     3.17236   \n",
              "min                                                   NaN  2006.00000   \n",
              "25%                                                   NaN  2010.00000   \n",
              "50%                                                   NaN  2013.00000   \n",
              "75%                                                   NaN  2015.00000   \n",
              "max                                                   NaN  2016.00000   \n",
              "\n",
              "        Runtime (Minutes)      Rating         Votes  Revenue (Millions)  \\\n",
              "count          838.000000  838.000000  8.380000e+02          838.000000   \n",
              "unique                NaN         NaN           NaN                 NaN   \n",
              "top                   NaN         NaN           NaN                 NaN   \n",
              "freq                  NaN         NaN           NaN                 NaN   \n",
              "mean           114.638425    6.814320  1.932303e+05           84.564558   \n",
              "std             18.470922    0.877754  1.930990e+05          104.520227   \n",
              "min             66.000000    1.900000  1.780000e+02            0.000000   \n",
              "25%            101.000000    6.300000  6.127650e+04           13.967500   \n",
              "50%            112.000000    6.900000  1.368795e+05           48.150000   \n",
              "75%            124.000000    7.500000  2.710830e+05          116.800000   \n",
              "max            187.000000    9.000000  1.791916e+06          936.630000   \n",
              "\n",
              "         Metascore  \n",
              "count   838.000000  \n",
              "unique         NaN  \n",
              "top            NaN  \n",
              "freq           NaN  \n",
              "mean     59.575179  \n",
              "std      16.952416  \n",
              "min      11.000000  \n",
              "25%      47.000000  \n",
              "50%      60.000000  \n",
              "75%      72.000000  \n",
              "max     100.000000  "
            ],
            "text/html": [
              "\n",
              "  <div id=\"df-d304cd2e-542f-48e0-ba9e-7d4ce0b455a7\">\n",
              "    <div class=\"colab-df-container\">\n",
              "      <div>\n",
              "<style scoped>\n",
              "    .dataframe tbody tr th:only-of-type {\n",
              "        vertical-align: middle;\n",
              "    }\n",
              "\n",
              "    .dataframe tbody tr th {\n",
              "        vertical-align: top;\n",
              "    }\n",
              "\n",
              "    .dataframe thead th {\n",
              "        text-align: right;\n",
              "    }\n",
              "</style>\n",
              "<table border=\"1\" class=\"dataframe\">\n",
              "  <thead>\n",
              "    <tr style=\"text-align: right;\">\n",
              "      <th></th>\n",
              "      <th>Rank</th>\n",
              "      <th>Title</th>\n",
              "      <th>Genre</th>\n",
              "      <th>Description</th>\n",
              "      <th>Director</th>\n",
              "      <th>Actors</th>\n",
              "      <th>Year</th>\n",
              "      <th>Runtime (Minutes)</th>\n",
              "      <th>Rating</th>\n",
              "      <th>Votes</th>\n",
              "      <th>Revenue (Millions)</th>\n",
              "      <th>Metascore</th>\n",
              "    </tr>\n",
              "  </thead>\n",
              "  <tbody>\n",
              "    <tr>\n",
              "      <th>count</th>\n",
              "      <td>838.000000</td>\n",
              "      <td>838</td>\n",
              "      <td>838</td>\n",
              "      <td>838</td>\n",
              "      <td>838</td>\n",
              "      <td>838</td>\n",
              "      <td>838.00000</td>\n",
              "      <td>838.000000</td>\n",
              "      <td>838.000000</td>\n",
              "      <td>8.380000e+02</td>\n",
              "      <td>838.000000</td>\n",
              "      <td>838.000000</td>\n",
              "    </tr>\n",
              "    <tr>\n",
              "      <th>unique</th>\n",
              "      <td>NaN</td>\n",
              "      <td>837</td>\n",
              "      <td>189</td>\n",
              "      <td>838</td>\n",
              "      <td>524</td>\n",
              "      <td>834</td>\n",
              "      <td>NaN</td>\n",
              "      <td>NaN</td>\n",
              "      <td>NaN</td>\n",
              "      <td>NaN</td>\n",
              "      <td>NaN</td>\n",
              "      <td>NaN</td>\n",
              "    </tr>\n",
              "    <tr>\n",
              "      <th>top</th>\n",
              "      <td>NaN</td>\n",
              "      <td>The Host</td>\n",
              "      <td>Action,Adventure,Sci-Fi</td>\n",
              "      <td>A group of intergalactic criminals are forced ...</td>\n",
              "      <td>Ridley Scott</td>\n",
              "      <td>Jennifer Lawrence, Josh Hutcherson, Liam Hemsw...</td>\n",
              "      <td>NaN</td>\n",
              "      <td>NaN</td>\n",
              "      <td>NaN</td>\n",
              "      <td>NaN</td>\n",
              "      <td>NaN</td>\n",
              "      <td>NaN</td>\n",
              "    </tr>\n",
              "    <tr>\n",
              "      <th>freq</th>\n",
              "      <td>NaN</td>\n",
              "      <td>2</td>\n",
              "      <td>50</td>\n",
              "      <td>1</td>\n",
              "      <td>8</td>\n",
              "      <td>2</td>\n",
              "      <td>NaN</td>\n",
              "      <td>NaN</td>\n",
              "      <td>NaN</td>\n",
              "      <td>NaN</td>\n",
              "      <td>NaN</td>\n",
              "      <td>NaN</td>\n",
              "    </tr>\n",
              "    <tr>\n",
              "      <th>mean</th>\n",
              "      <td>485.247017</td>\n",
              "      <td>NaN</td>\n",
              "      <td>NaN</td>\n",
              "      <td>NaN</td>\n",
              "      <td>NaN</td>\n",
              "      <td>NaN</td>\n",
              "      <td>2012.50716</td>\n",
              "      <td>114.638425</td>\n",
              "      <td>6.814320</td>\n",
              "      <td>1.932303e+05</td>\n",
              "      <td>84.564558</td>\n",
              "      <td>59.575179</td>\n",
              "    </tr>\n",
              "    <tr>\n",
              "      <th>std</th>\n",
              "      <td>286.572065</td>\n",
              "      <td>NaN</td>\n",
              "      <td>NaN</td>\n",
              "      <td>NaN</td>\n",
              "      <td>NaN</td>\n",
              "      <td>NaN</td>\n",
              "      <td>3.17236</td>\n",
              "      <td>18.470922</td>\n",
              "      <td>0.877754</td>\n",
              "      <td>1.930990e+05</td>\n",
              "      <td>104.520227</td>\n",
              "      <td>16.952416</td>\n",
              "    </tr>\n",
              "    <tr>\n",
              "      <th>min</th>\n",
              "      <td>1.000000</td>\n",
              "      <td>NaN</td>\n",
              "      <td>NaN</td>\n",
              "      <td>NaN</td>\n",
              "      <td>NaN</td>\n",
              "      <td>NaN</td>\n",
              "      <td>2006.00000</td>\n",
              "      <td>66.000000</td>\n",
              "      <td>1.900000</td>\n",
              "      <td>1.780000e+02</td>\n",
              "      <td>0.000000</td>\n",
              "      <td>11.000000</td>\n",
              "    </tr>\n",
              "    <tr>\n",
              "      <th>25%</th>\n",
              "      <td>238.250000</td>\n",
              "      <td>NaN</td>\n",
              "      <td>NaN</td>\n",
              "      <td>NaN</td>\n",
              "      <td>NaN</td>\n",
              "      <td>NaN</td>\n",
              "      <td>2010.00000</td>\n",
              "      <td>101.000000</td>\n",
              "      <td>6.300000</td>\n",
              "      <td>6.127650e+04</td>\n",
              "      <td>13.967500</td>\n",
              "      <td>47.000000</td>\n",
              "    </tr>\n",
              "    <tr>\n",
              "      <th>50%</th>\n",
              "      <td>475.500000</td>\n",
              "      <td>NaN</td>\n",
              "      <td>NaN</td>\n",
              "      <td>NaN</td>\n",
              "      <td>NaN</td>\n",
              "      <td>NaN</td>\n",
              "      <td>2013.00000</td>\n",
              "      <td>112.000000</td>\n",
              "      <td>6.900000</td>\n",
              "      <td>1.368795e+05</td>\n",
              "      <td>48.150000</td>\n",
              "      <td>60.000000</td>\n",
              "    </tr>\n",
              "    <tr>\n",
              "      <th>75%</th>\n",
              "      <td>729.750000</td>\n",
              "      <td>NaN</td>\n",
              "      <td>NaN</td>\n",
              "      <td>NaN</td>\n",
              "      <td>NaN</td>\n",
              "      <td>NaN</td>\n",
              "      <td>2015.00000</td>\n",
              "      <td>124.000000</td>\n",
              "      <td>7.500000</td>\n",
              "      <td>2.710830e+05</td>\n",
              "      <td>116.800000</td>\n",
              "      <td>72.000000</td>\n",
              "    </tr>\n",
              "    <tr>\n",
              "      <th>max</th>\n",
              "      <td>1000.000000</td>\n",
              "      <td>NaN</td>\n",
              "      <td>NaN</td>\n",
              "      <td>NaN</td>\n",
              "      <td>NaN</td>\n",
              "      <td>NaN</td>\n",
              "      <td>2016.00000</td>\n",
              "      <td>187.000000</td>\n",
              "      <td>9.000000</td>\n",
              "      <td>1.791916e+06</td>\n",
              "      <td>936.630000</td>\n",
              "      <td>100.000000</td>\n",
              "    </tr>\n",
              "  </tbody>\n",
              "</table>\n",
              "</div>\n",
              "      <button class=\"colab-df-convert\" onclick=\"convertToInteractive('df-d304cd2e-542f-48e0-ba9e-7d4ce0b455a7')\"\n",
              "              title=\"Convert this dataframe to an interactive table.\"\n",
              "              style=\"display:none;\">\n",
              "        \n",
              "  <svg xmlns=\"http://www.w3.org/2000/svg\" height=\"24px\"viewBox=\"0 0 24 24\"\n",
              "       width=\"24px\">\n",
              "    <path d=\"M0 0h24v24H0V0z\" fill=\"none\"/>\n",
              "    <path d=\"M18.56 5.44l.94 2.06.94-2.06 2.06-.94-2.06-.94-.94-2.06-.94 2.06-2.06.94zm-11 1L8.5 8.5l.94-2.06 2.06-.94-2.06-.94L8.5 2.5l-.94 2.06-2.06.94zm10 10l.94 2.06.94-2.06 2.06-.94-2.06-.94-.94-2.06-.94 2.06-2.06.94z\"/><path d=\"M17.41 7.96l-1.37-1.37c-.4-.4-.92-.59-1.43-.59-.52 0-1.04.2-1.43.59L10.3 9.45l-7.72 7.72c-.78.78-.78 2.05 0 2.83L4 21.41c.39.39.9.59 1.41.59.51 0 1.02-.2 1.41-.59l7.78-7.78 2.81-2.81c.8-.78.8-2.07 0-2.86zM5.41 20L4 18.59l7.72-7.72 1.47 1.35L5.41 20z\"/>\n",
              "  </svg>\n",
              "      </button>\n",
              "      \n",
              "  <style>\n",
              "    .colab-df-container {\n",
              "      display:flex;\n",
              "      flex-wrap:wrap;\n",
              "      gap: 12px;\n",
              "    }\n",
              "\n",
              "    .colab-df-convert {\n",
              "      background-color: #E8F0FE;\n",
              "      border: none;\n",
              "      border-radius: 50%;\n",
              "      cursor: pointer;\n",
              "      display: none;\n",
              "      fill: #1967D2;\n",
              "      height: 32px;\n",
              "      padding: 0 0 0 0;\n",
              "      width: 32px;\n",
              "    }\n",
              "\n",
              "    .colab-df-convert:hover {\n",
              "      background-color: #E2EBFA;\n",
              "      box-shadow: 0px 1px 2px rgba(60, 64, 67, 0.3), 0px 1px 3px 1px rgba(60, 64, 67, 0.15);\n",
              "      fill: #174EA6;\n",
              "    }\n",
              "\n",
              "    [theme=dark] .colab-df-convert {\n",
              "      background-color: #3B4455;\n",
              "      fill: #D2E3FC;\n",
              "    }\n",
              "\n",
              "    [theme=dark] .colab-df-convert:hover {\n",
              "      background-color: #434B5C;\n",
              "      box-shadow: 0px 1px 3px 1px rgba(0, 0, 0, 0.15);\n",
              "      filter: drop-shadow(0px 1px 2px rgba(0, 0, 0, 0.3));\n",
              "      fill: #FFFFFF;\n",
              "    }\n",
              "  </style>\n",
              "\n",
              "      <script>\n",
              "        const buttonEl =\n",
              "          document.querySelector('#df-d304cd2e-542f-48e0-ba9e-7d4ce0b455a7 button.colab-df-convert');\n",
              "        buttonEl.style.display =\n",
              "          google.colab.kernel.accessAllowed ? 'block' : 'none';\n",
              "\n",
              "        async function convertToInteractive(key) {\n",
              "          const element = document.querySelector('#df-d304cd2e-542f-48e0-ba9e-7d4ce0b455a7');\n",
              "          const dataTable =\n",
              "            await google.colab.kernel.invokeFunction('convertToInteractive',\n",
              "                                                     [key], {});\n",
              "          if (!dataTable) return;\n",
              "\n",
              "          const docLinkHtml = 'Like what you see? Visit the ' +\n",
              "            '<a target=\"_blank\" href=https://colab.research.google.com/notebooks/data_table.ipynb>data table notebook</a>'\n",
              "            + ' to learn more about interactive tables.';\n",
              "          element.innerHTML = '';\n",
              "          dataTable['output_type'] = 'display_data';\n",
              "          await google.colab.output.renderOutput(dataTable, element);\n",
              "          const docLink = document.createElement('div');\n",
              "          docLink.innerHTML = docLinkHtml;\n",
              "          element.appendChild(docLink);\n",
              "        }\n",
              "      </script>\n",
              "    </div>\n",
              "  </div>\n",
              "  "
            ]
          },
          "metadata": {},
          "execution_count": 21
        }
      ],
      "source": [
        "data.describe(include='all')"
      ]
    },
    {
      "cell_type": "code",
      "execution_count": null,
      "metadata": {
        "colab": {
          "base_uri": "https://localhost:8080/"
        },
        "id": "vm3Cj0vWBfVv",
        "outputId": "7e987ce9-ed79-407e-ea02-a9682f694c45"
      },
      "outputs": [
        {
          "output_type": "execute_result",
          "data": {
            "text/plain": [
              "82     The Wolf of Wall Street\n",
              "88           The Hateful Eight\n",
              "311             La vie d'Adèle\n",
              "Name: Title, dtype: object"
            ]
          },
          "metadata": {},
          "execution_count": 25
        }
      ],
      "source": [
        "data[data['Runtime (Minutes)']>=180]['Title']"
      ]
    },
    {
      "cell_type": "markdown",
      "metadata": {
        "id": "DrJtkbjVBfVw"
      },
      "source": [
        "### 9. Display Title of The Movie Having Runtime >= 180 Minutes"
      ]
    },
    {
      "cell_type": "markdown",
      "metadata": {
        "id": "Lwhf5oLKBfVx"
      },
      "source": [
        "### 10. In Which Year There Was The Highest Average Voting?"
      ]
    },
    {
      "cell_type": "code",
      "execution_count": null,
      "metadata": {
        "colab": {
          "base_uri": "https://localhost:8080/"
        },
        "id": "pLHXSoDWBfVy",
        "outputId": "a6c87c98-86a2-4e36-b71a-37ba5ed663e8"
      },
      "outputs": [
        {
          "output_type": "execute_result",
          "data": {
            "text/plain": [
              "Year\n",
              "2012    290861.483871\n",
              "2006    277232.219512\n",
              "2009    267180.577778\n",
              "2008    266580.145833\n",
              "2007    266530.704545\n",
              "2010    261082.929825\n",
              "2011    259254.736842\n",
              "2013    225531.892857\n",
              "2014    211926.881720\n",
              "2015    129512.651376\n",
              "2016     68437.823232\n",
              "Name: Votes, dtype: float64"
            ]
          },
          "metadata": {},
          "execution_count": 40
        }
      ],
      "source": [
        "data.groupby(['Year']) ['Votes'].mean().sort_values(ascending=False)"
      ]
    },
    {
      "cell_type": "code",
      "execution_count": null,
      "metadata": {
        "colab": {
          "base_uri": "https://localhost:8080/",
          "height": 466
        },
        "id": "4ddiaPxGBfVy",
        "outputId": "6603c87e-cd66-42ed-ee9b-de1c51d97cd6"
      },
      "outputs": [
        {
          "output_type": "execute_result",
          "data": {
            "text/plain": [
              "<Axes: xlabel='Year', ylabel='Votes'>"
            ]
          },
          "metadata": {},
          "execution_count": 32
        },
        {
          "output_type": "display_data",
          "data": {
            "text/plain": [
              "<Figure size 640x480 with 1 Axes>"
            ],
            "image/png": "[encoded data removed]"
          },
          "metadata": {}
        }
      ],
      "source": [
        "sns.barplot(x='Year',y='Votes',data=data)"
      ]
    },
    {
      "cell_type": "code",
      "execution_count": null,
      "metadata": {
        "id": "-C2deOQcBfV_"
      },
      "outputs": [],
      "source": []
    },
    {
      "cell_type": "markdown",
      "metadata": {
        "id": "YRpqDeNWBfV_"
      },
      "source": [
        "### 11. In Which Year There Was The Highest Average Revenue?"
      ]
    },
    {
      "cell_type": "code",
      "execution_count": null,
      "metadata": {
        "colab": {
          "base_uri": "https://localhost:8080/"
        },
        "id": "5sUDh_ihBfV_",
        "outputId": "ab317def-9640-45dd-abdf-a9b1d4166c5b"
      },
      "outputs": [
        {
          "output_type": "execute_result",
          "data": {
            "text/plain": [
              "Year\n",
              "2009    115.742000\n",
              "2012    110.103065\n",
              "2010    105.081579\n",
              "2008     97.525417\n",
              "2011     93.703333\n",
              "2007     93.074091\n",
              "2013     88.084643\n",
              "2006     87.255610\n",
              "2014     85.433656\n",
              "2015     80.725596\n",
              "2016     55.566111\n",
              "Name: Revenue (Millions), dtype: float64"
            ]
          },
          "metadata": {},
          "execution_count": 39
        }
      ],
      "source": [
        "data.groupby(['Year'])['Revenue (Millions)'].mean().sort_values(ascending=False)"
      ]
    },
    {
      "cell_type": "markdown",
      "metadata": {
        "id": "fvEjfffVBfWA"
      },
      "source": [
        "### 12. Find The Average Rating For Each Director"
      ]
    },
    {
      "cell_type": "code",
      "execution_count": null,
      "metadata": {
        "colab": {
          "base_uri": "https://localhost:8080/"
        },
        "id": "sZbruxA1BfWA",
        "outputId": "4d414bbb-2b44-49ca-f43d-2f86bee09e68"
      },
      "outputs": [
        {
          "output_type": "execute_result",
          "data": {
            "text/plain": [
              "Director\n",
              "Christopher Nolan                   8.68\n",
              "Olivier Nakache                     8.60\n",
              "Makoto Shinkai                      8.60\n",
              "Florian Henckel von Donnersmarck    8.50\n",
              "Aamir Khan                          8.50\n",
              "                                    ... \n",
              "Sam Taylor-Johnson                  4.10\n",
              "Joey Curtis                         4.00\n",
              "George Nolfi                        3.90\n",
              "James Wong                          2.70\n",
              "Jason Friedberg                     1.90\n",
              "Name: Rating, Length: 524, dtype: float64"
            ]
          },
          "metadata": {},
          "execution_count": 42
        }
      ],
      "source": [
        "data.groupby(['Director'])['Rating'].mean().sort_values(ascending=False)"
      ]
    },
    {
      "cell_type": "code",
      "execution_count": null,
      "metadata": {
        "id": "CMHgD0rtBfWB",
        "outputId": "9f13545d-72ae-47d2-cc08-49c018e29138"
      },
      "outputs": [
        {
          "data": {
            "text/plain": [
              "Director\n",
              "Nitesh Tiwari        8.80\n",
              "Christopher Nolan    8.68\n",
              "Makoto Shinkai       8.60\n",
              "Olivier Nakache      8.60\n",
              "Aamir Khan           8.50\n",
              "                     ... \n",
              "Femi Oyeniran        3.50\n",
              "Jonathan Holbrook    3.20\n",
              "Shawn Burkett        2.70\n",
              "James Wong           2.70\n",
              "Jason Friedberg      1.90\n",
              "Name: Rating, Length: 644, dtype: float64"
            ]
          },
          "execution_count": 26,
          "metadata": {},
          "output_type": "execute_result"
        }
      ],
      "source": []
    },
    {
      "cell_type": "markdown",
      "metadata": {
        "id": "wwlgNcJNBfWB"
      },
      "source": [
        "### 13. Display Top 10 Lengthy Movies Title and Runtime"
      ]
    },
    {
      "cell_type": "code",
      "execution_count": 92,
      "metadata": {
        "colab": {
          "base_uri": "https://localhost:8080/",
          "height": 394
        },
        "id": "lbHXZD2EBfWB",
        "outputId": "325607c3-7432-434c-c098-18da1aa4d95c"
      },
      "outputs": [
        {
          "output_type": "execute_result",
          "data": {
            "text/plain": [
              "                                          Runtime (Minutes)\n",
              "Title                                                      \n",
              "The Hateful Eight                                       187\n",
              "The Wolf of Wall Street                                 180\n",
              "La vie d'Adèle                                          180\n",
              "Cloud Atlas                                             172\n",
              "3 Idiots                                                170\n",
              "Pirates of the Caribbean: At World's End                169\n",
              "Interstellar                                            169\n",
              "The Hobbit: An Unexpected Journey                       169\n",
              "The Curious Case of Benjamin Button                     166\n",
              "Transformers: Age of Extinction                         165"
            ],
            "text/html": [
              "\n",
              "  <div id=\"df-34c9c45f-18f5-4c2b-bb96-5355f015cb22\">\n",
              "    <div class=\"colab-df-container\">\n",
              "      <div>\n",
              "<style scoped>\n",
              "    .dataframe tbody tr th:only-of-type {\n",
              "        vertical-align: middle;\n",
              "    }\n",
              "\n",
              "    .dataframe tbody tr th {\n",
              "        vertical-align: top;\n",
              "    }\n",
              "\n",
              "    .dataframe thead th {\n",
              "        text-align: right;\n",
              "    }\n",
              "</style>\n",
              "<table border=\"1\" class=\"dataframe\">\n",
              "  <thead>\n",
              "    <tr style=\"text-align: right;\">\n",
              "      <th></th>\n",
              "      <th>Runtime (Minutes)</th>\n",
              "    </tr>\n",
              "    <tr>\n",
              "      <th>Title</th>\n",
              "      <th></th>\n",
              "    </tr>\n",
              "  </thead>\n",
              "  <tbody>\n",
              "    <tr>\n",
              "      <th>The Hateful Eight</th>\n",
              "      <td>187</td>\n",
              "    </tr>\n",
              "    <tr>\n",
              "      <th>The Wolf of Wall Street</th>\n",
              "      <td>180</td>\n",
              "    </tr>\n",
              "    <tr>\n",
              "      <th>La vie d'Adèle</th>\n",
              "      <td>180</td>\n",
              "    </tr>\n",
              "    <tr>\n",
              "      <th>Cloud Atlas</th>\n",
              "      <td>172</td>\n",
              "    </tr>\n",
              "    <tr>\n",
              "      <th>3 Idiots</th>\n",
              "      <td>170</td>\n",
              "    </tr>\n",
              "    <tr>\n",
              "      <th>Pirates of the Caribbean: At World's End</th>\n",
              "      <td>169</td>\n",
              "    </tr>\n",
              "    <tr>\n",
              "      <th>Interstellar</th>\n",
              "      <td>169</td>\n",
              "    </tr>\n",
              "    <tr>\n",
              "      <th>The Hobbit: An Unexpected Journey</th>\n",
              "      <td>169</td>\n",
              "    </tr>\n",
              "    <tr>\n",
              "      <th>The Curious Case of Benjamin Button</th>\n",
              "      <td>166</td>\n",
              "    </tr>\n",
              "    <tr>\n",
              "      <th>Transformers: Age of Extinction</th>\n",
              "      <td>165</td>\n",
              "    </tr>\n",
              "  </tbody>\n",
              "</table>\n",
              "</div>\n",
              "      <button class=\"colab-df-convert\" onclick=\"convertToInteractive('df-34c9c45f-18f5-4c2b-bb96-5355f015cb22')\"\n",
              "              title=\"Convert this dataframe to an interactive table.\"\n",
              "              style=\"display:none;\">\n",
              "        \n",
              "  <svg xmlns=\"http://www.w3.org/2000/svg\" height=\"24px\"viewBox=\"0 0 24 24\"\n",
              "       width=\"24px\">\n",
              "    <path d=\"M0 0h24v24H0V0z\" fill=\"none\"/>\n",
              "    <path d=\"M18.56 5.44l.94 2.06.94-2.06 2.06-.94-2.06-.94-.94-2.06-.94 2.06-2.06.94zm-11 1L8.5 8.5l.94-2.06 2.06-.94-2.06-.94L8.5 2.5l-.94 2.06-2.06.94zm10 10l.94 2.06.94-2.06 2.06-.94-2.06-.94-.94-2.06-.94 2.06-2.06.94z\"/><path d=\"M17.41 7.96l-1.37-1.37c-.4-.4-.92-.59-1.43-.59-.52 0-1.04.2-1.43.59L10.3 9.45l-7.72 7.72c-.78.78-.78 2.05 0 2.83L4 21.41c.39.39.9.59 1.41.59.51 0 1.02-.2 1.41-.59l7.78-7.78 2.81-2.81c.8-.78.8-2.07 0-2.86zM5.41 20L4 18.59l7.72-7.72 1.47 1.35L5.41 20z\"/>\n",
              "  </svg>\n",
              "      </button>\n",
              "      \n",
              "  <style>\n",
              "    .colab-df-container {\n",
              "      display:flex;\n",
              "      flex-wrap:wrap;\n",
              "      gap: 12px;\n",
              "    }\n",
              "\n",
              "    .colab-df-convert {\n",
              "      background-color: #E8F0FE;\n",
              "      border: none;\n",
              "      border-radius: 50%;\n",
              "      cursor: pointer;\n",
              "      display: none;\n",
              "      fill: #1967D2;\n",
              "      height: 32px;\n",
              "      padding: 0 0 0 0;\n",
              "      width: 32px;\n",
              "    }\n",
              "\n",
              "    .colab-df-convert:hover {\n",
              "      background-color: #E2EBFA;\n",
              "      box-shadow: 0px 1px 2px rgba(60, 64, 67, 0.3), 0px 1px 3px 1px rgba(60, 64, 67, 0.15);\n",
              "      fill: #174EA6;\n",
              "    }\n",
              "\n",
              "    [theme=dark] .colab-df-convert {\n",
              "      background-color: #3B4455;\n",
              "      fill: #D2E3FC;\n",
              "    }\n",
              "\n",
              "    [theme=dark] .colab-df-convert:hover {\n",
              "      background-color: #434B5C;\n",
              "      box-shadow: 0px 1px 3px 1px rgba(0, 0, 0, 0.15);\n",
              "      filter: drop-shadow(0px 1px 2px rgba(0, 0, 0, 0.3));\n",
              "      fill: #FFFFFF;\n",
              "    }\n",
              "  </style>\n",
              "\n",
              "      <script>\n",
              "        const buttonEl =\n",
              "          document.querySelector('#df-34c9c45f-18f5-4c2b-bb96-5355f015cb22 button.colab-df-convert');\n",
              "        buttonEl.style.display =\n",
              "          google.colab.kernel.accessAllowed ? 'block' : 'none';\n",
              "\n",
              "        async function convertToInteractive(key) {\n",
              "          const element = document.querySelector('#df-34c9c45f-18f5-4c2b-bb96-5355f015cb22');\n",
              "          const dataTable =\n",
              "            await google.colab.kernel.invokeFunction('convertToInteractive',\n",
              "                                                     [key], {});\n",
              "          if (!dataTable) return;\n",
              "\n",
              "          const docLinkHtml = 'Like what you see? Visit the ' +\n",
              "            '<a target=\"_blank\" href=https://colab.research.google.com/notebooks/data_table.ipynb>data table notebook</a>'\n",
              "            + ' to learn more about interactive tables.';\n",
              "          element.innerHTML = '';\n",
              "          dataTable['output_type'] = 'display_data';\n",
              "          await google.colab.output.renderOutput(dataTable, element);\n",
              "          const docLink = document.createElement('div');\n",
              "          docLink.innerHTML = docLinkHtml;\n",
              "          element.appendChild(docLink);\n",
              "        }\n",
              "      </script>\n",
              "    </div>\n",
              "  </div>\n",
              "  "
            ]
          },
          "metadata": {},
          "execution_count": 92
        }
      ],
      "source": [
        "data.sort_values(by=['Runtime (Minutes)'],ascending=False).head(10)[['Title','Runtime (Minutes)']].set_index('Title')"
      ]
    },
    {
      "cell_type": "code",
      "execution_count": null,
      "metadata": {
        "id": "L2j9QD_-BfWC"
      },
      "outputs": [],
      "source": []
    },
    {
      "cell_type": "code",
      "execution_count": null,
      "metadata": {
        "id": "7eYLIe7RBfWC"
      },
      "outputs": [],
      "source": []
    },
    {
      "cell_type": "code",
      "execution_count": null,
      "metadata": {
        "id": "jFUVLe0IBfWC"
      },
      "outputs": [],
      "source": []
    },
    {
      "cell_type": "markdown",
      "metadata": {
        "id": "hvzgFU6ZBfWD"
      },
      "source": [
        "### 14. Display Number of Movies Per Year"
      ]
    },
    {
      "cell_type": "code",
      "execution_count": null,
      "metadata": {
        "colab": {
          "base_uri": "https://localhost:8080/"
        },
        "id": "GY6iaaCFBfWD",
        "outputId": "f8a77253-eef2-4f44-9970-7a3e8fde3f20"
      },
      "outputs": [
        {
          "output_type": "execute_result",
          "data": {
            "text/plain": [
              "2016    198\n",
              "2015    109\n",
              "2014     93\n",
              "2013     84\n",
              "2012     62\n",
              "2011     57\n",
              "2010     57\n",
              "2008     48\n",
              "2009     45\n",
              "2007     44\n",
              "2006     41\n",
              "Name: Year, dtype: int64"
            ]
          },
          "metadata": {},
          "execution_count": 51
        }
      ],
      "source": [
        "data['Year'].value_counts()"
      ]
    },
    {
      "cell_type": "code",
      "execution_count": null,
      "metadata": {
        "colab": {
          "base_uri": "https://localhost:8080/",
          "height": 466
        },
        "id": "_9CUEQpjBfWD",
        "outputId": "167d31a8-7909-488a-beae-b6a4c150e7be"
      },
      "outputs": [
        {
          "output_type": "execute_result",
          "data": {
            "text/plain": [
              "<Axes: xlabel='Year', ylabel='count'>"
            ]
          },
          "metadata": {},
          "execution_count": 52
        },
        {
          "output_type": "display_data",
          "data": {
            "text/plain": [
              "<Figure size 640x480 with 1 Axes>"
            ],
            "image/png": "[encoded data removed]"
          },
          "metadata": {}
        }
      ],
      "source": [
        "sns.countplot(x=data['Year'])"
      ]
    },
    {
      "cell_type": "markdown",
      "metadata": {
        "id": "gHLoJ_x2BfWD"
      },
      "source": [
        "### 15. Find Most Popular Movie Title (Higest Revenue)"
      ]
    },
    {
      "cell_type": "code",
      "execution_count": null,
      "metadata": {
        "colab": {
          "base_uri": "https://localhost:8080/"
        },
        "id": "QWUkXqBcBfWE",
        "outputId": "4c5d5bd1-02f7-4f1f-9917-5de490353ade"
      },
      "outputs": [
        {
          "output_type": "execute_result",
          "data": {
            "text/plain": [
              "50    Star Wars: Episode VII - The Force Awakens\n",
              "Name: Title, dtype: object"
            ]
          },
          "metadata": {},
          "execution_count": 55
        }
      ],
      "source": [
        "data[data['Revenue (Millions)']==data['Revenue (Millions)'].max()]['Title']"
      ]
    },
    {
      "cell_type": "markdown",
      "metadata": {
        "id": "V1FLIDYdBfWE"
      },
      "source": [
        "### 16. Display Top 10 Highest Rated Movie Titles And its Directors"
      ]
    },
    {
      "cell_type": "code",
      "execution_count": null,
      "metadata": {
        "id": "HsbXlv_CBfWE"
      },
      "outputs": [],
      "source": [
        "d1=data.sort_values(by='Rating',ascending=False).head(10)[['Title','Rating','Director']]"
      ]
    },
    {
      "cell_type": "code",
      "source": [
        "d1.set_index('Title')"
      ],
      "metadata": {
        "colab": {
          "base_uri": "https://localhost:8080/",
          "height": 394
        },
        "id": "HLBrxYXXRvYc",
        "outputId": "e7ee0ca1-8963-49da-d9e0-86dabd63e6a1"
      },
      "execution_count": null,
      "outputs": [
        {
          "output_type": "execute_result",
          "data": {
            "text/plain": [
              "                       Rating                          Director\n",
              "Title                                                          \n",
              "The Dark Knight           9.0                 Christopher Nolan\n",
              "Inception                 8.8                 Christopher Nolan\n",
              "Interstellar              8.6                 Christopher Nolan\n",
              "The Intouchables          8.6                   Olivier Nakache\n",
              "Kimi no na wa             8.6                    Makoto Shinkai\n",
              "The Dark Knight Rises     8.5                 Christopher Nolan\n",
              "Taare Zameen Par          8.5                        Aamir Khan\n",
              "Whiplash                  8.5                   Damien Chazelle\n",
              "The Departed              8.5                   Martin Scorsese\n",
              "The Lives of Others       8.5  Florian Henckel von Donnersmarck"
            ],
            "text/html": [
              "\n",
              "  <div id=\"df-a2eb6a23-59ae-432c-8984-4d5aa7c38349\">\n",
              "    <div class=\"colab-df-container\">\n",
              "      <div>\n",
              "<style scoped>\n",
              "    .dataframe tbody tr th:only-of-type {\n",
              "        vertical-align: middle;\n",
              "    }\n",
              "\n",
              "    .dataframe tbody tr th {\n",
              "        vertical-align: top;\n",
              "    }\n",
              "\n",
              "    .dataframe thead th {\n",
              "        text-align: right;\n",
              "    }\n",
              "</style>\n",
              "<table border=\"1\" class=\"dataframe\">\n",
              "  <thead>\n",
              "    <tr style=\"text-align: right;\">\n",
              "      <th></th>\n",
              "      <th>Rating</th>\n",
              "      <th>Director</th>\n",
              "    </tr>\n",
              "    <tr>\n",
              "      <th>Title</th>\n",
              "      <th></th>\n",
              "      <th></th>\n",
              "    </tr>\n",
              "  </thead>\n",
              "  <tbody>\n",
              "    <tr>\n",
              "      <th>The Dark Knight</th>\n",
              "      <td>9.0</td>\n",
              "      <td>Christopher Nolan</td>\n",
              "    </tr>\n",
              "    <tr>\n",
              "      <th>Inception</th>\n",
              "      <td>8.8</td>\n",
              "      <td>Christopher Nolan</td>\n",
              "    </tr>\n",
              "    <tr>\n",
              "      <th>Interstellar</th>\n",
              "      <td>8.6</td>\n",
              "      <td>Christopher Nolan</td>\n",
              "    </tr>\n",
              "    <tr>\n",
              "      <th>The Intouchables</th>\n",
              "      <td>8.6</td>\n",
              "      <td>Olivier Nakache</td>\n",
              "    </tr>\n",
              "    <tr>\n",
              "      <th>Kimi no na wa</th>\n",
              "      <td>8.6</td>\n",
              "      <td>Makoto Shinkai</td>\n",
              "    </tr>\n",
              "    <tr>\n",
              "      <th>The Dark Knight Rises</th>\n",
              "      <td>8.5</td>\n",
              "      <td>Christopher Nolan</td>\n",
              "    </tr>\n",
              "    <tr>\n",
              "      <th>Taare Zameen Par</th>\n",
              "      <td>8.5</td>\n",
              "      <td>Aamir Khan</td>\n",
              "    </tr>\n",
              "    <tr>\n",
              "      <th>Whiplash</th>\n",
              "      <td>8.5</td>\n",
              "      <td>Damien Chazelle</td>\n",
              "    </tr>\n",
              "    <tr>\n",
              "      <th>The Departed</th>\n",
              "      <td>8.5</td>\n",
              "      <td>Martin Scorsese</td>\n",
              "    </tr>\n",
              "    <tr>\n",
              "      <th>The Lives of Others</th>\n",
              "      <td>8.5</td>\n",
              "      <td>Florian Henckel von Donnersmarck</td>\n",
              "    </tr>\n",
              "  </tbody>\n",
              "</table>\n",
              "</div>\n",
              "      <button class=\"colab-df-convert\" onclick=\"convertToInteractive('df-a2eb6a23-59ae-432c-8984-4d5aa7c38349')\"\n",
              "              title=\"Convert this dataframe to an interactive table.\"\n",
              "              style=\"display:none;\">\n",
              "        \n",
              "  <svg xmlns=\"http://www.w3.org/2000/svg\" height=\"24px\"viewBox=\"0 0 24 24\"\n",
              "       width=\"24px\">\n",
              "    <path d=\"M0 0h24v24H0V0z\" fill=\"none\"/>\n",
              "    <path d=\"M18.56 5.44l.94 2.06.94-2.06 2.06-.94-2.06-.94-.94-2.06-.94 2.06-2.06.94zm-11 1L8.5 8.5l.94-2.06 2.06-.94-2.06-.94L8.5 2.5l-.94 2.06-2.06.94zm10 10l.94 2.06.94-2.06 2.06-.94-2.06-.94-.94-2.06-.94 2.06-2.06.94z\"/><path d=\"M17.41 7.96l-1.37-1.37c-.4-.4-.92-.59-1.43-.59-.52 0-1.04.2-1.43.59L10.3 9.45l-7.72 7.72c-.78.78-.78 2.05 0 2.83L4 21.41c.39.39.9.59 1.41.59.51 0 1.02-.2 1.41-.59l7.78-7.78 2.81-2.81c.8-.78.8-2.07 0-2.86zM5.41 20L4 18.59l7.72-7.72 1.47 1.35L5.41 20z\"/>\n",
              "  </svg>\n",
              "      </button>\n",
              "      \n",
              "  <style>\n",
              "    .colab-df-container {\n",
              "      display:flex;\n",
              "      flex-wrap:wrap;\n",
              "      gap: 12px;\n",
              "    }\n",
              "\n",
              "    .colab-df-convert {\n",
              "      background-color: #E8F0FE;\n",
              "      border: none;\n",
              "      border-radius: 50%;\n",
              "      cursor: pointer;\n",
              "      display: none;\n",
              "      fill: #1967D2;\n",
              "      height: 32px;\n",
              "      padding: 0 0 0 0;\n",
              "      width: 32px;\n",
              "    }\n",
              "\n",
              "    .colab-df-convert:hover {\n",
              "      background-color: #E2EBFA;\n",
              "      box-shadow: 0px 1px 2px rgba(60, 64, 67, 0.3), 0px 1px 3px 1px rgba(60, 64, 67, 0.15);\n",
              "      fill: #174EA6;\n",
              "    }\n",
              "\n",
              "    [theme=dark] .colab-df-convert {\n",
              "      background-color: #3B4455;\n",
              "      fill: #D2E3FC;\n",
              "    }\n",
              "\n",
              "    [theme=dark] .colab-df-convert:hover {\n",
              "      background-color: #434B5C;\n",
              "      box-shadow: 0px 1px 3px 1px rgba(0, 0, 0, 0.15);\n",
              "      filter: drop-shadow(0px 1px 2px rgba(0, 0, 0, 0.3));\n",
              "      fill: #FFFFFF;\n",
              "    }\n",
              "  </style>\n",
              "\n",
              "      <script>\n",
              "        const buttonEl =\n",
              "          document.querySelector('#df-a2eb6a23-59ae-432c-8984-4d5aa7c38349 button.colab-df-convert');\n",
              "        buttonEl.style.display =\n",
              "          google.colab.kernel.accessAllowed ? 'block' : 'none';\n",
              "\n",
              "        async function convertToInteractive(key) {\n",
              "          const element = document.querySelector('#df-a2eb6a23-59ae-432c-8984-4d5aa7c38349');\n",
              "          const dataTable =\n",
              "            await google.colab.kernel.invokeFunction('convertToInteractive',\n",
              "                                                     [key], {});\n",
              "          if (!dataTable) return;\n",
              "\n",
              "          const docLinkHtml = 'Like what you see? Visit the ' +\n",
              "            '<a target=\"_blank\" href=https://colab.research.google.com/notebooks/data_table.ipynb>data table notebook</a>'\n",
              "            + ' to learn more about interactive tables.';\n",
              "          element.innerHTML = '';\n",
              "          dataTable['output_type'] = 'display_data';\n",
              "          await google.colab.output.renderOutput(dataTable, element);\n",
              "          const docLink = document.createElement('div');\n",
              "          docLink.innerHTML = docLinkHtml;\n",
              "          element.appendChild(docLink);\n",
              "        }\n",
              "      </script>\n",
              "    </div>\n",
              "  </div>\n",
              "  "
            ]
          },
          "metadata": {},
          "execution_count": 68
        }
      ]
    },
    {
      "cell_type": "code",
      "source": [
        "import matplotlib.pyplot as plt"
      ],
      "metadata": {
        "id": "FBddCkxe3V0i"
      },
      "execution_count": 96,
      "outputs": []
    },
    {
      "cell_type": "code",
      "execution_count": 97,
      "metadata": {
        "colab": {
          "base_uri": "https://localhost:8080/",
          "height": 466
        },
        "id": "OT96pVY1BfWF",
        "outputId": "8cfb61ec-946f-4402-c63d-3a4e75e90e9f"
      },
      "outputs": [
        {
          "output_type": "execute_result",
          "data": {
            "text/plain": [
              "<matplotlib.legend.Legend at 0x7fc5270cb8e0>"
            ]
          },
          "metadata": {},
          "execution_count": 97
        },
        {
          "output_type": "display_data",
          "data": {
            "text/plain": [
              "<Figure size 640x480 with 1 Axes>"
            ],
            "image/png": "[encoded data removed]"
          },
          "metadata": {}
        }
      ],
      "source": [
        "sns.barplot(y='Title',x='Rating',data=d1,hue='Director',dodge=False)\n",
        "\n",
        "plt.legend(bbox_to_anchor=(1.01,1),loc=2)"
      ]
    },
    {
      "cell_type": "code",
      "execution_count": null,
      "metadata": {
        "id": "7MJNsCCOBfWF"
      },
      "outputs": [],
      "source": []
    },
    {
      "cell_type": "markdown",
      "metadata": {
        "id": "vquDHp3OBfWF"
      },
      "source": [
        "### 17. Display Top 10 Highest Revenue Movie Titles"
      ]
    },
    {
      "cell_type": "code",
      "execution_count": null,
      "metadata": {
        "colab": {
          "base_uri": "https://localhost:8080/"
        },
        "id": "B0oXvifmBfWG",
        "outputId": "393cb404-436c-4c64-ff92-0bd5cfdc3f1f"
      },
      "outputs": [
        {
          "output_type": "execute_result",
          "data": {
            "text/plain": [
              "50     Star Wars: Episode VII - The Force Awakens\n",
              "87                                         Avatar\n",
              "85                                 Jurassic World\n",
              "76                                   The Avengers\n",
              "54                                The Dark Knight\n",
              "12                                      Rogue One\n",
              "119                                  Finding Dory\n",
              "94                        Avengers: Age of Ultron\n",
              "124                         The Dark Knight Rises\n",
              "578               The Hunger Games: Catching Fire\n",
              "Name: Title, dtype: object"
            ]
          },
          "metadata": {},
          "execution_count": 72
        }
      ],
      "source": [
        "data.sort_values(by=['Revenue (Millions)'],ascending=False).head(10)['Title']"
      ]
    },
    {
      "cell_type": "code",
      "execution_count": null,
      "metadata": {
        "colab": {
          "base_uri": "https://localhost:8080/",
          "height": 394
        },
        "id": "awoFCLr1BfWG",
        "outputId": "f8420629-fef6-4b50-f939-f2eb348a44ca"
      },
      "outputs": [
        {
          "output_type": "execute_result",
          "data": {
            "text/plain": [
              "                                            Revenue (Millions)\n",
              "Title                                                         \n",
              "Star Wars: Episode VII - The Force Awakens              936.63\n",
              "Avatar                                                  760.51\n",
              "Jurassic World                                          652.18\n",
              "The Avengers                                            623.28\n",
              "The Dark Knight                                         533.32\n",
              "Rogue One                                               532.17\n",
              "Finding Dory                                            486.29\n",
              "Avengers: Age of Ultron                                 458.99\n",
              "The Dark Knight Rises                                   448.13\n",
              "The Hunger Games: Catching Fire                         424.65"
            ],
            "text/html": [
              "\n",
              "  <div id=\"df-7d46a38a-c2d7-4c14-8d29-e97538ab7d43\">\n",
              "    <div class=\"colab-df-container\">\n",
              "      <div>\n",
              "<style scoped>\n",
              "    .dataframe tbody tr th:only-of-type {\n",
              "        vertical-align: middle;\n",
              "    }\n",
              "\n",
              "    .dataframe tbody tr th {\n",
              "        vertical-align: top;\n",
              "    }\n",
              "\n",
              "    .dataframe thead th {\n",
              "        text-align: right;\n",
              "    }\n",
              "</style>\n",
              "<table border=\"1\" class=\"dataframe\">\n",
              "  <thead>\n",
              "    <tr style=\"text-align: right;\">\n",
              "      <th></th>\n",
              "      <th>Revenue (Millions)</th>\n",
              "    </tr>\n",
              "    <tr>\n",
              "      <th>Title</th>\n",
              "      <th></th>\n",
              "    </tr>\n",
              "  </thead>\n",
              "  <tbody>\n",
              "    <tr>\n",
              "      <th>Star Wars: Episode VII - The Force Awakens</th>\n",
              "      <td>936.63</td>\n",
              "    </tr>\n",
              "    <tr>\n",
              "      <th>Avatar</th>\n",
              "      <td>760.51</td>\n",
              "    </tr>\n",
              "    <tr>\n",
              "      <th>Jurassic World</th>\n",
              "      <td>652.18</td>\n",
              "    </tr>\n",
              "    <tr>\n",
              "      <th>The Avengers</th>\n",
              "      <td>623.28</td>\n",
              "    </tr>\n",
              "    <tr>\n",
              "      <th>The Dark Knight</th>\n",
              "      <td>533.32</td>\n",
              "    </tr>\n",
              "    <tr>\n",
              "      <th>Rogue One</th>\n",
              "      <td>532.17</td>\n",
              "    </tr>\n",
              "    <tr>\n",
              "      <th>Finding Dory</th>\n",
              "      <td>486.29</td>\n",
              "    </tr>\n",
              "    <tr>\n",
              "      <th>Avengers: Age of Ultron</th>\n",
              "      <td>458.99</td>\n",
              "    </tr>\n",
              "    <tr>\n",
              "      <th>The Dark Knight Rises</th>\n",
              "      <td>448.13</td>\n",
              "    </tr>\n",
              "    <tr>\n",
              "      <th>The Hunger Games: Catching Fire</th>\n",
              "      <td>424.65</td>\n",
              "    </tr>\n",
              "  </tbody>\n",
              "</table>\n",
              "</div>\n",
              "      <button class=\"colab-df-convert\" onclick=\"convertToInteractive('df-7d46a38a-c2d7-4c14-8d29-e97538ab7d43')\"\n",
              "              title=\"Convert this dataframe to an interactive table.\"\n",
              "              style=\"display:none;\">\n",
              "        \n",
              "  <svg xmlns=\"http://www.w3.org/2000/svg\" height=\"24px\"viewBox=\"0 0 24 24\"\n",
              "       width=\"24px\">\n",
              "    <path d=\"M0 0h24v24H0V0z\" fill=\"none\"/>\n",
              "    <path d=\"M18.56 5.44l.94 2.06.94-2.06 2.06-.94-2.06-.94-.94-2.06-.94 2.06-2.06.94zm-11 1L8.5 8.5l.94-2.06 2.06-.94-2.06-.94L8.5 2.5l-.94 2.06-2.06.94zm10 10l.94 2.06.94-2.06 2.06-.94-2.06-.94-.94-2.06-.94 2.06-2.06.94z\"/><path d=\"M17.41 7.96l-1.37-1.37c-.4-.4-.92-.59-1.43-.59-.52 0-1.04.2-1.43.59L10.3 9.45l-7.72 7.72c-.78.78-.78 2.05 0 2.83L4 21.41c.39.39.9.59 1.41.59.51 0 1.02-.2 1.41-.59l7.78-7.78 2.81-2.81c.8-.78.8-2.07 0-2.86zM5.41 20L4 18.59l7.72-7.72 1.47 1.35L5.41 20z\"/>\n",
              "  </svg>\n",
              "      </button>\n",
              "      \n",
              "  <style>\n",
              "    .colab-df-container {\n",
              "      display:flex;\n",
              "      flex-wrap:wrap;\n",
              "      gap: 12px;\n",
              "    }\n",
              "\n",
              "    .colab-df-convert {\n",
              "      background-color: #E8F0FE;\n",
              "      border: none;\n",
              "      border-radius: 50%;\n",
              "      cursor: pointer;\n",
              "      display: none;\n",
              "      fill: #1967D2;\n",
              "      height: 32px;\n",
              "      padding: 0 0 0 0;\n",
              "      width: 32px;\n",
              "    }\n",
              "\n",
              "    .colab-df-convert:hover {\n",
              "      background-color: #E2EBFA;\n",
              "      box-shadow: 0px 1px 2px rgba(60, 64, 67, 0.3), 0px 1px 3px 1px rgba(60, 64, 67, 0.15);\n",
              "      fill: #174EA6;\n",
              "    }\n",
              "\n",
              "    [theme=dark] .colab-df-convert {\n",
              "      background-color: #3B4455;\n",
              "      fill: #D2E3FC;\n",
              "    }\n",
              "\n",
              "    [theme=dark] .colab-df-convert:hover {\n",
              "      background-color: #434B5C;\n",
              "      box-shadow: 0px 1px 3px 1px rgba(0, 0, 0, 0.15);\n",
              "      filter: drop-shadow(0px 1px 2px rgba(0, 0, 0, 0.3));\n",
              "      fill: #FFFFFF;\n",
              "    }\n",
              "  </style>\n",
              "\n",
              "      <script>\n",
              "        const buttonEl =\n",
              "          document.querySelector('#df-7d46a38a-c2d7-4c14-8d29-e97538ab7d43 button.colab-df-convert');\n",
              "        buttonEl.style.display =\n",
              "          google.colab.kernel.accessAllowed ? 'block' : 'none';\n",
              "\n",
              "        async function convertToInteractive(key) {\n",
              "          const element = document.querySelector('#df-7d46a38a-c2d7-4c14-8d29-e97538ab7d43');\n",
              "          const dataTable =\n",
              "            await google.colab.kernel.invokeFunction('convertToInteractive',\n",
              "                                                     [key], {});\n",
              "          if (!dataTable) return;\n",
              "\n",
              "          const docLinkHtml = 'Like what you see? Visit the ' +\n",
              "            '<a target=\"_blank\" href=https://colab.research.google.com/notebooks/data_table.ipynb>data table notebook</a>'\n",
              "            + ' to learn more about interactive tables.';\n",
              "          element.innerHTML = '';\n",
              "          dataTable['output_type'] = 'display_data';\n",
              "          await google.colab.output.renderOutput(dataTable, element);\n",
              "          const docLink = document.createElement('div');\n",
              "          docLink.innerHTML = docLinkHtml;\n",
              "          element.appendChild(docLink);\n",
              "        }\n",
              "      </script>\n",
              "    </div>\n",
              "  </div>\n",
              "  "
            ]
          },
          "metadata": {},
          "execution_count": 76
        }
      ],
      "source": [
        "data.sort_values(by=['Revenue (Millions)'],ascending=False).head(10)[['Title','Revenue (Millions)']].set_index('Title')"
      ]
    },
    {
      "cell_type": "code",
      "execution_count": null,
      "metadata": {
        "id": "pr0jEXOCBfWG"
      },
      "outputs": [],
      "source": []
    },
    {
      "cell_type": "markdown",
      "metadata": {
        "id": "VDE-St1YBfWH"
      },
      "source": [
        "### 18.  Find Average Rating of Movies Year Wise"
      ]
    },
    {
      "cell_type": "code",
      "execution_count": null,
      "metadata": {
        "colab": {
          "base_uri": "https://localhost:8080/"
        },
        "id": "3TEqDudxBfWH",
        "outputId": "d74e5c88-d991-4053-ee87-436cf6c19ab7"
      },
      "outputs": [
        {
          "output_type": "execute_result",
          "data": {
            "text/plain": [
              "Year\n",
              "2006    7.143902\n",
              "2007    7.140909\n",
              "2011    6.945614\n",
              "2012    6.933871\n",
              "2009    6.911111\n",
              "2010    6.894737\n",
              "2013    6.832143\n",
              "2014    6.822581\n",
              "2008    6.708333\n",
              "2015    6.674312\n",
              "2016    6.644444\n",
              "Name: Rating, dtype: float64"
            ]
          },
          "metadata": {},
          "execution_count": 79
        }
      ],
      "source": [
        "data.groupby(['Year'])['Rating'].mean().sort_values(ascending=False)"
      ]
    },
    {
      "cell_type": "markdown",
      "metadata": {
        "id": "rzpylj35BfWH"
      },
      "source": [
        "### 19. Does Rating Affect The Revenue?"
      ]
    },
    {
      "cell_type": "code",
      "execution_count": null,
      "metadata": {
        "colab": {
          "base_uri": "https://localhost:8080/",
          "height": 466
        },
        "id": "TeuiktKnBfWH",
        "outputId": "ab85f0ff-4778-4be0-9c84-a88497d1dd2e"
      },
      "outputs": [
        {
          "output_type": "execute_result",
          "data": {
            "text/plain": [
              "<Axes: xlabel='Rating', ylabel='Revenue (Millions)'>"
            ]
          },
          "metadata": {},
          "execution_count": 82
        },
        {
          "output_type": "display_data",
          "data": {
            "text/plain": [
              "<Figure size 640x480 with 1 Axes>"
            ],
            "image/png": "[encoded data removed]"
          },
          "metadata": {}
        }
      ],
      "source": [
        "sns.scatterplot(x='Rating',y='Revenue (Millions)',data=data)"
      ]
    },
    {
      "cell_type": "markdown",
      "metadata": {
        "id": "wow0916KBfWI"
      },
      "source": [
        "### 20. Classify Movies Based on Ratings [Excellent, Good and Average]"
      ]
    },
    {
      "cell_type": "code",
      "execution_count": null,
      "metadata": {
        "id": "6sPVKafBBfWI"
      },
      "outputs": [],
      "source": [
        "def rate(x):\n",
        "  if x>7:\n",
        "    return 'Excellent'\n",
        "  elif x<=7 and x>4:\n",
        "    return 'Good'\n",
        "  else:\n",
        "    return 'Average'"
      ]
    },
    {
      "cell_type": "code",
      "execution_count": null,
      "metadata": {
        "id": "2yTmrCMcBfWI"
      },
      "outputs": [],
      "source": [
        "data['Rating_cat']=data['Rating'].apply(rate)"
      ]
    },
    {
      "cell_type": "code",
      "execution_count": null,
      "metadata": {
        "colab": {
          "base_uri": "https://localhost:8080/",
          "height": 597
        },
        "id": "5ibQC530BfWI",
        "outputId": "89900ed4-fdb8-40f4-9d8a-e5dd82730e29"
      },
      "outputs": [
        {
          "output_type": "execute_result",
          "data": {
            "text/plain": [
              "   Rank                    Title                     Genre  \\\n",
              "0     1  Guardians of the Galaxy   Action,Adventure,Sci-Fi   \n",
              "1     2               Prometheus  Adventure,Mystery,Sci-Fi   \n",
              "2     3                    Split           Horror,Thriller   \n",
              "3     4                     Sing   Animation,Comedy,Family   \n",
              "4     5            Suicide Squad  Action,Adventure,Fantasy   \n",
              "\n",
              "                                         Description              Director  \\\n",
              "0  A group of intergalactic criminals are forced ...            James Gunn   \n",
              "1  Following clues to the origin of mankind, a te...          Ridley Scott   \n",
              "2  Three girls are kidnapped by a man with a diag...    M. Night Shyamalan   \n",
              "3  In a city of humanoid animals, a hustling thea...  Christophe Lourdelet   \n",
              "4  A secret government agency recruits some of th...            David Ayer   \n",
              "\n",
              "                                              Actors  Year  Runtime (Minutes)  \\\n",
              "0  Chris Pratt, Vin Diesel, Bradley Cooper, Zoe S...  2014                121   \n",
              "1  Noomi Rapace, Logan Marshall-Green, Michael Fa...  2012                124   \n",
              "2  James McAvoy, Anya Taylor-Joy, Haley Lu Richar...  2016                117   \n",
              "3  Matthew McConaughey,Reese Witherspoon, Seth Ma...  2016                108   \n",
              "4  Will Smith, Jared Leto, Margot Robbie, Viola D...  2016                123   \n",
              "\n",
              "   Rating   Votes  Revenue (Millions)  Metascore Rating_cat  \n",
              "0     8.1  757074              333.13       76.0  Excellent  \n",
              "1     7.0  485820              126.46       65.0       Good  \n",
              "2     7.3  157606              138.12       62.0  Excellent  \n",
              "3     7.2   60545              270.32       59.0  Excellent  \n",
              "4     6.2  393727              325.02       40.0       Good  "
            ],
            "text/html": [
              "\n",
              "  <div id=\"df-7ad4f479-1482-40c7-8a7c-a285e1c08e64\">\n",
              "    <div class=\"colab-df-container\">\n",
              "      <div>\n",
              "<style scoped>\n",
              "    .dataframe tbody tr th:only-of-type {\n",
              "        vertical-align: middle;\n",
              "    }\n",
              "\n",
              "    .dataframe tbody tr th {\n",
              "        vertical-align: top;\n",
              "    }\n",
              "\n",
              "    .dataframe thead th {\n",
              "        text-align: right;\n",
              "    }\n",
              "</style>\n",
              "<table border=\"1\" class=\"dataframe\">\n",
              "  <thead>\n",
              "    <tr style=\"text-align: right;\">\n",
              "      <th></th>\n",
              "      <th>Rank</th>\n",
              "      <th>Title</th>\n",
              "      <th>Genre</th>\n",
              "      <th>Description</th>\n",
              "      <th>Director</th>\n",
              "      <th>Actors</th>\n",
              "      <th>Year</th>\n",
              "      <th>Runtime (Minutes)</th>\n",
              "      <th>Rating</th>\n",
              "      <th>Votes</th>\n",
              "      <th>Revenue (Millions)</th>\n",
              "      <th>Metascore</th>\n",
              "      <th>Rating_cat</th>\n",
              "    </tr>\n",
              "  </thead>\n",
              "  <tbody>\n",
              "    <tr>\n",
              "      <th>0</th>\n",
              "      <td>1</td>\n",
              "      <td>Guardians of the Galaxy</td>\n",
              "      <td>Action,Adventure,Sci-Fi</td>\n",
              "      <td>A group of intergalactic criminals are forced ...</td>\n",
              "      <td>James Gunn</td>\n",
              "      <td>Chris Pratt, Vin Diesel, Bradley Cooper, Zoe S...</td>\n",
              "      <td>2014</td>\n",
              "      <td>121</td>\n",
              "      <td>8.1</td>\n",
              "      <td>757074</td>\n",
              "      <td>333.13</td>\n",
              "      <td>76.0</td>\n",
              "      <td>Excellent</td>\n",
              "    </tr>\n",
              "    <tr>\n",
              "      <th>1</th>\n",
              "      <td>2</td>\n",
              "      <td>Prometheus</td>\n",
              "      <td>Adventure,Mystery,Sci-Fi</td>\n",
              "      <td>Following clues to the origin of mankind, a te...</td>\n",
              "      <td>Ridley Scott</td>\n",
              "      <td>Noomi Rapace, Logan Marshall-Green, Michael Fa...</td>\n",
              "      <td>2012</td>\n",
              "      <td>124</td>\n",
              "      <td>7.0</td>\n",
              "      <td>485820</td>\n",
              "      <td>126.46</td>\n",
              "      <td>65.0</td>\n",
              "      <td>Good</td>\n",
              "    </tr>\n",
              "    <tr>\n",
              "      <th>2</th>\n",
              "      <td>3</td>\n",
              "      <td>Split</td>\n",
              "      <td>Horror,Thriller</td>\n",
              "      <td>Three girls are kidnapped by a man with a diag...</td>\n",
              "      <td>M. Night Shyamalan</td>\n",
              "      <td>James McAvoy, Anya Taylor-Joy, Haley Lu Richar...</td>\n",
              "      <td>2016</td>\n",
              "      <td>117</td>\n",
              "      <td>7.3</td>\n",
              "      <td>157606</td>\n",
              "      <td>138.12</td>\n",
              "      <td>62.0</td>\n",
              "      <td>Excellent</td>\n",
              "    </tr>\n",
              "    <tr>\n",
              "      <th>3</th>\n",
              "      <td>4</td>\n",
              "      <td>Sing</td>\n",
              "      <td>Animation,Comedy,Family</td>\n",
              "      <td>In a city of humanoid animals, a hustling thea...</td>\n",
              "      <td>Christophe Lourdelet</td>\n",
              "      <td>Matthew McConaughey,Reese Witherspoon, Seth Ma...</td>\n",
              "      <td>2016</td>\n",
              "      <td>108</td>\n",
              "      <td>7.2</td>\n",
              "      <td>60545</td>\n",
              "      <td>270.32</td>\n",
              "      <td>59.0</td>\n",
              "      <td>Excellent</td>\n",
              "    </tr>\n",
              "    <tr>\n",
              "      <th>4</th>\n",
              "      <td>5</td>\n",
              "      <td>Suicide Squad</td>\n",
              "      <td>Action,Adventure,Fantasy</td>\n",
              "      <td>A secret government agency recruits some of th...</td>\n",
              "      <td>David Ayer</td>\n",
              "      <td>Will Smith, Jared Leto, Margot Robbie, Viola D...</td>\n",
              "      <td>2016</td>\n",
              "      <td>123</td>\n",
              "      <td>6.2</td>\n",
              "      <td>393727</td>\n",
              "      <td>325.02</td>\n",
              "      <td>40.0</td>\n",
              "      <td>Good</td>\n",
              "    </tr>\n",
              "  </tbody>\n",
              "</table>\n",
              "</div>\n",
              "      <button class=\"colab-df-convert\" onclick=\"convertToInteractive('df-7ad4f479-1482-40c7-8a7c-a285e1c08e64')\"\n",
              "              title=\"Convert this dataframe to an interactive table.\"\n",
              "              style=\"display:none;\">\n",
              "        \n",
              "  <svg xmlns=\"http://www.w3.org/2000/svg\" height=\"24px\"viewBox=\"0 0 24 24\"\n",
              "       width=\"24px\">\n",
              "    <path d=\"M0 0h24v24H0V0z\" fill=\"none\"/>\n",
              "    <path d=\"M18.56 5.44l.94 2.06.94-2.06 2.06-.94-2.06-.94-.94-2.06-.94 2.06-2.06.94zm-11 1L8.5 8.5l.94-2.06 2.06-.94-2.06-.94L8.5 2.5l-.94 2.06-2.06.94zm10 10l.94 2.06.94-2.06 2.06-.94-2.06-.94-.94-2.06-.94 2.06-2.06.94z\"/><path d=\"M17.41 7.96l-1.37-1.37c-.4-.4-.92-.59-1.43-.59-.52 0-1.04.2-1.43.59L10.3 9.45l-7.72 7.72c-.78.78-.78 2.05 0 2.83L4 21.41c.39.39.9.59 1.41.59.51 0 1.02-.2 1.41-.59l7.78-7.78 2.81-2.81c.8-.78.8-2.07 0-2.86zM5.41 20L4 18.59l7.72-7.72 1.47 1.35L5.41 20z\"/>\n",
              "  </svg>\n",
              "      </button>\n",
              "      \n",
              "  <style>\n",
              "    .colab-df-container {\n",
              "      display:flex;\n",
              "      flex-wrap:wrap;\n",
              "      gap: 12px;\n",
              "    }\n",
              "\n",
              "    .colab-df-convert {\n",
              "      background-color: #E8F0FE;\n",
              "      border: none;\n",
              "      border-radius: 50%;\n",
              "      cursor: pointer;\n",
              "      display: none;\n",
              "      fill: #1967D2;\n",
              "      height: 32px;\n",
              "      padding: 0 0 0 0;\n",
              "      width: 32px;\n",
              "    }\n",
              "\n",
              "    .colab-df-convert:hover {\n",
              "      background-color: #E2EBFA;\n",
              "      box-shadow: 0px 1px 2px rgba(60, 64, 67, 0.3), 0px 1px 3px 1px rgba(60, 64, 67, 0.15);\n",
              "      fill: #174EA6;\n",
              "    }\n",
              "\n",
              "    [theme=dark] .colab-df-convert {\n",
              "      background-color: #3B4455;\n",
              "      fill: #D2E3FC;\n",
              "    }\n",
              "\n",
              "    [theme=dark] .colab-df-convert:hover {\n",
              "      background-color: #434B5C;\n",
              "      box-shadow: 0px 1px 3px 1px rgba(0, 0, 0, 0.15);\n",
              "      filter: drop-shadow(0px 1px 2px rgba(0, 0, 0, 0.3));\n",
              "      fill: #FFFFFF;\n",
              "    }\n",
              "  </style>\n",
              "\n",
              "      <script>\n",
              "        const buttonEl =\n",
              "          document.querySelector('#df-7ad4f479-1482-40c7-8a7c-a285e1c08e64 button.colab-df-convert');\n",
              "        buttonEl.style.display =\n",
              "          google.colab.kernel.accessAllowed ? 'block' : 'none';\n",
              "\n",
              "        async function convertToInteractive(key) {\n",
              "          const element = document.querySelector('#df-7ad4f479-1482-40c7-8a7c-a285e1c08e64');\n",
              "          const dataTable =\n",
              "            await google.colab.kernel.invokeFunction('convertToInteractive',\n",
              "                                                     [key], {});\n",
              "          if (!dataTable) return;\n",
              "\n",
              "          const docLinkHtml = 'Like what you see? Visit the ' +\n",
              "            '<a target=\"_blank\" href=https://colab.research.google.com/notebooks/data_table.ipynb>data table notebook</a>'\n",
              "            + ' to learn more about interactive tables.';\n",
              "          element.innerHTML = '';\n",
              "          dataTable['output_type'] = 'display_data';\n",
              "          await google.colab.output.renderOutput(dataTable, element);\n",
              "          const docLink = document.createElement('div');\n",
              "          docLink.innerHTML = docLinkHtml;\n",
              "          element.appendChild(docLink);\n",
              "        }\n",
              "      </script>\n",
              "    </div>\n",
              "  </div>\n",
              "  "
            ]
          },
          "metadata": {},
          "execution_count": 85
        }
      ],
      "source": [
        "data.head()"
      ]
    },
    {
      "cell_type": "code",
      "execution_count": null,
      "metadata": {
        "id": "R9RYtuBMBfWJ"
      },
      "outputs": [],
      "source": []
    },
    {
      "cell_type": "markdown",
      "metadata": {
        "id": "FE4s3ImwBfWJ"
      },
      "source": [
        "### 21. Count Number of Action Movies"
      ]
    },
    {
      "cell_type": "code",
      "execution_count": null,
      "metadata": {
        "colab": {
          "base_uri": "https://localhost:8080/"
        },
        "id": "xknQoCOlBfWJ",
        "outputId": "aef4dc3f-a51c-471f-9332-815e7e1e3d25"
      },
      "outputs": [
        {
          "output_type": "execute_result",
          "data": {
            "text/plain": [
              "277"
            ]
          },
          "metadata": {},
          "execution_count": 88
        }
      ],
      "source": [
        "data['Genre'].str.contains('Action',case=False).sum()"
      ]
    },
    {
      "cell_type": "code",
      "execution_count": null,
      "metadata": {
        "id": "L7usZK6uBfWK"
      },
      "outputs": [],
      "source": []
    },
    {
      "cell_type": "markdown",
      "metadata": {
        "id": "5ePWQvWlBfWK"
      },
      "source": [
        "### 22. Find Unique Values From Genre "
      ]
    },
    {
      "cell_type": "code",
      "execution_count": null,
      "metadata": {
        "colab": {
          "base_uri": "https://localhost:8080/"
        },
        "id": "tjhpg-OUBfWK",
        "outputId": "aa86a7c1-ae76-446b-fc3c-1c93233866c4"
      },
      "outputs": [
        {
          "output_type": "execute_result",
          "data": {
            "text/plain": [
              "189"
            ]
          },
          "metadata": {},
          "execution_count": 90
        }
      ],
      "source": [
        "data['Genre'].nunique()"
      ]
    },
    {
      "cell_type": "code",
      "execution_count": null,
      "metadata": {
        "id": "wLA-TeFDBfWL",
        "outputId": "32306aad-c92e-4974-af9a-6e6a9a8c091f"
      },
      "outputs": [
        {
          "data": {
            "text/plain": [
              "Index(['Rank', 'Title', 'Genre', 'Description', 'Director', 'Actors', 'Year',\n",
              "       'Runtime (Minutes)', 'Rating', 'Votes', 'Revenue (Millions)',\n",
              "       'Metascore', 'rating_cat'],\n",
              "      dtype='object')"
            ]
          },
          "execution_count": 56,
          "metadata": {},
          "output_type": "execute_result"
        }
      ],
      "source": []
    },
    {
      "cell_type": "code",
      "execution_count": 100,
      "metadata": {
        "id": "EWvXPi_3BfWL",
        "outputId": "77ebb418-5841-4dcd-faa4-192fcf7de83c",
        "colab": {
          "base_uri": "https://localhost:8080/"
        }
      },
      "outputs": [
        {
          "output_type": "stream",
          "name": "stdout",
          "text": [
            "['Action', 'Adventure', 'Sci-Fi', 'Adventure', 'Mystery', 'Sci-Fi', 'Horror', 'Thriller', 'Animation', 'Comedy', 'Family', 'Action', 'Adventure', 'Fantasy', 'Action', 'Adventure', 'Fantasy', 'Comedy', 'Drama', 'Music', 'Action', 'Adventure', 'Biography', 'Adventure', 'Drama', 'Romance', 'Adventure', 'Family', 'Fantasy', 'Biography', 'Drama', 'History', 'Action', 'Adventure', 'Sci-Fi', 'Animation', 'Adventure', 'Comedy', 'Action', 'Comedy', 'Drama', 'Animation', 'Adventure', 'Comedy', 'Biography', 'Drama', 'History', 'Action', 'Thriller', 'Biography', 'Drama', 'Drama', 'Mystery', 'Sci-Fi', 'Adventure', 'Drama', 'Thriller', 'Drama', 'Animation', 'Adventure', 'Comedy', 'Action', 'Adventure', 'Sci-Fi', 'Comedy', 'Action', 'Adventure', 'Drama', 'Comedy', 'Drama', 'Thriller', 'Action', 'Adventure', 'Sci-Fi', 'Action', 'Adventure', 'Comedy', 'Action', 'Horror', 'Sci-Fi', 'Action', 'Adventure', 'Sci-Fi', 'Adventure', 'Drama', 'Sci-Fi', 'Action', 'Adventure', 'Fantasy', 'Action', 'Adventure', 'Western', 'Animation', 'Adventure', 'Comedy', 'Drama', 'Biography', 'Drama', 'History', 'Drama', 'Action', 'Adventure', 'Fantasy', 'Drama', 'Thriller', 'Action', 'Adventure', 'Sci-Fi', 'Action', 'Adventure', 'Fantasy', 'Action', 'Adventure', 'Fantasy', 'Comedy', 'Drama', 'Action', 'Crime', 'Thriller', 'Action', 'Crime', 'Drama', 'Adventure', 'Drama', 'History', 'Crime', 'Horror', 'Thriller', 'Drama', 'Romance', 'Comedy', 'Drama', 'Romance', 'Biography', 'Drama', 'Action', 'Adventure', 'Sci-Fi', 'Crime', 'Drama', 'Mystery', 'Drama', 'Romance', 'Thriller', 'Drama', 'Mystery', 'Sci-Fi', 'Action', 'Adventure', 'Comedy', 'Drama', 'History', 'Thriller', 'Action', 'Adventure', 'Sci-Fi', 'Drama', 'Action', 'Drama', 'Thriller', 'Action', 'Drama', 'Romance', 'Drama', 'Fantasy', 'Drama', 'Romance', 'Animation', 'Adventure', 'Comedy', 'Action', 'Adventure', 'Fantasy', 'Action', 'Sci-Fi', 'Adventure', 'Drama', 'War', 'Action', 'Adventure', 'Fantasy', 'Action', 'Comedy', 'Fantasy', 'Action', 'Adventure', 'Sci-Fi', 'Comedy', 'Drama', 'Biography', 'Comedy', 'Crime', 'Crime', 'Drama', 'Mystery', 'Action', 'Crime', 'Thriller', 'Action', 'Adventure', 'Sci-Fi', 'Crime', 'Drama', 'Action', 'Adventure', 'Fantasy', 'Crime', 'Drama', 'Mystery', 'Action', 'Crime', 'Drama', 'Crime', 'Drama', 'Mystery', 'Action', 'Adventure', 'Fantasy', 'Drama', 'Comedy', 'Crime', 'Drama', 'Action', 'Adventure', 'Sci-Fi', 'Action', 'Comedy', 'Crime', 'Animation', 'Drama', 'Fantasy', 'Horror', 'Mystery', 'Sci-Fi', 'Drama', 'Mystery', 'Thriller', 'Crime', 'Drama', 'Thriller', 'Biography', 'Crime', 'Drama', 'Action', 'Adventure', 'Fantasy', 'Adventure', 'Drama', 'Sci-Fi', 'Action', 'Adventure', 'Comedy', 'Crime', 'Drama', 'Thriller', 'Comedy', 'Action', 'Adventure', 'Drama', 'Drama', 'Mystery', 'Sci-Fi', 'Action', 'Horror', 'Thriller', 'Biography', 'Drama', 'History', 'Action', 'Fantasy', 'War', 'Adventure', 'Drama', 'Fantasy', 'Comedy', 'Horror', 'Thriller', 'Drama', 'Horror', 'Mystery', 'Animation', 'Adventure', 'Comedy', 'Adventure', 'Drama', 'Family', 'Adventure', 'Mystery', 'Sci-Fi', 'Adventure', 'Comedy', 'Romance', 'Action', 'Thriller', 'Adventure', 'Drama', 'Family', 'Action', 'Adventure', 'Sci-Fi', 'Adventure', 'Crime', 'Mystery', 'Comedy', 'Family', 'Musical', 'Adventure', 'Drama', 'Thriller', 'Drama', 'Adventure', 'Comedy', 'Drama', 'Drama', 'Horror', 'Thriller', 'Drama', 'Music', 'Action', 'Crime', 'Thriller', 'Crime', 'Drama', 'Thriller', 'Crime', 'Drama', 'Thriller', 'Drama', 'Romance', 'Mystery', 'Thriller', 'Action', 'Adventure', 'Sci-Fi', 'Comedy', 'Family', 'Biography', 'Comedy', 'Drama', 'Drama', 'Drama', 'Western', 'Drama', 'Mystery', 'Romance', 'Comedy', 'Drama', 'Action', 'Drama', 'Mystery', 'Comedy', 'Action', 'Adventure', 'Crime', 'Adventure', 'Family', 'Fantasy', 'Adventure', 'Sci-Fi', 'Thriller', 'Drama', 'Action', 'Crime', 'Drama', 'Action', 'Horror', 'Sci-Fi', 'Action', 'Adventure', 'Sci-Fi', 'Comedy', 'Drama', 'Romance', 'Action', 'Comedy', 'Fantasy', 'Action', 'Comedy', 'Mystery', 'Action', 'Comedy', 'Crime', 'Action', 'Adventure', 'Sci-Fi', 'Action', 'Adventure', 'Crime', 'Action', 'Adventure', 'Thriller', 'Drama', 'Fantasy', 'Romance', 'Action', 'Adventure', 'Comedy', 'Biography', 'Drama', 'History', 'Action', 'Drama', 'History', 'Action', 'Adventure', 'Thriller', 'Crime', 'Drama', 'Thriller', 'Animation', 'Adventure', 'Family', 'Drama', 'Romance', 'Sci-Fi', 'Animation', 'Adventure', 'Comedy', 'Action', 'Adventure', 'Family', 'Action', 'Adventure', 'Drama', 'Action', 'Comedy', 'Horror', 'Mystery', 'Thriller', 'Action', 'Adventure', 'Comedy', 'Comedy', 'Romance', 'Horror', 'Mystery', 'Drama', 'Family', 'Fantasy', 'Drama', 'Thriller', 'Drama', 'War', 'Drama', 'Fantasy', 'Horror', 'Crime', 'Drama', 'Comedy', 'Drama', 'Romance', 'Drama', 'Romance', 'Crime', 'Drama', 'History', 'Horror', 'Sci-Fi', 'Thriller', 'Action', 'Drama', 'Sport', 'Action', 'Adventure', 'Sci-Fi', 'Adventure', 'Biography', 'Drama', 'Biography', 'Drama', 'Thriller', 'Action', 'Comedy', 'Crime', 'Action', 'Adventure', 'Sci-Fi', 'Drama', 'Fantasy', 'Horror', 'Biography', 'Drama', 'Thriller', 'Action', 'Adventure', 'Sci-Fi', 'Action', 'Adventure', 'Mystery', 'Action', 'Adventure', 'Sci-Fi', 'Drama', 'Horror', 'Comedy', 'Drama', 'Romance', 'Comedy', 'Romance', 'Action', 'Adventure', 'Drama', 'Drama', 'Action', 'Adventure', 'Sci-Fi', 'Action', 'Adventure', 'Fantasy', 'Action', 'Adventure', 'Fantasy', 'Action', 'Adventure', 'Sci-Fi', 'Action', 'Adventure', 'Comedy', 'Action', 'Comedy', 'Action', 'Adventure', 'Sci-Fi', 'Animation', 'Adventure', 'Comedy', 'Horror', 'Mystery', 'Crime', 'Drama', 'Mystery', 'Comedy', 'Crime', 'Drama', 'Comedy', 'Drama', 'Romance', 'Action', 'Adventure', 'Sci-Fi', 'Action', 'Adventure', 'Family', 'Drama', 'Fantasy', 'War', 'Crime', 'Drama', 'Thriller', 'Action', 'Adventure', 'Drama', 'Action', 'Adventure', 'Thriller', 'Action', 'Adventure', 'Drama', 'Drama', 'Romance', 'Biography', 'Drama', 'History', 'Drama', 'Horror', 'Thriller', 'Adventure', 'Comedy', 'Drama', 'Action', 'Adventure', 'Romance', 'Action', 'Drama', 'War', 'Animation', 'Adventure', 'Comedy', 'Animation', 'Adventure', 'Comedy', 'Action', 'Adventure', 'Sci-Fi', 'Adventure', 'Family', 'Fantasy', 'Drama', 'Musical', 'Romance', 'Drama', 'Sci-Fi', 'Thriller', 'Comedy', 'Drama', 'Action', 'Comedy', 'Crime', 'Biography', 'Comedy', 'Drama', 'Comedy', 'Drama', 'Romance', 'Drama', 'Thriller', 'Biography', 'Drama', 'History', 'Action', 'Adventure', 'Sci-Fi', 'Horror', 'Mystery', 'Thriller', 'Comedy', 'Action', 'Adventure', 'Sci-Fi', 'Action', 'Drama', 'Sci-Fi', 'Horror', 'Drama', 'Thriller', 'Comedy', 'Drama', 'Romance', 'Drama', 'Thriller', 'Comedy', 'Drama', 'Drama', 'Action', 'Adventure', 'Comedy', 'Drama', 'Horror', 'Thriller', 'Comedy', 'Drama', 'Sci-Fi', 'Action', 'Adventure', 'Sci-Fi', 'Action', 'Adventure', 'Thriller', 'Adventure', 'Fantasy', 'Action', 'Comedy', 'Crime', 'Comedy', 'Drama', 'Music', 'Action', 'Adventure', 'Mystery', 'Action', 'Comedy', 'Crime', 'Crime', 'Drama', 'History', 'Comedy', 'Action', 'Adventure', 'Sci-Fi', 'Crime', 'Mystery', 'Thriller', 'Action', 'Adventure', 'Crime', 'Biography', 'Drama', 'Romance', 'Action', 'Adventure', 'Action', 'Fantasy', 'Action', 'Comedy', 'Action', 'Adventure', 'Sci-Fi', 'Action', 'Comedy', 'Crime', 'Action', 'Drama', 'Horror', 'Comedy', 'Music', 'Romance', 'Comedy', 'Action', 'Adventure', 'Fantasy', 'Drama', 'Romance', 'Animation', 'Adventure', 'Comedy', 'Comedy', 'Drama', 'Biography', 'Crime', 'Drama', 'Drama', 'History', 'Action', 'Crime', 'Thriller', 'Action', 'Biography', 'Drama', 'Horror', 'Comedy', 'Romance', 'Comedy', 'Romance', 'Comedy', 'Crime', 'Drama', 'Adventure', 'Family', 'Fantasy', 'Action', 'Crime', 'Thriller', 'Comedy', 'Romance', 'Biography', 'Drama', 'Sport', 'Drama', 'Romance', 'Drama', 'Horror', 'Adventure', 'Fantasy', 'Adventure', 'Family', 'Fantasy', 'Action', 'Drama', 'Sci-Fi', 'Action', 'Adventure', 'Sci-Fi', 'Comedy', 'Horror', 'Thriller', 'Action', 'Crime', 'Thriller', 'Crime', 'Drama', 'Music', 'Drama', 'Action', 'Crime', 'Thriller', 'Action', 'Sci-Fi', 'Thriller', 'Biography', 'Drama', 'Action', 'Adventure', 'Fantasy', 'Drama', 'Horror', 'Sci-Fi', 'Biography', 'Comedy', 'Drama', 'Crime', 'Horror', 'Thriller', 'Crime', 'Drama', 'Mystery', 'Animation', 'Adventure', 'Comedy', 'Action', 'Biography', 'Drama', 'Biography', 'Drama', 'Biography', 'Drama', 'History', 'Action', 'Biography', 'Drama', 'Comedy', 'Drama', 'Romance', 'Drama', 'Romance', 'Comedy', 'Romance', 'Action', 'Crime', 'Thriller', 'Action', 'Crime', 'Drama', 'Action', 'Drama', 'Thriller', 'Adventure', 'Family', 'Fantasy', 'Action', 'Adventure', 'Action', 'Adventure', 'Romance', 'Adventure', 'Family', 'Fantasy', 'Crime', 'Drama', 'Comedy', 'Horror', 'Comedy', 'Fantasy', 'Romance', 'Drama', 'Comedy', 'Drama', 'Comedy', 'Drama', 'Romance', 'Adventure', 'Sci-Fi', 'Thriller', 'Action', 'Adventure', 'Fantasy', 'Biography', 'Drama', 'Romance', 'Comedy', 'Fantasy', 'Comedy', 'Drama', 'Fantasy', 'Comedy', 'Horror', 'Thriller', 'Action', 'Adventure', 'Sci-Fi', 'Adventure', 'Comedy', 'Horror', 'Comedy', 'Mystery', 'Drama', 'Adventure', 'Drama', 'Fantasy', 'Action', 'Adventure', 'Action', 'Adventure', 'Drama', 'Action', 'Drama', 'Sci-Fi', 'Action', 'Mystery', 'Sci-Fi', 'Action', 'Crime', 'Drama', 'Action', 'Crime', 'Fantasy', 'Biography', 'Comedy', 'Drama', 'Action', 'Crime', 'Thriller', 'Biography', 'Crime', 'Drama', 'Drama', 'Sport', 'Adventure', 'Comedy', 'Drama', 'Action', 'Adventure', 'Thriller', 'Comedy', 'Fantasy', 'Horror', 'Drama', 'Sport', 'Drama', 'History', 'Thriller', 'Animation', 'Action', 'Adventure', 'Action', 'Adventure', 'Drama', 'Action', 'Comedy', 'Family', 'Action', 'Adventure', 'Drama', 'Action', 'Adventure', 'Sci-Fi', 'Action', 'Adventure', 'Sci-Fi', 'Action', 'Comedy', 'Action', 'Crime', 'Drama', 'Biography', 'Drama', 'Comedy', 'Drama', 'Fantasy', 'Romance', 'Action', 'Adventure', 'Sci-Fi', 'Comedy', 'Comedy', 'Drama', 'Animation', 'Action', 'Adventure', 'Animation', 'Adventure', 'Comedy', 'Drama', 'Romance', 'Drama', 'Mystery', 'Thriller', 'Drama', 'History', 'Thriller', 'Animation', 'Adventure', 'Comedy', 'Action', 'Adventure', 'Sci-Fi', 'Adventure', 'Comedy', 'Action', 'Thriller', 'Comedy', 'Music', 'Animation', 'Adventure', 'Comedy', 'Action', 'Adventure', 'Crime', 'Comedy', 'Drama', 'Horror', 'Adventure', 'Family', 'Fantasy', 'Drama', 'Action', 'Drama', 'Thriller', 'Drama', 'Action', 'Horror', 'Romance', 'Action', 'Drama', 'Fantasy', 'Action', 'Crime', 'Drama', 'Drama', 'Fantasy', 'Romance', 'Action', 'Crime', 'Thriller', 'Action', 'Mystery', 'Thriller', 'Comedy', 'Drama', 'Comedy', 'Action', 'Adventure', 'Horror', 'Action', 'Adventure', 'Thriller', 'Drama', 'Romance', 'Drama', 'Thriller', 'Action', 'Comedy', 'Crime', 'Adventure', 'Family', 'Fantasy', 'Drama', 'Romance', 'Animation', 'Family', 'Fantasy', 'Drama', 'Romance', 'Action', 'Sci-Fi', 'Adventure', 'Comedy', 'Drama', 'Animation', 'Action', 'Adventure', 'Drama', 'Horror', 'Action', 'Adventure', 'Sci-Fi', 'Comedy', 'Drama', 'Action', 'Horror', 'Mystery', 'Action', 'Thriller', 'Action', 'Adventure', 'Sci-Fi', 'Drama', 'Comedy', 'Drama', 'Romance', 'Comedy', 'Crime', 'Comedy', 'Romance', 'Drama', 'Romance', 'Crime', 'Drama', 'Thriller', 'Horror', 'Mystery', 'Thriller', 'Biography', 'Drama', 'Adventure', 'Comedy', 'Family', 'Action', 'Adventure', 'Crime', 'Action', 'Crime', 'Mystery', 'Mystery', 'Thriller', 'Action', 'Sci-Fi', 'Thriller', 'Action', 'Comedy', 'Crime', 'Biography', 'Crime', 'Drama', 'Biography', 'Drama', 'History', 'Action', 'Adventure', 'Sci-Fi', 'Adventure', 'Family', 'Fantasy', 'Biography', 'Drama', 'History', 'Biography', 'Comedy', 'Drama', 'Drama', 'Thriller', 'Comedy', 'Drama', 'Romance', 'Drama', 'Romance', 'Sci-Fi', 'Action', 'Crime', 'Drama', 'Adventure', 'Comedy', 'Drama', 'Comedy', 'Drama', 'Family', 'Drama', 'Romance', 'Thriller', 'Comedy', 'Crime', 'Drama', 'Animation', 'Comedy', 'Family', 'Drama', 'Horror', 'Sci-Fi', 'Action', 'Adventure', 'Drama', 'Action', 'Horror', 'Sci-Fi', 'Action', 'Crime', 'Sport', 'Drama', 'Horror', 'Sci-Fi', 'Drama', 'Horror', 'Sci-Fi', 'Action', 'Adventure', 'Comedy', 'Mystery', 'Sci-Fi', 'Thriller', 'Crime', 'Drama', 'Thriller', 'Animation', 'Adventure', 'Comedy', 'Action', 'Sci-Fi', 'Thriller', 'Drama', 'Romance', 'Comedy', 'Drama', 'Music', 'Crime', 'Drama', 'Thriller', 'Comedy', 'Drama', 'Romance', 'Comedy', 'Romance', 'Drama', 'Sci-Fi', 'Thriller', 'Drama', 'War', 'Action', 'Crime', 'Drama', 'Sci-Fi', 'Thriller', 'Adventure', 'Drama', 'Horror', 'Comedy', 'Drama', 'Romance', 'Action', 'Adventure', 'Drama', 'Action', 'Crime', 'Drama', 'Adventure', 'Fantasy', 'Drama', 'Romance', 'Biography', 'History', 'Thriller', 'Crime', 'Drama', 'Thriller', 'Action', 'Drama', 'History', 'Crime', 'Drama', 'Thriller', 'Action', 'Biography', 'Drama', 'Adventure', 'Horror', 'Action', 'Adventure', 'Sci-Fi', 'Action', 'Adventure', 'Mystery', 'Comedy', 'Drama', 'Romance', 'Horror', 'Thriller', 'Action', 'Sci-Fi', 'Thriller', 'Biography', 'Drama', 'Action', 'Crime', 'Drama', 'Action', 'Crime', 'Mystery', 'Action', 'Adventure', 'Comedy', 'Mystery', 'Thriller', 'Mystery', 'Sci-Fi', 'Thriller', 'Drama', 'Mystery', 'Sci-Fi', 'Comedy', 'Drama', 'Adventure', 'Family', 'Fantasy', 'Biography', 'Drama', 'Sport', 'Comedy', 'Drama', 'Romance', 'Biography', 'Drama', 'Romance', 'Action', 'Adventure', 'Sci-Fi', 'Mystery', 'Thriller', 'Mystery', 'Thriller', 'Action', 'Drama', 'Fantasy', 'Action', 'Adventure', 'Biography', 'Adventure', 'Comedy', 'Sci-Fi', 'Action', 'Adventure', 'Thriller', 'Fantasy', 'Horror', 'Horror', 'Mystery', 'Animation', 'Adventure', 'Comedy', 'Action', 'Adventure', 'Drama', 'Adventure', 'Family', 'Fantasy', 'Action', 'Adventure', 'Sci-Fi', 'Comedy', 'Drama', 'Comedy', 'Drama', 'Crime', 'Drama', 'Thriller', 'Comedy', 'Romance', 'Animation', 'Comedy', 'Family', 'Comedy', 'Drama', 'Comedy', 'Drama', 'Biography', 'Drama', 'Sport', 'Action', 'Adventure', 'Fantasy', 'Action', 'Drama', 'History', 'Action', 'Adventure', 'Sci-Fi', 'Action', 'Adventure', 'Mystery', 'Crime', 'Drama', 'Mystery', 'Action', 'Comedy', 'Romance', 'Comedy', 'Drama', 'Romance', 'Biography', 'Drama', 'Sport', 'Action', 'Fantasy', 'Thriller', 'Biography', 'Drama', 'Sport', 'Action', 'Drama', 'Fantasy', 'Adventure', 'Sci-Fi', 'Thriller', 'Animation', 'Adventure', 'Comedy', 'Drama', 'Mystery', 'Thriller', 'Drama', 'Romance', 'Crime', 'Drama', 'Mystery', 'Comedy', 'Romance', 'Sport', 'Comedy', 'Family', 'Drama', 'Horror', 'Mystery', 'Action', 'Drama', 'Sport', 'Action', 'Adventure', 'Comedy', 'Drama', 'Mystery', 'Sci-Fi', 'Animation', 'Action', 'Comedy', 'Action', 'Crime', 'Drama', 'Action', 'Crime', 'Drama', 'Animation', 'Action', 'Adventure', 'Crime', 'Drama', 'Comedy', 'Crime', 'Drama', 'Action', 'Adventure', 'Fantasy', 'Drama', 'Fantasy', 'Romance', 'Comedy', 'Drama', 'Drama', 'Fantasy', 'Thriller', 'Biography', 'Crime', 'Drama', 'Comedy', 'Drama', 'Romance', 'Action', 'Crime', 'Drama', 'Sci-Fi', 'Action', 'Comedy', 'Romance', 'Adventure', 'Comedy', 'Drama', 'Comedy', 'Crime', 'Drama', 'Action', 'Fantasy', 'Horror', 'Drama', 'Horror', 'Horror', 'Action', 'Thriller', 'Action', 'Adventure', 'Mystery', 'Action', 'Adventure', 'Fantasy', 'Adventure', 'Comedy', 'Family', 'Comedy', 'Drama', 'Romance', 'Comedy', 'Comedy', 'Drama', 'Horror', 'Comedy', 'Romance', 'Mystery', 'Romance', 'Sci-Fi', 'Crime', 'Drama', 'Drama', 'Horror', 'Mystery', 'Comedy', 'Biography', 'Drama', 'Comedy', 'Drama', 'Thriller', 'Drama', 'History', 'War', 'Comedy', 'Drama', 'Action', 'Comedy', 'Fantasy', 'Drama', 'Horror', 'Musical', 'Horror', 'Mystery', 'Thriller', 'Comedy', 'Music', 'Biography', 'Crime', 'Drama', 'Drama', 'Action', 'Adventure', 'Comedy', 'Crime', 'Drama', 'Mystery', 'Drama', 'Action', 'Comedy', 'Crime', 'Comedy', 'Drama', 'Romance', 'Crime', 'Drama', 'Mystery', 'Action', 'Comedy', 'Crime', 'Drama', 'Drama', 'Romance', 'Crime', 'Drama', 'Mystery', 'Adventure', 'Comedy', 'Romance', 'Comedy', 'Crime', 'Drama', 'Adventure', 'Drama', 'Thriller', 'Crime', 'Drama', 'Thriller', 'Drama', 'History', 'Thriller', 'Action', 'Adventure', 'Sci-Fi', 'Horror', 'Action', 'Crime', 'Mystery', 'Comedy', 'Romance', 'Comedy', 'Action', 'Drama', 'Thriller', 'Action', 'Adventure', 'Sci-Fi', 'Drama', 'Mystery', 'Thriller', 'Comedy', 'Drama', 'Romance', 'Action', 'Fantasy', 'Horror', 'Drama', 'Romance', 'Biography', 'Drama', 'Biography', 'Drama', 'Action', 'Adventure', 'Sci-Fi', 'Animation', 'Adventure', 'Comedy', 'Drama', 'Mystery', 'Thriller', 'Action', 'Horror', 'Sci-Fi', 'Drama', 'Romance', 'Action', 'Adventure', 'Drama', 'Adventure', 'Drama', 'Fantasy', 'Drama', 'Romance', 'Sci-Fi', 'Action', 'Adventure', 'Thriller', 'Comedy', 'Fantasy', 'Action', 'Comedy', 'Crime', 'Adventure', 'Drama', 'Romance', 'Action', 'Crime', 'Drama', 'Comedy', 'Drama', 'Romance', 'Crime', 'Drama', 'Crime', 'Drama', 'Mystery', 'Action', 'Adventure', 'Sci-Fi', 'Animation', 'Fantasy', 'Animation', 'Adventure', 'Comedy', 'Drama', 'Mystery', 'War', 'Comedy', 'Romance', 'Animation', 'Comedy', 'Family', 'Comedy', 'Horror', 'Mystery', 'Thriller', 'Action', 'Adventure', 'Drama', 'Comedy', 'Drama', 'Adventure', 'Biography', 'Drama', 'Comedy', 'Horror', 'Thriller', 'Action', 'Drama', 'Family', 'Comedy', 'Fantasy', 'Horror', 'Comedy', 'Romance', 'Drama', 'Mystery', 'Romance', 'Action', 'Adventure', 'Comedy', 'Thriller', 'Comedy', 'Adventure', 'Comedy', 'Sci-Fi', 'Mystery', 'Thriller', 'Comedy', 'Drama', 'Adventure', 'Drama', 'Family', 'Horror', 'Thriller', 'Action', 'Drama', 'Romance', 'Drama', 'Romance', 'Action', 'Adventure', 'Fantasy', 'Comedy', 'Action', 'Biography', 'Drama', 'Drama', 'Mystery', 'Romance', 'Adventure', 'Drama', 'Western', 'Drama', 'Music', 'Romance', 'Comedy', 'Romance', 'Western', 'Horror', 'Thriller', 'Adventure', 'Family', 'Fantasy', 'Crime', 'Drama', 'Mystery', 'Horror', 'Mystery', 'Comedy', 'Crime', 'Drama', 'Action', 'Comedy', 'Romance', 'Action', 'Biography', 'Drama', 'Drama', 'Music', 'Comedy', 'Drama', 'Drama', 'Thriller', 'War', 'Action', 'Mystery', 'Thriller', 'Horror', 'Sci-Fi', 'Thriller', 'Comedy', 'Drama', 'Romance', 'Action', 'Adventure', 'Fantasy', 'Drama', 'Mystery', 'Romance', 'Drama', 'Action', 'Adventure', 'Thriller', 'Animation', 'Action', 'Adventure', 'Drama', 'Fantasy', 'Mystery', 'Drama', 'Sci-Fi', 'Animation', 'Adventure', 'Comedy', 'Horror', 'Thriller', 'Action', 'Mystery', 'Thriller', 'Action', 'Mystery', 'Sci-Fi', 'Crime', 'Drama', 'Thriller', 'Comedy', 'Drama', 'Romance', 'Biography', 'Drama', 'Thriller', 'Action', 'Adventure', 'Family', 'Animation', 'Comedy', 'Family', 'Action', 'Crime', 'Drama', 'Comedy', 'Comedy', 'Crime', 'Thriller', 'Comedy', 'Romance', 'Animation', 'Comedy', 'Drama', 'Action', 'Crime', 'Thriller', 'Comedy', 'Romance', 'Adventure', 'Biography', 'Drama', 'Animation', 'Adventure', 'Comedy', 'Crime', 'Drama', 'Mystery', 'Action', 'Comedy', 'Sci-Fi', 'Comedy', 'Crime', 'Animation', 'Action', 'Adventure', 'Action', 'Drama', 'Thriller', 'Fantasy', 'Horror', 'Crime', 'Drama', 'Thriller', 'Action', 'Adventure', 'Fantasy', 'Comedy', 'Drama', 'Romance', 'Biography', 'Drama', 'Romance', 'Action', 'Adventure', 'Comedy', 'Horror', 'Thriller', 'Horror', 'Mystery', 'Thriller', 'Comedy', 'Romance', 'Animation', 'Adventure', 'Comedy', 'Crime', 'Drama', 'Mystery', 'Adventure', 'Biography', 'Drama', 'Horror', 'Mystery', 'Thriller', 'Adventure', 'Fantasy', 'Mystery', 'Action', 'Adventure', 'Sci-Fi', 'Biography', 'Drama', 'Comedy', 'Drama', 'Sport', 'Comedy', 'Family', 'Drama', 'Romance', 'Action', 'Adventure', 'Comedy', 'Comedy', 'Mystery', 'Romance', 'Thriller', 'Crime', 'Drama', 'Action', 'Comedy', 'Comedy', 'Crime', 'Drama', 'Thriller', 'Drama', 'Animation', 'Adventure', 'Comedy', 'Action', 'Thriller', 'Drama', 'Thriller', 'Animation', 'Adventure', 'Comedy', 'Crime', 'Drama', 'Mystery', 'Biography', 'Drama', 'Sport', 'Crime', 'Drama', 'Thriller', 'Drama', 'Music', 'Crime', 'Drama', 'Thriller', 'Drama', 'Romance', 'Animation', 'Action', 'Adventure', 'Comedy', 'Drama', 'Action', 'Adventure', 'Drama', 'Biography', 'Crime', 'Drama', 'Horror', 'Biography', 'Drama', 'Mystery', 'Drama', 'Romance', 'Comedy', 'Family', 'Drama', 'Drama', 'Fantasy', 'Horror', 'Drama', 'Romance', 'Biography', 'Drama', 'History', 'Comedy', 'Family', 'Action', 'Adventure', 'Thriller', 'Comedy', 'Drama', 'Action', 'Adventure', 'Fantasy', 'Action', 'Thriller', 'Drama', 'Romance', 'Comedy', 'Drama', 'Romance', 'Drama', 'Horror', 'Sci-Fi', 'Comedy', 'Horror', 'Romance', 'Drama', 'Action', 'Adventure', 'Sci-Fi', 'Action', 'Adventure', 'Fantasy', 'Action', 'Adventure', 'Drama', 'Biography', 'Comedy', 'Drama', 'Drama', 'Mystery', 'Romance', 'Animation', 'Adventure', 'Comedy', 'Drama', 'Romance', 'Sci-Fi', 'Drama', 'Drama', 'Fantasy', 'Drama', 'Romance', 'Comedy', 'Horror', 'Thriller', 'Comedy', 'Drama', 'Romance', 'Action', 'Drama', 'Family', 'Comedy', 'Drama', 'Romance', 'Action', 'Thriller', 'War', 'Adventure', 'Comedy', 'Drama', 'Comedy', 'Romance', 'Comedy', 'Romance', 'Comedy', 'Drama', 'Romance', 'Action', 'Adventure', 'Crime', 'Comedy', 'Romance', 'Animation', 'Action', 'Adventure', 'Action', 'Crime', 'Sci-Fi', 'Comedy', 'Drama', 'Romance', 'Crime', 'Thriller', 'Comedy', 'Horror', 'Sci-Fi', 'Drama', 'Thriller', 'Drama', 'Fantasy', 'Horror', 'Adventure', 'Drama', 'Family', 'Mystery', 'Sci-Fi', 'Thriller', 'Biography', 'Crime', 'Drama', 'Drama', 'Fantasy', 'Horror', 'Action', 'Adventure', 'Thriller', 'Crime', 'Drama', 'Fantasy', 'Adventure', 'Family', 'Fantasy', 'Action', 'Adventure', 'Drama', 'Action', 'Comedy', 'Horror', 'Comedy', 'Drama', 'Family', 'Action', 'Thriller', 'Action', 'Adventure', 'Sci-Fi', 'Adventure', 'Drama', 'Fantasy', 'Drama', 'Drama', 'Comedy', 'Drama', 'Music', 'Drama', 'Fantasy', 'Music', 'Comedy', 'Horror', 'Action', 'Comedy', 'Sport', 'Horror', 'Comedy', 'Drama', 'Horror', 'Mystery', 'Adventure', 'Drama', 'Fantasy', 'Comedy', 'Romance', 'Action', 'Sci-Fi', 'Thriller', 'Crime', 'Drama', 'Action', 'Adventure', 'Sci-Fi', 'Adventure', 'Comedy', 'Drama', 'Comedy', 'Drama', 'Comedy', 'Drama', 'Romance', 'Adventure', 'Comedy', 'Drama', 'Action', 'Sci-Fi', 'Thriller', 'Comedy', 'Romance', 'Action', 'Fantasy', 'Horror', 'Crime', 'Drama', 'Thriller', 'Action', 'Drama', 'Thriller', 'Crime', 'Drama', 'Mystery', 'Crime', 'Drama', 'Mystery', 'Drama', 'Sci-Fi', 'Thriller', 'Biography', 'Drama', 'History', 'Crime', 'Horror', 'Thriller', 'Horror', 'Thriller', 'Comedy', 'Drama', 'Musical', 'Horror', 'Mystery', 'Biography', 'Drama', 'Sport', 'Comedy', 'Family', 'Romance', 'Drama', 'Thriller', 'Biography', 'Drama', 'Family', 'Comedy', 'Drama', 'Family', 'Drama', 'Fantasy', 'Musical', 'Comedy', 'Adventure', 'Family', 'Adventure', 'Comedy', 'Fantasy', 'Horror', 'Thriller', 'Drama', 'Romance', 'Action', 'Adventure', 'Fantasy', 'Drama', 'Family', 'Music', 'Action', 'Adventure', 'Horror', 'Comedy', 'Horror', 'Drama', 'Music', 'Romance', 'Comedy', 'Family', 'Fantasy']\n"
          ]
        }
      ],
      "source": [
        "list1=[]\n",
        "for i in data['Genre']:\n",
        "  list1.extend(i.split(','))\n",
        "print(list1)"
      ]
    },
    {
      "cell_type": "code",
      "execution_count": 103,
      "metadata": {
        "id": "cSTD8POzBfWL",
        "colab": {
          "base_uri": "https://localhost:8080/"
        },
        "outputId": "b023e405-9e4d-4048-b754-d015b85c1071"
      },
      "outputs": [
        {
          "output_type": "stream",
          "name": "stdout",
          "text": [
            "{'Comedy', 'Sport', 'Horror', 'Mystery', 'Sci-Fi', 'Western', 'Thriller', 'Adventure', 'History', 'Fantasy', 'Drama', 'Musical', 'Crime', 'Family', 'Music', 'War', 'Romance', 'Action', 'Animation', 'Biography'}\n",
            "20\n"
          ]
        }
      ],
      "source": [
        "print(set(list1))\n",
        "set1=set(list1)\n",
        "print(len(set(list1)))"
      ]
    },
    {
      "cell_type": "markdown",
      "metadata": {
        "id": "V07ZC4TGBfWN"
      },
      "source": [
        "### 23. How Many Films of Each Genre Were Made?"
      ]
    },
    {
      "cell_type": "code",
      "execution_count": 107,
      "metadata": {
        "id": "Q01ZoqKMBfWN",
        "colab": {
          "base_uri": "https://localhost:8080/"
        },
        "outputId": "0de8795f-c599-49f1-c1c4-61a4c120b1e7"
      },
      "outputs": [
        {
          "output_type": "stream",
          "name": "stdout",
          "text": [
            "[['Comedy', 250], ['Sport', 15], ['Horror', 87], ['Mystery', 86], ['Sci-Fi', 107], ['Western', 4], ['Thriller', 148], ['Adventure', 244], ['History', 25], ['Fantasy', 92], ['Drama', 419], ['Musical', 5], ['Crime', 126], ['Family', 48], ['Music', 15], ['War', 10], ['Romance', 120], ['Action', 277], ['Animation', 45], ['Biography', 67]]\n"
          ]
        }
      ],
      "source": [
        "list2=[]\n",
        "for i in set1:\n",
        "  if i not in list2:\n",
        "    list2.append([i,list1.count(i)])\n",
        "print(list2)"
      ]
    },
    {
      "cell_type": "code",
      "source": [],
      "metadata": {
        "id": "PaZSmV1E67Uu"
      },
      "execution_count": null,
      "outputs": []
    },
    {
      "cell_type": "code",
      "source": [],
      "metadata": {
        "id": "6o2dAQXH60VG"
      },
      "execution_count": null,
      "outputs": []
    },
    {
      "cell_type": "code",
      "source": [],
      "metadata": {
        "id": "CGn4Ag8Q6zXX"
      },
      "execution_count": null,
      "outputs": []
    },
    {
      "cell_type": "code",
      "execution_count": null,
      "metadata": {
        "id": "3ZndhU5IBfWN"
      },
      "outputs": [],
      "source": []
    },
    {
      "cell_type": "code",
      "execution_count": null,
      "metadata": {
        "id": "P660nwvsBfWN"
      },
      "outputs": [],
      "source": []
    }
  ],
  "metadata": {
    "kernelspec": {
      "display_name": "Python 3",
      "language": "python",
      "name": "python3"
    },
    "language_info": {
      "codemirror_mode": {
        "name": "ipython",
        "version": 3
      },
      "file_extension": ".py",
      "mimetype": "text/x-python",
      "name": "python",
      "nbconvert_exporter": "python",
      "pygments_lexer": "ipython3",
      "version": "3.7.9"
    },
    "colab": {
      "provenance": [],
      "include_colab_link": true
    }
  },
  "nbformat": 4,
  "nbformat_minor": 0
}
