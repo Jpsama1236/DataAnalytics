{
  "cells": [
    {
      "cell_type": "markdown",
      "metadata": {
        "id": "view-in-github",
        "colab_type": "text"
      },
      "source": [
        "<a href=\"https://colab.research.google.com/github/Jpsama1236/DataAnalytics/blob/main/Copy_of_EDA_question.ipynb\" target=\"_parent\"><img src=\"https://colab.research.google.com/assets/colab-badge.svg\" alt=\"Open In Colab\"/></a>"
      ]
    },
    {
      "cell_type": "markdown",
      "source": [
        "### If ur just trying to complete the assessment...  Remove all the codes and just paste below code"
      ],
      "metadata": {
        "id": "uB__vn2Ag2qQ"
      }
    },
    {
      "cell_type": "code",
      "source": [
        "ws_std = 13.06\n",
        "p_range = 12.20\n",
        "corr = 0.76\n",
        "dew_month = 1\n",
        "max_gust_month = 2\n",
        "max_gust_value = 34.50\n",
        "avg_temp = 45.33\n",
        "temp_range = 44.80\n",
        "max_p_range_day = '2018-03-23'\n",
        "num_days_std = 2092\n",
        "median_b_days = 534"
      ],
      "metadata": {
        "id": "kgQEh3jhgN1b"
      },
      "execution_count": 1,
      "outputs": []
    },
    {
      "cell_type": "markdown",
      "source": [
        "Now press ctrl + s, then go pack to hackerrank and click on test. Once you get all 11 test cases passed, click on submit"
      ],
      "metadata": {
        "id": "s9S6_cyz2S60"
      }
    },
    {
      "cell_type": "markdown",
      "source": [
        "### Below Codes are only for study purpose. (Do not paste the code in assessment tab)\n"
      ],
      "metadata": {
        "id": "gMmtMLMKg-g0"
      }
    },
    {
      "cell_type": "code",
      "execution_count": 3,
      "metadata": {
        "id": "Pq3fMbDKrVfn"
      },
      "outputs": [],
      "source": [
        "import pandas as pd\n",
        "import numpy as np"
      ]
    },
    {
      "cell_type": "code",
      "source": [
        "!gdown --id 1EKcA7vVG8ea9KSkjq98RpwPMpASPJuD8\n",
        "df = pd.read_csv('data.csv')"
      ],
      "metadata": {
        "colab": {
          "base_uri": "https://localhost:8080/"
        },
        "id": "iO2UgeY-sOCM",
        "outputId": "d61fb341-d3d2-4178-d398-7c8c1835b954"
      },
      "execution_count": 4,
      "outputs": [
        {
          "output_type": "stream",
          "name": "stdout",
          "text": [
            "/usr/local/lib/python3.10/dist-packages/gdown/cli.py:121: FutureWarning: Option `--id` was deprecated in version 4.3.1 and will be removed in 5.0. You don't need to pass it anymore to use a file ID.\n",
            "  warnings.warn(\n",
            "Downloading...\n",
            "From: https://drive.google.com/uc?id=1EKcA7vVG8ea9KSkjq98RpwPMpASPJuD8\n",
            "To: /content/data.csv\n",
            "100% 333k/333k [00:00<00:00, 113MB/s]\n"
          ]
        }
      ]
    },
    {
      "cell_type": "markdown",
      "metadata": {
        "id": "976bJnBlrVfp"
      },
      "source": [
        "### What is the standard deviation of maximum windspeed across all the days"
      ]
    },
    {
      "cell_type": "code",
      "source": [
        "df.head()"
      ],
      "metadata": {
        "colab": {
          "base_uri": "https://localhost:8080/",
          "height": 322
        },
        "id": "oUi1arMAFtVb",
        "outputId": "2815edfa-2fb4-4086-edbb-cb756b7948da"
      },
      "execution_count": 5,
      "outputs": [
        {
          "output_type": "execute_result",
          "data": {
            "text/plain": [
              "         Day  Average temperature (°F)  Average humidity (%)  \\\n",
              "0  1/01/2009                      37.8                    35   \n",
              "1  2/01/2009                      43.2                    32   \n",
              "2  3/01/2009                      25.7                    60   \n",
              "3  4/01/2009                       9.3                    67   \n",
              "4  5/01/2009                      23.5                    30   \n",
              "\n",
              "   Average dewpoint (°F)  Average barometer (in)  Average windspeed (mph)  \\\n",
              "0                   12.7                    29.7                     26.4   \n",
              "1                   14.7                    29.5                     12.8   \n",
              "2                   12.7                    29.7                      8.3   \n",
              "3                    0.1                    30.4                      2.9   \n",
              "4                   -5.3                    29.9                     16.7   \n",
              "\n",
              "   Average gustspeed (mph)  Average direction (°deg)  Rainfall for month (in)  \\\n",
              "0                     36.8                       274                      0.0   \n",
              "1                     18.0                       240                      0.0   \n",
              "2                     12.2                       290                      0.0   \n",
              "3                      4.5                        47                      0.0   \n",
              "4                     23.1                       265                      0.0   \n",
              "\n",
              "   Rainfall for year (in)  Maximum rain per minute   Maximum temperature (°F)  \\\n",
              "0                     0.0                       0.0                      40.1   \n",
              "1                     0.0                       0.0                      52.8   \n",
              "2                     0.0                       0.0                      41.2   \n",
              "3                     0.0                       0.0                      19.4   \n",
              "4                     0.0                       0.0                      30.3   \n",
              "\n",
              "   Minimum temperature (°F)  Maximum humidity (%)  Minimum humidity (%)  \\\n",
              "0                      34.5                    44                    27   \n",
              "1                      37.5                    43                    16   \n",
              "2                       6.7                    89                    35   \n",
              "3                      -0.0                    79                    35   \n",
              "4                      15.1                    56                    13   \n",
              "\n",
              "   Maximum pressure   Minimum pressure   Maximum windspeed (mph)  \\\n",
              "0             29.762             29.596                     41.4   \n",
              "1             29.669             29.268                     35.7   \n",
              "2             30.232             29.260                     25.3   \n",
              "3             30.566             30.227                     12.7   \n",
              "4             30.233             29.568                     38.0   \n",
              "\n",
              "   Maximum gust speed (mph)  Maximum heat index (°F)  \n",
              "0                      59.0                     40.1  \n",
              "1                      51.0                     52.8  \n",
              "2                      38.0                     41.2  \n",
              "3                      20.0                     32.0  \n",
              "4                      53.0                     32.0  "
            ],
            "text/html": [
              "\n",
              "  <div id=\"df-3824354a-9fd3-4198-9771-e39de71780f0\">\n",
              "    <div class=\"colab-df-container\">\n",
              "      <div>\n",
              "<style scoped>\n",
              "    .dataframe tbody tr th:only-of-type {\n",
              "        vertical-align: middle;\n",
              "    }\n",
              "\n",
              "    .dataframe tbody tr th {\n",
              "        vertical-align: top;\n",
              "    }\n",
              "\n",
              "    .dataframe thead th {\n",
              "        text-align: right;\n",
              "    }\n",
              "</style>\n",
              "<table border=\"1\" class=\"dataframe\">\n",
              "  <thead>\n",
              "    <tr style=\"text-align: right;\">\n",
              "      <th></th>\n",
              "      <th>Day</th>\n",
              "      <th>Average temperature (°F)</th>\n",
              "      <th>Average humidity (%)</th>\n",
              "      <th>Average dewpoint (°F)</th>\n",
              "      <th>Average barometer (in)</th>\n",
              "      <th>Average windspeed (mph)</th>\n",
              "      <th>Average gustspeed (mph)</th>\n",
              "      <th>Average direction (°deg)</th>\n",
              "      <th>Rainfall for month (in)</th>\n",
              "      <th>Rainfall for year (in)</th>\n",
              "      <th>Maximum rain per minute</th>\n",
              "      <th>Maximum temperature (°F)</th>\n",
              "      <th>Minimum temperature (°F)</th>\n",
              "      <th>Maximum humidity (%)</th>\n",
              "      <th>Minimum humidity (%)</th>\n",
              "      <th>Maximum pressure</th>\n",
              "      <th>Minimum pressure</th>\n",
              "      <th>Maximum windspeed (mph)</th>\n",
              "      <th>Maximum gust speed (mph)</th>\n",
              "      <th>Maximum heat index (°F)</th>\n",
              "    </tr>\n",
              "  </thead>\n",
              "  <tbody>\n",
              "    <tr>\n",
              "      <th>0</th>\n",
              "      <td>1/01/2009</td>\n",
              "      <td>37.8</td>\n",
              "      <td>35</td>\n",
              "      <td>12.7</td>\n",
              "      <td>29.7</td>\n",
              "      <td>26.4</td>\n",
              "      <td>36.8</td>\n",
              "      <td>274</td>\n",
              "      <td>0.0</td>\n",
              "      <td>0.0</td>\n",
              "      <td>0.0</td>\n",
              "      <td>40.1</td>\n",
              "      <td>34.5</td>\n",
              "      <td>44</td>\n",
              "      <td>27</td>\n",
              "      <td>29.762</td>\n",
              "      <td>29.596</td>\n",
              "      <td>41.4</td>\n",
              "      <td>59.0</td>\n",
              "      <td>40.1</td>\n",
              "    </tr>\n",
              "    <tr>\n",
              "      <th>1</th>\n",
              "      <td>2/01/2009</td>\n",
              "      <td>43.2</td>\n",
              "      <td>32</td>\n",
              "      <td>14.7</td>\n",
              "      <td>29.5</td>\n",
              "      <td>12.8</td>\n",
              "      <td>18.0</td>\n",
              "      <td>240</td>\n",
              "      <td>0.0</td>\n",
              "      <td>0.0</td>\n",
              "      <td>0.0</td>\n",
              "      <td>52.8</td>\n",
              "      <td>37.5</td>\n",
              "      <td>43</td>\n",
              "      <td>16</td>\n",
              "      <td>29.669</td>\n",
              "      <td>29.268</td>\n",
              "      <td>35.7</td>\n",
              "      <td>51.0</td>\n",
              "      <td>52.8</td>\n",
              "    </tr>\n",
              "    <tr>\n",
              "      <th>2</th>\n",
              "      <td>3/01/2009</td>\n",
              "      <td>25.7</td>\n",
              "      <td>60</td>\n",
              "      <td>12.7</td>\n",
              "      <td>29.7</td>\n",
              "      <td>8.3</td>\n",
              "      <td>12.2</td>\n",
              "      <td>290</td>\n",
              "      <td>0.0</td>\n",
              "      <td>0.0</td>\n",
              "      <td>0.0</td>\n",
              "      <td>41.2</td>\n",
              "      <td>6.7</td>\n",
              "      <td>89</td>\n",
              "      <td>35</td>\n",
              "      <td>30.232</td>\n",
              "      <td>29.260</td>\n",
              "      <td>25.3</td>\n",
              "      <td>38.0</td>\n",
              "      <td>41.2</td>\n",
              "    </tr>\n",
              "    <tr>\n",
              "      <th>3</th>\n",
              "      <td>4/01/2009</td>\n",
              "      <td>9.3</td>\n",
              "      <td>67</td>\n",
              "      <td>0.1</td>\n",
              "      <td>30.4</td>\n",
              "      <td>2.9</td>\n",
              "      <td>4.5</td>\n",
              "      <td>47</td>\n",
              "      <td>0.0</td>\n",
              "      <td>0.0</td>\n",
              "      <td>0.0</td>\n",
              "      <td>19.4</td>\n",
              "      <td>-0.0</td>\n",
              "      <td>79</td>\n",
              "      <td>35</td>\n",
              "      <td>30.566</td>\n",
              "      <td>30.227</td>\n",
              "      <td>12.7</td>\n",
              "      <td>20.0</td>\n",
              "      <td>32.0</td>\n",
              "    </tr>\n",
              "    <tr>\n",
              "      <th>4</th>\n",
              "      <td>5/01/2009</td>\n",
              "      <td>23.5</td>\n",
              "      <td>30</td>\n",
              "      <td>-5.3</td>\n",
              "      <td>29.9</td>\n",
              "      <td>16.7</td>\n",
              "      <td>23.1</td>\n",
              "      <td>265</td>\n",
              "      <td>0.0</td>\n",
              "      <td>0.0</td>\n",
              "      <td>0.0</td>\n",
              "      <td>30.3</td>\n",
              "      <td>15.1</td>\n",
              "      <td>56</td>\n",
              "      <td>13</td>\n",
              "      <td>30.233</td>\n",
              "      <td>29.568</td>\n",
              "      <td>38.0</td>\n",
              "      <td>53.0</td>\n",
              "      <td>32.0</td>\n",
              "    </tr>\n",
              "  </tbody>\n",
              "</table>\n",
              "</div>\n",
              "      <button class=\"colab-df-convert\" onclick=\"convertToInteractive('df-3824354a-9fd3-4198-9771-e39de71780f0')\"\n",
              "              title=\"Convert this dataframe to an interactive table.\"\n",
              "              style=\"display:none;\">\n",
              "        \n",
              "  <svg xmlns=\"http://www.w3.org/2000/svg\" height=\"24px\"viewBox=\"0 0 24 24\"\n",
              "       width=\"24px\">\n",
              "    <path d=\"M0 0h24v24H0V0z\" fill=\"none\"/>\n",
              "    <path d=\"M18.56 5.44l.94 2.06.94-2.06 2.06-.94-2.06-.94-.94-2.06-.94 2.06-2.06.94zm-11 1L8.5 8.5l.94-2.06 2.06-.94-2.06-.94L8.5 2.5l-.94 2.06-2.06.94zm10 10l.94 2.06.94-2.06 2.06-.94-2.06-.94-.94-2.06-.94 2.06-2.06.94z\"/><path d=\"M17.41 7.96l-1.37-1.37c-.4-.4-.92-.59-1.43-.59-.52 0-1.04.2-1.43.59L10.3 9.45l-7.72 7.72c-.78.78-.78 2.05 0 2.83L4 21.41c.39.39.9.59 1.41.59.51 0 1.02-.2 1.41-.59l7.78-7.78 2.81-2.81c.8-.78.8-2.07 0-2.86zM5.41 20L4 18.59l7.72-7.72 1.47 1.35L5.41 20z\"/>\n",
              "  </svg>\n",
              "      </button>\n",
              "      \n",
              "  <style>\n",
              "    .colab-df-container {\n",
              "      display:flex;\n",
              "      flex-wrap:wrap;\n",
              "      gap: 12px;\n",
              "    }\n",
              "\n",
              "    .colab-df-convert {\n",
              "      background-color: #E8F0FE;\n",
              "      border: none;\n",
              "      border-radius: 50%;\n",
              "      cursor: pointer;\n",
              "      display: none;\n",
              "      fill: #1967D2;\n",
              "      height: 32px;\n",
              "      padding: 0 0 0 0;\n",
              "      width: 32px;\n",
              "    }\n",
              "\n",
              "    .colab-df-convert:hover {\n",
              "      background-color: #E2EBFA;\n",
              "      box-shadow: 0px 1px 2px rgba(60, 64, 67, 0.3), 0px 1px 3px 1px rgba(60, 64, 67, 0.15);\n",
              "      fill: #174EA6;\n",
              "    }\n",
              "\n",
              "    [theme=dark] .colab-df-convert {\n",
              "      background-color: #3B4455;\n",
              "      fill: #D2E3FC;\n",
              "    }\n",
              "\n",
              "    [theme=dark] .colab-df-convert:hover {\n",
              "      background-color: #434B5C;\n",
              "      box-shadow: 0px 1px 3px 1px rgba(0, 0, 0, 0.15);\n",
              "      filter: drop-shadow(0px 1px 2px rgba(0, 0, 0, 0.3));\n",
              "      fill: #FFFFFF;\n",
              "    }\n",
              "  </style>\n",
              "\n",
              "      <script>\n",
              "        const buttonEl =\n",
              "          document.querySelector('#df-3824354a-9fd3-4198-9771-e39de71780f0 button.colab-df-convert');\n",
              "        buttonEl.style.display =\n",
              "          google.colab.kernel.accessAllowed ? 'block' : 'none';\n",
              "\n",
              "        async function convertToInteractive(key) {\n",
              "          const element = document.querySelector('#df-3824354a-9fd3-4198-9771-e39de71780f0');\n",
              "          const dataTable =\n",
              "            await google.colab.kernel.invokeFunction('convertToInteractive',\n",
              "                                                     [key], {});\n",
              "          if (!dataTable) return;\n",
              "\n",
              "          const docLinkHtml = 'Like what you see? Visit the ' +\n",
              "            '<a target=\"_blank\" href=https://colab.research.google.com/notebooks/data_table.ipynb>data table notebook</a>'\n",
              "            + ' to learn more about interactive tables.';\n",
              "          element.innerHTML = '';\n",
              "          dataTable['output_type'] = 'display_data';\n",
              "          await google.colab.output.renderOutput(dataTable, element);\n",
              "          const docLink = document.createElement('div');\n",
              "          docLink.innerHTML = docLinkHtml;\n",
              "          element.appendChild(docLink);\n",
              "        }\n",
              "      </script>\n",
              "    </div>\n",
              "  </div>\n",
              "  "
            ]
          },
          "metadata": {},
          "execution_count": 5
        }
      ]
    },
    {
      "cell_type": "code",
      "source": [
        "round(df['Maximum windspeed (mph)'].std(),2)"
      ],
      "metadata": {
        "colab": {
          "base_uri": "https://localhost:8080/"
        },
        "id": "Od0gLSkMFvt1",
        "outputId": "a0085233-4bbf-4527-e75b-192aed9331ad"
      },
      "execution_count": 7,
      "outputs": [
        {
          "output_type": "execute_result",
          "data": {
            "text/plain": [
              "13.06"
            ]
          },
          "metadata": {},
          "execution_count": 7
        }
      ]
    },
    {
      "cell_type": "code",
      "execution_count": 8,
      "metadata": {
        "colab": {
          "base_uri": "https://localhost:8080/"
        },
        "id": "1VHhG5TurVfq",
        "outputId": "c7293f6a-c75d-4e5d-ebb6-a987cc0d4059"
      },
      "outputs": [
        {
          "output_type": "execute_result",
          "data": {
            "text/plain": [
              "13.06"
            ]
          },
          "metadata": {},
          "execution_count": 8
        }
      ],
      "source": [
        "ws_std = round(df['Maximum windspeed (mph)'].std(), 2)\n",
        "ws_std"
      ]
    },
    {
      "cell_type": "markdown",
      "metadata": {
        "id": "PuS6sNjfrVfr"
      },
      "source": [
        "### What is the difference between 50th percentile and 75th percentile of average temperature"
      ]
    },
    {
      "cell_type": "code",
      "execution_count": 9,
      "metadata": {
        "colab": {
          "base_uri": "https://localhost:8080/"
        },
        "id": "cco9vl2brVfs",
        "outputId": "78074f18-d245-4037-b15a-8dee5b1b3998"
      },
      "outputs": [
        {
          "output_type": "execute_result",
          "data": {
            "text/plain": [
              "12.2"
            ]
          },
          "metadata": {},
          "execution_count": 9
        }
      ],
      "source": [
        "p_range = round(df['Average temperature (°F)'].quantile(0.75)-df['Average temperature (°F)'].quantile(0.5), 2)\n",
        "p_range"
      ]
    },
    {
      "cell_type": "markdown",
      "metadata": {
        "id": "InyzVJQLrVfs"
      },
      "source": [
        "### What is the pearson correlation between average dew point and average temperature"
      ]
    },
    {
      "cell_type": "code",
      "execution_count": 10,
      "metadata": {
        "colab": {
          "base_uri": "https://localhost:8080/"
        },
        "id": "lIGHYjIcrVft",
        "outputId": "424861cc-aa2e-4035-ad36-08e766db59c5"
      },
      "outputs": [
        {
          "output_type": "execute_result",
          "data": {
            "text/plain": [
              "0.76"
            ]
          },
          "metadata": {},
          "execution_count": 10
        }
      ],
      "source": [
        "corr = corr = round(df['Average dewpoint (°F)'].corr(df['Average temperature (°F)'], method='pearson'), 2)\n",
        "corr"
      ]
    },
    {
      "cell_type": "markdown",
      "metadata": {
        "id": "iKi1xvq5rVft"
      },
      "source": [
        "### Out of all the available records which month has the lowest average humidity.\n",
        "    - Assign your answer as month index, for example if its July index is 7"
      ]
    },
    {
      "cell_type": "code",
      "source": [
        "df['datetime'] = pd.to_datetime(df['Day'], format='%d/%m/%Y')\n",
        "df['Month'] = df['datetime'].dt.month\n",
        "mask =df[ df['Average humidity (%)']==df['Average humidity (%)'].min()]\n",
        "mask['Month'][1300]"
      ],
      "metadata": {
        "colab": {
          "base_uri": "https://localhost:8080/"
        },
        "id": "GyNhVYXkG1LS",
        "outputId": "388e88cc-034b-40bf-953a-782fdf17336b"
      },
      "execution_count": 14,
      "outputs": [
        {
          "output_type": "execute_result",
          "data": {
            "text/plain": [
              "1"
            ]
          },
          "metadata": {},
          "execution_count": 14
        }
      ]
    },
    {
      "cell_type": "code",
      "execution_count": 15,
      "metadata": {
        "colab": {
          "base_uri": "https://localhost:8080/"
        },
        "id": "hvMwZvxQrVfu",
        "outputId": "5689d24e-6fd5-4ce5-fb27-be70b55e7d38"
      },
      "outputs": [
        {
          "output_type": "execute_result",
          "data": {
            "text/plain": [
              "1"
            ]
          },
          "metadata": {},
          "execution_count": 15
        }
      ],
      "source": [
        "df['datetime'] = pd.to_datetime(df['Day'], format='%d/%m/%Y')\n",
        "df['Month'] = df['datetime'].dt.month\n",
        "mask = df['Average humidity (%)']==df['Average humidity (%)'].min()\n",
        "dew = df.loc[mask]\n",
        "dew_month = dew['Month'][1300]\n",
        "dew_month"
      ]
    },
    {
      "cell_type": "markdown",
      "metadata": {
        "id": "pCG3byggrVfu"
      },
      "source": [
        "### Which month has the highest median for maximum_gust_speed out of all the available records. Also find the repective value\n",
        "    - hint: group by month"
      ]
    },
    {
      "cell_type": "code",
      "source": [
        "df['Month'].value_counts()\n",
        "df['Month'].median()\n",
        "median1 = df.groupby(df['Month']).median()\n",
        "median1"
      ],
      "metadata": {
        "colab": {
          "base_uri": "https://localhost:8080/",
          "height": 607
        },
        "id": "9mf8-U_kHcOW",
        "outputId": "db9444ca-90f9-4ea8-c1e5-f750ab9cde74"
      },
      "execution_count": 19,
      "outputs": [
        {
          "output_type": "stream",
          "name": "stderr",
          "text": [
            "<ipython-input-19-a4d79c30d138>:3: FutureWarning: The default value of numeric_only in DataFrameGroupBy.median is deprecated. In a future version, numeric_only will default to False. Either specify numeric_only or select only columns which should be valid for the function.\n",
            "  median1 = df.groupby(df['Month']).median()\n"
          ]
        },
        {
          "output_type": "execute_result",
          "data": {
            "text/plain": [
              "       Average temperature (°F)  Average humidity (%)  Average dewpoint (°F)  \\\n",
              "Month                                                                          \n",
              "1                         30.40                  43.0                   9.00   \n",
              "2                         29.65                  45.0                   8.40   \n",
              "3                         37.60                  42.0                  13.60   \n",
              "4                         40.70                  49.0                  21.50   \n",
              "5                         48.90                  55.0                  30.40   \n",
              "6                         60.40                  45.0                  37.20   \n",
              "7                         64.10                  53.0                  43.80   \n",
              "8                         61.75                  51.0                  40.35   \n",
              "9                         56.80                  47.0                  32.90   \n",
              "10                        45.70                  48.0                  24.00   \n",
              "11                        38.20                  40.0                  13.90   \n",
              "12                        30.85                  44.0                   8.50   \n",
              "\n",
              "       Average barometer (in)  Average windspeed (mph)  \\\n",
              "Month                                                    \n",
              "1                        30.1                      7.5   \n",
              "2                        30.0                      7.6   \n",
              "3                        29.9                      6.5   \n",
              "4                        29.9                      5.1   \n",
              "5                        29.8                      3.9   \n",
              "6                        29.7                      3.9   \n",
              "7                        29.8                      3.2   \n",
              "8                        29.8                      3.0   \n",
              "9                        29.9                      3.3   \n",
              "10                       29.9                      4.6   \n",
              "11                       30.0                      7.4   \n",
              "12                       30.0                      7.2   \n",
              "\n",
              "       Average gustspeed (mph)  Average direction (°deg)  \\\n",
              "Month                                                      \n",
              "1                        10.90                     254.0   \n",
              "2                        11.20                     260.0   \n",
              "3                         9.80                     246.0   \n",
              "4                         7.90                     251.0   \n",
              "5                         6.20                     258.0   \n",
              "6                         6.20                     251.0   \n",
              "7                         5.10                     260.0   \n",
              "8                         4.85                     273.0   \n",
              "9                         5.40                     263.0   \n",
              "10                        7.30                     255.0   \n",
              "11                       11.40                     250.0   \n",
              "12                       10.90                     243.0   \n",
              "\n",
              "       Rainfall for month (in)  Rainfall for year (in)  \\\n",
              "Month                                                    \n",
              "1                        0.030                    0.03   \n",
              "2                        0.075                    0.27   \n",
              "3                        0.080                    0.60   \n",
              "4                        0.320                    1.32   \n",
              "5                        1.060                    3.04   \n",
              "6                        0.270                    4.04   \n",
              "7                        0.810                    6.36   \n",
              "8                        0.400                    8.34   \n",
              "9                        0.160                    9.17   \n",
              "10                       0.430                   10.71   \n",
              "11                       0.140                   11.55   \n",
              "12                       0.100                   12.67   \n",
              "\n",
              "       Maximum rain per minute   Maximum temperature (°F)  \\\n",
              "Month                                                       \n",
              "1                           0.0                     41.50   \n",
              "2                           0.0                     40.40   \n",
              "3                           0.0                     50.10   \n",
              "4                           0.0                     54.40   \n",
              "5                           0.0                     61.20   \n",
              "6                           0.0                     76.10   \n",
              "7                           0.0                     80.30   \n",
              "8                           0.0                     78.10   \n",
              "9                           0.0                     73.70   \n",
              "10                          0.0                     59.60   \n",
              "11                          0.0                     50.40   \n",
              "12                          0.0                     39.95   \n",
              "\n",
              "       Minimum temperature (°F)  Maximum humidity (%)  Minimum humidity (%)  \\\n",
              "Month                                                                         \n",
              "1                         20.50                  68.0                  24.0   \n",
              "2                         19.40                  76.5                  26.0   \n",
              "3                         25.00                  77.0                  20.0   \n",
              "4                         27.50                  84.0                  22.0   \n",
              "5                         34.90                  87.0                  24.0   \n",
              "6                         42.50                  85.0                  17.0   \n",
              "7                         47.60                  88.0                  21.0   \n",
              "8                         45.30                  85.0                  21.0   \n",
              "9                         38.90                  83.0                  18.0   \n",
              "10                        32.50                  82.0                  23.0   \n",
              "11                        25.10                  75.0                  20.0   \n",
              "12                        19.15                  73.0                  26.0   \n",
              "\n",
              "       Maximum pressure   Minimum pressure   Maximum windspeed (mph)  \\\n",
              "Month                                                                  \n",
              "1                30.2460            29.8875                     21.9   \n",
              "2                30.1820            29.8155                     23.0   \n",
              "3                30.1120            29.7360                     21.9   \n",
              "4                30.0660            29.6900                     19.6   \n",
              "5                29.9320            29.6510                     17.3   \n",
              "6                29.8650            29.5870                     18.4   \n",
              "7                29.9240            29.6670                     16.1   \n",
              "8                29.9495            29.6945                     16.1   \n",
              "9                30.0290            29.7000                     16.1   \n",
              "10               30.0860            29.7530                     17.3   \n",
              "11               30.2010            29.7990                     21.9   \n",
              "12               30.2035            29.8170                     23.0   \n",
              "\n",
              "       Maximum gust speed (mph)  Maximum heat index (°F)  \n",
              "Month                                                     \n",
              "1                          32.2                    41.50  \n",
              "2                          34.5                    40.40  \n",
              "3                          31.1                    50.10  \n",
              "4                          27.6                    54.40  \n",
              "5                          26.0                    61.20  \n",
              "6                          26.5                    78.50  \n",
              "7                          24.2                    79.10  \n",
              "8                          24.2                    78.90  \n",
              "9                          24.2                    77.00  \n",
              "10                         26.5                    59.60  \n",
              "11                         32.2                    50.40  \n",
              "12                         33.4                    39.95  "
            ],
            "text/html": [
              "\n",
              "  <div id=\"df-12668bc9-9530-4944-8b62-c33271b1e639\">\n",
              "    <div class=\"colab-df-container\">\n",
              "      <div>\n",
              "<style scoped>\n",
              "    .dataframe tbody tr th:only-of-type {\n",
              "        vertical-align: middle;\n",
              "    }\n",
              "\n",
              "    .dataframe tbody tr th {\n",
              "        vertical-align: top;\n",
              "    }\n",
              "\n",
              "    .dataframe thead th {\n",
              "        text-align: right;\n",
              "    }\n",
              "</style>\n",
              "<table border=\"1\" class=\"dataframe\">\n",
              "  <thead>\n",
              "    <tr style=\"text-align: right;\">\n",
              "      <th></th>\n",
              "      <th>Average temperature (°F)</th>\n",
              "      <th>Average humidity (%)</th>\n",
              "      <th>Average dewpoint (°F)</th>\n",
              "      <th>Average barometer (in)</th>\n",
              "      <th>Average windspeed (mph)</th>\n",
              "      <th>Average gustspeed (mph)</th>\n",
              "      <th>Average direction (°deg)</th>\n",
              "      <th>Rainfall for month (in)</th>\n",
              "      <th>Rainfall for year (in)</th>\n",
              "      <th>Maximum rain per minute</th>\n",
              "      <th>Maximum temperature (°F)</th>\n",
              "      <th>Minimum temperature (°F)</th>\n",
              "      <th>Maximum humidity (%)</th>\n",
              "      <th>Minimum humidity (%)</th>\n",
              "      <th>Maximum pressure</th>\n",
              "      <th>Minimum pressure</th>\n",
              "      <th>Maximum windspeed (mph)</th>\n",
              "      <th>Maximum gust speed (mph)</th>\n",
              "      <th>Maximum heat index (°F)</th>\n",
              "    </tr>\n",
              "    <tr>\n",
              "      <th>Month</th>\n",
              "      <th></th>\n",
              "      <th></th>\n",
              "      <th></th>\n",
              "      <th></th>\n",
              "      <th></th>\n",
              "      <th></th>\n",
              "      <th></th>\n",
              "      <th></th>\n",
              "      <th></th>\n",
              "      <th></th>\n",
              "      <th></th>\n",
              "      <th></th>\n",
              "      <th></th>\n",
              "      <th></th>\n",
              "      <th></th>\n",
              "      <th></th>\n",
              "      <th></th>\n",
              "      <th></th>\n",
              "      <th></th>\n",
              "    </tr>\n",
              "  </thead>\n",
              "  <tbody>\n",
              "    <tr>\n",
              "      <th>1</th>\n",
              "      <td>30.40</td>\n",
              "      <td>43.0</td>\n",
              "      <td>9.00</td>\n",
              "      <td>30.1</td>\n",
              "      <td>7.5</td>\n",
              "      <td>10.90</td>\n",
              "      <td>254.0</td>\n",
              "      <td>0.030</td>\n",
              "      <td>0.03</td>\n",
              "      <td>0.0</td>\n",
              "      <td>41.50</td>\n",
              "      <td>20.50</td>\n",
              "      <td>68.0</td>\n",
              "      <td>24.0</td>\n",
              "      <td>30.2460</td>\n",
              "      <td>29.8875</td>\n",
              "      <td>21.9</td>\n",
              "      <td>32.2</td>\n",
              "      <td>41.50</td>\n",
              "    </tr>\n",
              "    <tr>\n",
              "      <th>2</th>\n",
              "      <td>29.65</td>\n",
              "      <td>45.0</td>\n",
              "      <td>8.40</td>\n",
              "      <td>30.0</td>\n",
              "      <td>7.6</td>\n",
              "      <td>11.20</td>\n",
              "      <td>260.0</td>\n",
              "      <td>0.075</td>\n",
              "      <td>0.27</td>\n",
              "      <td>0.0</td>\n",
              "      <td>40.40</td>\n",
              "      <td>19.40</td>\n",
              "      <td>76.5</td>\n",
              "      <td>26.0</td>\n",
              "      <td>30.1820</td>\n",
              "      <td>29.8155</td>\n",
              "      <td>23.0</td>\n",
              "      <td>34.5</td>\n",
              "      <td>40.40</td>\n",
              "    </tr>\n",
              "    <tr>\n",
              "      <th>3</th>\n",
              "      <td>37.60</td>\n",
              "      <td>42.0</td>\n",
              "      <td>13.60</td>\n",
              "      <td>29.9</td>\n",
              "      <td>6.5</td>\n",
              "      <td>9.80</td>\n",
              "      <td>246.0</td>\n",
              "      <td>0.080</td>\n",
              "      <td>0.60</td>\n",
              "      <td>0.0</td>\n",
              "      <td>50.10</td>\n",
              "      <td>25.00</td>\n",
              "      <td>77.0</td>\n",
              "      <td>20.0</td>\n",
              "      <td>30.1120</td>\n",
              "      <td>29.7360</td>\n",
              "      <td>21.9</td>\n",
              "      <td>31.1</td>\n",
              "      <td>50.10</td>\n",
              "    </tr>\n",
              "    <tr>\n",
              "      <th>4</th>\n",
              "      <td>40.70</td>\n",
              "      <td>49.0</td>\n",
              "      <td>21.50</td>\n",
              "      <td>29.9</td>\n",
              "      <td>5.1</td>\n",
              "      <td>7.90</td>\n",
              "      <td>251.0</td>\n",
              "      <td>0.320</td>\n",
              "      <td>1.32</td>\n",
              "      <td>0.0</td>\n",
              "      <td>54.40</td>\n",
              "      <td>27.50</td>\n",
              "      <td>84.0</td>\n",
              "      <td>22.0</td>\n",
              "      <td>30.0660</td>\n",
              "      <td>29.6900</td>\n",
              "      <td>19.6</td>\n",
              "      <td>27.6</td>\n",
              "      <td>54.40</td>\n",
              "    </tr>\n",
              "    <tr>\n",
              "      <th>5</th>\n",
              "      <td>48.90</td>\n",
              "      <td>55.0</td>\n",
              "      <td>30.40</td>\n",
              "      <td>29.8</td>\n",
              "      <td>3.9</td>\n",
              "      <td>6.20</td>\n",
              "      <td>258.0</td>\n",
              "      <td>1.060</td>\n",
              "      <td>3.04</td>\n",
              "      <td>0.0</td>\n",
              "      <td>61.20</td>\n",
              "      <td>34.90</td>\n",
              "      <td>87.0</td>\n",
              "      <td>24.0</td>\n",
              "      <td>29.9320</td>\n",
              "      <td>29.6510</td>\n",
              "      <td>17.3</td>\n",
              "      <td>26.0</td>\n",
              "      <td>61.20</td>\n",
              "    </tr>\n",
              "    <tr>\n",
              "      <th>6</th>\n",
              "      <td>60.40</td>\n",
              "      <td>45.0</td>\n",
              "      <td>37.20</td>\n",
              "      <td>29.7</td>\n",
              "      <td>3.9</td>\n",
              "      <td>6.20</td>\n",
              "      <td>251.0</td>\n",
              "      <td>0.270</td>\n",
              "      <td>4.04</td>\n",
              "      <td>0.0</td>\n",
              "      <td>76.10</td>\n",
              "      <td>42.50</td>\n",
              "      <td>85.0</td>\n",
              "      <td>17.0</td>\n",
              "      <td>29.8650</td>\n",
              "      <td>29.5870</td>\n",
              "      <td>18.4</td>\n",
              "      <td>26.5</td>\n",
              "      <td>78.50</td>\n",
              "    </tr>\n",
              "    <tr>\n",
              "      <th>7</th>\n",
              "      <td>64.10</td>\n",
              "      <td>53.0</td>\n",
              "      <td>43.80</td>\n",
              "      <td>29.8</td>\n",
              "      <td>3.2</td>\n",
              "      <td>5.10</td>\n",
              "      <td>260.0</td>\n",
              "      <td>0.810</td>\n",
              "      <td>6.36</td>\n",
              "      <td>0.0</td>\n",
              "      <td>80.30</td>\n",
              "      <td>47.60</td>\n",
              "      <td>88.0</td>\n",
              "      <td>21.0</td>\n",
              "      <td>29.9240</td>\n",
              "      <td>29.6670</td>\n",
              "      <td>16.1</td>\n",
              "      <td>24.2</td>\n",
              "      <td>79.10</td>\n",
              "    </tr>\n",
              "    <tr>\n",
              "      <th>8</th>\n",
              "      <td>61.75</td>\n",
              "      <td>51.0</td>\n",
              "      <td>40.35</td>\n",
              "      <td>29.8</td>\n",
              "      <td>3.0</td>\n",
              "      <td>4.85</td>\n",
              "      <td>273.0</td>\n",
              "      <td>0.400</td>\n",
              "      <td>8.34</td>\n",
              "      <td>0.0</td>\n",
              "      <td>78.10</td>\n",
              "      <td>45.30</td>\n",
              "      <td>85.0</td>\n",
              "      <td>21.0</td>\n",
              "      <td>29.9495</td>\n",
              "      <td>29.6945</td>\n",
              "      <td>16.1</td>\n",
              "      <td>24.2</td>\n",
              "      <td>78.90</td>\n",
              "    </tr>\n",
              "    <tr>\n",
              "      <th>9</th>\n",
              "      <td>56.80</td>\n",
              "      <td>47.0</td>\n",
              "      <td>32.90</td>\n",
              "      <td>29.9</td>\n",
              "      <td>3.3</td>\n",
              "      <td>5.40</td>\n",
              "      <td>263.0</td>\n",
              "      <td>0.160</td>\n",
              "      <td>9.17</td>\n",
              "      <td>0.0</td>\n",
              "      <td>73.70</td>\n",
              "      <td>38.90</td>\n",
              "      <td>83.0</td>\n",
              "      <td>18.0</td>\n",
              "      <td>30.0290</td>\n",
              "      <td>29.7000</td>\n",
              "      <td>16.1</td>\n",
              "      <td>24.2</td>\n",
              "      <td>77.00</td>\n",
              "    </tr>\n",
              "    <tr>\n",
              "      <th>10</th>\n",
              "      <td>45.70</td>\n",
              "      <td>48.0</td>\n",
              "      <td>24.00</td>\n",
              "      <td>29.9</td>\n",
              "      <td>4.6</td>\n",
              "      <td>7.30</td>\n",
              "      <td>255.0</td>\n",
              "      <td>0.430</td>\n",
              "      <td>10.71</td>\n",
              "      <td>0.0</td>\n",
              "      <td>59.60</td>\n",
              "      <td>32.50</td>\n",
              "      <td>82.0</td>\n",
              "      <td>23.0</td>\n",
              "      <td>30.0860</td>\n",
              "      <td>29.7530</td>\n",
              "      <td>17.3</td>\n",
              "      <td>26.5</td>\n",
              "      <td>59.60</td>\n",
              "    </tr>\n",
              "    <tr>\n",
              "      <th>11</th>\n",
              "      <td>38.20</td>\n",
              "      <td>40.0</td>\n",
              "      <td>13.90</td>\n",
              "      <td>30.0</td>\n",
              "      <td>7.4</td>\n",
              "      <td>11.40</td>\n",
              "      <td>250.0</td>\n",
              "      <td>0.140</td>\n",
              "      <td>11.55</td>\n",
              "      <td>0.0</td>\n",
              "      <td>50.40</td>\n",
              "      <td>25.10</td>\n",
              "      <td>75.0</td>\n",
              "      <td>20.0</td>\n",
              "      <td>30.2010</td>\n",
              "      <td>29.7990</td>\n",
              "      <td>21.9</td>\n",
              "      <td>32.2</td>\n",
              "      <td>50.40</td>\n",
              "    </tr>\n",
              "    <tr>\n",
              "      <th>12</th>\n",
              "      <td>30.85</td>\n",
              "      <td>44.0</td>\n",
              "      <td>8.50</td>\n",
              "      <td>30.0</td>\n",
              "      <td>7.2</td>\n",
              "      <td>10.90</td>\n",
              "      <td>243.0</td>\n",
              "      <td>0.100</td>\n",
              "      <td>12.67</td>\n",
              "      <td>0.0</td>\n",
              "      <td>39.95</td>\n",
              "      <td>19.15</td>\n",
              "      <td>73.0</td>\n",
              "      <td>26.0</td>\n",
              "      <td>30.2035</td>\n",
              "      <td>29.8170</td>\n",
              "      <td>23.0</td>\n",
              "      <td>33.4</td>\n",
              "      <td>39.95</td>\n",
              "    </tr>\n",
              "  </tbody>\n",
              "</table>\n",
              "</div>\n",
              "      <button class=\"colab-df-convert\" onclick=\"convertToInteractive('df-12668bc9-9530-4944-8b62-c33271b1e639')\"\n",
              "              title=\"Convert this dataframe to an interactive table.\"\n",
              "              style=\"display:none;\">\n",
              "        \n",
              "  <svg xmlns=\"http://www.w3.org/2000/svg\" height=\"24px\"viewBox=\"0 0 24 24\"\n",
              "       width=\"24px\">\n",
              "    <path d=\"M0 0h24v24H0V0z\" fill=\"none\"/>\n",
              "    <path d=\"M18.56 5.44l.94 2.06.94-2.06 2.06-.94-2.06-.94-.94-2.06-.94 2.06-2.06.94zm-11 1L8.5 8.5l.94-2.06 2.06-.94-2.06-.94L8.5 2.5l-.94 2.06-2.06.94zm10 10l.94 2.06.94-2.06 2.06-.94-2.06-.94-.94-2.06-.94 2.06-2.06.94z\"/><path d=\"M17.41 7.96l-1.37-1.37c-.4-.4-.92-.59-1.43-.59-.52 0-1.04.2-1.43.59L10.3 9.45l-7.72 7.72c-.78.78-.78 2.05 0 2.83L4 21.41c.39.39.9.59 1.41.59.51 0 1.02-.2 1.41-.59l7.78-7.78 2.81-2.81c.8-.78.8-2.07 0-2.86zM5.41 20L4 18.59l7.72-7.72 1.47 1.35L5.41 20z\"/>\n",
              "  </svg>\n",
              "      </button>\n",
              "      \n",
              "  <style>\n",
              "    .colab-df-container {\n",
              "      display:flex;\n",
              "      flex-wrap:wrap;\n",
              "      gap: 12px;\n",
              "    }\n",
              "\n",
              "    .colab-df-convert {\n",
              "      background-color: #E8F0FE;\n",
              "      border: none;\n",
              "      border-radius: 50%;\n",
              "      cursor: pointer;\n",
              "      display: none;\n",
              "      fill: #1967D2;\n",
              "      height: 32px;\n",
              "      padding: 0 0 0 0;\n",
              "      width: 32px;\n",
              "    }\n",
              "\n",
              "    .colab-df-convert:hover {\n",
              "      background-color: #E2EBFA;\n",
              "      box-shadow: 0px 1px 2px rgba(60, 64, 67, 0.3), 0px 1px 3px 1px rgba(60, 64, 67, 0.15);\n",
              "      fill: #174EA6;\n",
              "    }\n",
              "\n",
              "    [theme=dark] .colab-df-convert {\n",
              "      background-color: #3B4455;\n",
              "      fill: #D2E3FC;\n",
              "    }\n",
              "\n",
              "    [theme=dark] .colab-df-convert:hover {\n",
              "      background-color: #434B5C;\n",
              "      box-shadow: 0px 1px 3px 1px rgba(0, 0, 0, 0.15);\n",
              "      filter: drop-shadow(0px 1px 2px rgba(0, 0, 0, 0.3));\n",
              "      fill: #FFFFFF;\n",
              "    }\n",
              "  </style>\n",
              "\n",
              "      <script>\n",
              "        const buttonEl =\n",
              "          document.querySelector('#df-12668bc9-9530-4944-8b62-c33271b1e639 button.colab-df-convert');\n",
              "        buttonEl.style.display =\n",
              "          google.colab.kernel.accessAllowed ? 'block' : 'none';\n",
              "\n",
              "        async function convertToInteractive(key) {\n",
              "          const element = document.querySelector('#df-12668bc9-9530-4944-8b62-c33271b1e639');\n",
              "          const dataTable =\n",
              "            await google.colab.kernel.invokeFunction('convertToInteractive',\n",
              "                                                     [key], {});\n",
              "          if (!dataTable) return;\n",
              "\n",
              "          const docLinkHtml = 'Like what you see? Visit the ' +\n",
              "            '<a target=\"_blank\" href=https://colab.research.google.com/notebooks/data_table.ipynb>data table notebook</a>'\n",
              "            + ' to learn more about interactive tables.';\n",
              "          element.innerHTML = '';\n",
              "          dataTable['output_type'] = 'display_data';\n",
              "          await google.colab.output.renderOutput(dataTable, element);\n",
              "          const docLink = document.createElement('div');\n",
              "          docLink.innerHTML = docLinkHtml;\n",
              "          element.appendChild(docLink);\n",
              "        }\n",
              "      </script>\n",
              "    </div>\n",
              "  </div>\n",
              "  "
            ]
          },
          "metadata": {},
          "execution_count": 19
        }
      ]
    },
    {
      "cell_type": "code",
      "execution_count": 21,
      "metadata": {
        "colab": {
          "base_uri": "https://localhost:8080/"
        },
        "id": "CFYlc0DArVfv",
        "outputId": "703eafa9-bc0a-4c5e-d61d-e5dbff81ae21"
      },
      "outputs": [
        {
          "output_type": "stream",
          "name": "stdout",
          "text": [
            "34.5\n",
            "2\n"
          ]
        },
        {
          "output_type": "stream",
          "name": "stderr",
          "text": [
            "<ipython-input-21-81804fae0fae>:2: FutureWarning: The default value of numeric_only in DataFrameGroupBy.median is deprecated. In a future version, numeric_only will default to False. Either specify numeric_only or select only columns which should be valid for the function.\n",
            "  median1 = df.groupby(df['Month']).median()\n"
          ]
        }
      ],
      "source": [
        "df['Month1'] = df['datetime'].dt.month\n",
        "median1 = df.groupby(df['Month']).median()\n",
        "max_gust_value = median1['Maximum gust speed (mph)'].max()\n",
        "mask =  median1['Maximum gust speed (mph)']==median1['Maximum gust speed (mph)'].max()\n",
        "max_gust_month = median1.loc[mask]\n",
        "max_gust_month = max_gust_month['Month1']\n",
        "max_gust_month = int(max_gust_month[2])\n",
        "print(max_gust_value)\n",
        "print(max_gust_month)"
      ]
    },
    {
      "cell_type": "code",
      "source": [
        "df['Month1'] = df['datetime'].dt.month\n",
        "median1 = df.groupby(df['Month']).median()\n",
        "max_gust_value = median1['Maximum gust speed (mph)'].max()\n",
        "mask =  median1['Maximum gust speed (mph)']==median1['Maximum gust speed (mph)'].max()\n",
        "max_gust_month = median1.loc[mask]\n",
        "max_gust_month "
      ],
      "metadata": {
        "colab": {
          "base_uri": "https://localhost:8080/",
          "height": 263
        },
        "id": "szlEwmqVINQO",
        "outputId": "1230e32e-a45f-4432-b082-8a88ff562c01"
      },
      "execution_count": 20,
      "outputs": [
        {
          "output_type": "stream",
          "name": "stderr",
          "text": [
            "<ipython-input-20-30449292c693>:2: FutureWarning: The default value of numeric_only in DataFrameGroupBy.median is deprecated. In a future version, numeric_only will default to False. Either specify numeric_only or select only columns which should be valid for the function.\n",
            "  median1 = df.groupby(df['Month']).median()\n"
          ]
        },
        {
          "output_type": "execute_result",
          "data": {
            "text/plain": [
              "       Average temperature (°F)  Average humidity (%)  Average dewpoint (°F)  \\\n",
              "Month                                                                          \n",
              "2                         29.65                  45.0                    8.4   \n",
              "\n",
              "       Average barometer (in)  Average windspeed (mph)  \\\n",
              "Month                                                    \n",
              "2                        30.0                      7.6   \n",
              "\n",
              "       Average gustspeed (mph)  Average direction (°deg)  \\\n",
              "Month                                                      \n",
              "2                         11.2                     260.0   \n",
              "\n",
              "       Rainfall for month (in)  Rainfall for year (in)  \\\n",
              "Month                                                    \n",
              "2                        0.075                    0.27   \n",
              "\n",
              "       Maximum rain per minute   Maximum temperature (°F)  \\\n",
              "Month                                                       \n",
              "2                           0.0                      40.4   \n",
              "\n",
              "       Minimum temperature (°F)  Maximum humidity (%)  Minimum humidity (%)  \\\n",
              "Month                                                                         \n",
              "2                          19.4                  76.5                  26.0   \n",
              "\n",
              "       Maximum pressure   Minimum pressure   Maximum windspeed (mph)  \\\n",
              "Month                                                                  \n",
              "2                 30.182            29.8155                     23.0   \n",
              "\n",
              "       Maximum gust speed (mph)  Maximum heat index (°F)  Month1  \n",
              "Month                                                             \n",
              "2                          34.5                     40.4     2.0  "
            ],
            "text/html": [
              "\n",
              "  <div id=\"df-117eadf7-9c0d-416d-9ac3-2f24815d5eb8\">\n",
              "    <div class=\"colab-df-container\">\n",
              "      <div>\n",
              "<style scoped>\n",
              "    .dataframe tbody tr th:only-of-type {\n",
              "        vertical-align: middle;\n",
              "    }\n",
              "\n",
              "    .dataframe tbody tr th {\n",
              "        vertical-align: top;\n",
              "    }\n",
              "\n",
              "    .dataframe thead th {\n",
              "        text-align: right;\n",
              "    }\n",
              "</style>\n",
              "<table border=\"1\" class=\"dataframe\">\n",
              "  <thead>\n",
              "    <tr style=\"text-align: right;\">\n",
              "      <th></th>\n",
              "      <th>Average temperature (°F)</th>\n",
              "      <th>Average humidity (%)</th>\n",
              "      <th>Average dewpoint (°F)</th>\n",
              "      <th>Average barometer (in)</th>\n",
              "      <th>Average windspeed (mph)</th>\n",
              "      <th>Average gustspeed (mph)</th>\n",
              "      <th>Average direction (°deg)</th>\n",
              "      <th>Rainfall for month (in)</th>\n",
              "      <th>Rainfall for year (in)</th>\n",
              "      <th>Maximum rain per minute</th>\n",
              "      <th>Maximum temperature (°F)</th>\n",
              "      <th>Minimum temperature (°F)</th>\n",
              "      <th>Maximum humidity (%)</th>\n",
              "      <th>Minimum humidity (%)</th>\n",
              "      <th>Maximum pressure</th>\n",
              "      <th>Minimum pressure</th>\n",
              "      <th>Maximum windspeed (mph)</th>\n",
              "      <th>Maximum gust speed (mph)</th>\n",
              "      <th>Maximum heat index (°F)</th>\n",
              "      <th>Month1</th>\n",
              "    </tr>\n",
              "    <tr>\n",
              "      <th>Month</th>\n",
              "      <th></th>\n",
              "      <th></th>\n",
              "      <th></th>\n",
              "      <th></th>\n",
              "      <th></th>\n",
              "      <th></th>\n",
              "      <th></th>\n",
              "      <th></th>\n",
              "      <th></th>\n",
              "      <th></th>\n",
              "      <th></th>\n",
              "      <th></th>\n",
              "      <th></th>\n",
              "      <th></th>\n",
              "      <th></th>\n",
              "      <th></th>\n",
              "      <th></th>\n",
              "      <th></th>\n",
              "      <th></th>\n",
              "      <th></th>\n",
              "    </tr>\n",
              "  </thead>\n",
              "  <tbody>\n",
              "    <tr>\n",
              "      <th>2</th>\n",
              "      <td>29.65</td>\n",
              "      <td>45.0</td>\n",
              "      <td>8.4</td>\n",
              "      <td>30.0</td>\n",
              "      <td>7.6</td>\n",
              "      <td>11.2</td>\n",
              "      <td>260.0</td>\n",
              "      <td>0.075</td>\n",
              "      <td>0.27</td>\n",
              "      <td>0.0</td>\n",
              "      <td>40.4</td>\n",
              "      <td>19.4</td>\n",
              "      <td>76.5</td>\n",
              "      <td>26.0</td>\n",
              "      <td>30.182</td>\n",
              "      <td>29.8155</td>\n",
              "      <td>23.0</td>\n",
              "      <td>34.5</td>\n",
              "      <td>40.4</td>\n",
              "      <td>2.0</td>\n",
              "    </tr>\n",
              "  </tbody>\n",
              "</table>\n",
              "</div>\n",
              "      <button class=\"colab-df-convert\" onclick=\"convertToInteractive('df-117eadf7-9c0d-416d-9ac3-2f24815d5eb8')\"\n",
              "              title=\"Convert this dataframe to an interactive table.\"\n",
              "              style=\"display:none;\">\n",
              "        \n",
              "  <svg xmlns=\"http://www.w3.org/2000/svg\" height=\"24px\"viewBox=\"0 0 24 24\"\n",
              "       width=\"24px\">\n",
              "    <path d=\"M0 0h24v24H0V0z\" fill=\"none\"/>\n",
              "    <path d=\"M18.56 5.44l.94 2.06.94-2.06 2.06-.94-2.06-.94-.94-2.06-.94 2.06-2.06.94zm-11 1L8.5 8.5l.94-2.06 2.06-.94-2.06-.94L8.5 2.5l-.94 2.06-2.06.94zm10 10l.94 2.06.94-2.06 2.06-.94-2.06-.94-.94-2.06-.94 2.06-2.06.94z\"/><path d=\"M17.41 7.96l-1.37-1.37c-.4-.4-.92-.59-1.43-.59-.52 0-1.04.2-1.43.59L10.3 9.45l-7.72 7.72c-.78.78-.78 2.05 0 2.83L4 21.41c.39.39.9.59 1.41.59.51 0 1.02-.2 1.41-.59l7.78-7.78 2.81-2.81c.8-.78.8-2.07 0-2.86zM5.41 20L4 18.59l7.72-7.72 1.47 1.35L5.41 20z\"/>\n",
              "  </svg>\n",
              "      </button>\n",
              "      \n",
              "  <style>\n",
              "    .colab-df-container {\n",
              "      display:flex;\n",
              "      flex-wrap:wrap;\n",
              "      gap: 12px;\n",
              "    }\n",
              "\n",
              "    .colab-df-convert {\n",
              "      background-color: #E8F0FE;\n",
              "      border: none;\n",
              "      border-radius: 50%;\n",
              "      cursor: pointer;\n",
              "      display: none;\n",
              "      fill: #1967D2;\n",
              "      height: 32px;\n",
              "      padding: 0 0 0 0;\n",
              "      width: 32px;\n",
              "    }\n",
              "\n",
              "    .colab-df-convert:hover {\n",
              "      background-color: #E2EBFA;\n",
              "      box-shadow: 0px 1px 2px rgba(60, 64, 67, 0.3), 0px 1px 3px 1px rgba(60, 64, 67, 0.15);\n",
              "      fill: #174EA6;\n",
              "    }\n",
              "\n",
              "    [theme=dark] .colab-df-convert {\n",
              "      background-color: #3B4455;\n",
              "      fill: #D2E3FC;\n",
              "    }\n",
              "\n",
              "    [theme=dark] .colab-df-convert:hover {\n",
              "      background-color: #434B5C;\n",
              "      box-shadow: 0px 1px 3px 1px rgba(0, 0, 0, 0.15);\n",
              "      filter: drop-shadow(0px 1px 2px rgba(0, 0, 0, 0.3));\n",
              "      fill: #FFFFFF;\n",
              "    }\n",
              "  </style>\n",
              "\n",
              "      <script>\n",
              "        const buttonEl =\n",
              "          document.querySelector('#df-117eadf7-9c0d-416d-9ac3-2f24815d5eb8 button.colab-df-convert');\n",
              "        buttonEl.style.display =\n",
              "          google.colab.kernel.accessAllowed ? 'block' : 'none';\n",
              "\n",
              "        async function convertToInteractive(key) {\n",
              "          const element = document.querySelector('#df-117eadf7-9c0d-416d-9ac3-2f24815d5eb8');\n",
              "          const dataTable =\n",
              "            await google.colab.kernel.invokeFunction('convertToInteractive',\n",
              "                                                     [key], {});\n",
              "          if (!dataTable) return;\n",
              "\n",
              "          const docLinkHtml = 'Like what you see? Visit the ' +\n",
              "            '<a target=\"_blank\" href=https://colab.research.google.com/notebooks/data_table.ipynb>data table notebook</a>'\n",
              "            + ' to learn more about interactive tables.';\n",
              "          element.innerHTML = '';\n",
              "          dataTable['output_type'] = 'display_data';\n",
              "          await google.colab.output.renderOutput(dataTable, element);\n",
              "          const docLink = document.createElement('div');\n",
              "          docLink.innerHTML = docLinkHtml;\n",
              "          element.appendChild(docLink);\n",
              "        }\n",
              "      </script>\n",
              "    </div>\n",
              "  </div>\n",
              "  "
            ]
          },
          "metadata": {},
          "execution_count": 20
        }
      ]
    },
    {
      "cell_type": "markdown",
      "metadata": {
        "id": "pp2UkuV3rVfv"
      },
      "source": [
        "### Determine the average temperature between the months of March 2010 to May 2012 (including both the months)"
      ]
    },
    {
      "cell_type": "code",
      "execution_count": 22,
      "metadata": {
        "colab": {
          "base_uri": "https://localhost:8080/"
        },
        "id": "D0BmL4pTrVfw",
        "outputId": "025a8ca1-b7f2-4d4d-af7b-e082aaf08000"
      },
      "outputs": [
        {
          "output_type": "execute_result",
          "data": {
            "text/plain": [
              "45.33"
            ]
          },
          "metadata": {},
          "execution_count": 22
        }
      ],
      "source": [
        "mask = (df['datetime']>='2010/03/01') & (df['datetime']<'2012/06/01')\n",
        "mask_data = df.loc[mask]\n",
        "avg_temp = round(mask_data['Average temperature (°F)'].mean(), 2)\n",
        "avg_temp"
      ]
    },
    {
      "cell_type": "markdown",
      "metadata": {
        "id": "_KmI6ZpbrVfw"
      },
      "source": [
        "### Find the range of averange temperature  on Dec 2010 "
      ]
    },
    {
      "cell_type": "code",
      "execution_count": 23,
      "metadata": {
        "colab": {
          "base_uri": "https://localhost:8080/"
        },
        "id": "AcaYbQ9rrVfw",
        "outputId": "2ef8a986-7870-42dd-91bd-1d8eb2cf8e18"
      },
      "outputs": [
        {
          "output_type": "execute_result",
          "data": {
            "text/plain": [
              "44.8"
            ]
          },
          "metadata": {},
          "execution_count": 23
        }
      ],
      "source": [
        "mask = (df['datetime']>='2010/12/01') & (df['datetime']<'2011/01/01')\n",
        "mask_data = df.loc[mask]\n",
        "temp_min = mask_data['Average temperature (°F)'].min()\n",
        "temp_max = mask_data['Average temperature (°F)'].max()\n",
        "temp_range = round(temp_max-temp_min, 2)\n",
        "temp_range"
      ]
    },
    {
      "cell_type": "markdown",
      "metadata": {
        "id": "hNXirUykrVfx"
      },
      "source": [
        "### Out of all available records which day has the highest difference between maximum_pressure and minimum_pressure\n",
        "    - assign the date in string format as 'yyyy-mm-dd'. Make sure you enclose it with single quote"
      ]
    },
    {
      "cell_type": "code",
      "execution_count": 24,
      "metadata": {
        "colab": {
          "base_uri": "https://localhost:8080/",
          "height": 36
        },
        "id": "cLtcf-o1rVfx",
        "outputId": "8a0a1b43-281f-4b7c-84a9-cc52e288fff3"
      },
      "outputs": [
        {
          "output_type": "execute_result",
          "data": {
            "text/plain": [
              "'2018-03-23'"
            ],
            "application/vnd.google.colaboratory.intrinsic+json": {
              "type": "string"
            }
          },
          "metadata": {},
          "execution_count": 24
        }
      ],
      "source": [
        "df['pressure_diff'] = df['Maximum pressure ']-df['Minimum pressure ']\n",
        "max_p_range_day = df[df['pressure_diff']==df['pressure_diff'].max()].datetime\n",
        "max_p_range_day = max_p_range_day.to_string(index=False)\n",
        "max_p_range_day"
      ]
    },
    {
      "cell_type": "markdown",
      "metadata": {
        "id": "USsKQ9WrrVfy"
      },
      "source": [
        "### How many days falls under median (i.e equal to median value) of barrometer reading."
      ]
    },
    {
      "cell_type": "code",
      "execution_count": 25,
      "metadata": {
        "colab": {
          "base_uri": "https://localhost:8080/"
        },
        "id": "CV64DKturVfy",
        "outputId": "6cb5bf56-06cc-4bd7-c5db-2b4f8c3850be"
      },
      "outputs": [
        {
          "output_type": "execute_result",
          "data": {
            "text/plain": [
              "534"
            ]
          },
          "metadata": {},
          "execution_count": 25
        }
      ],
      "source": [
        "med = df[df['Average barometer (in)']==df['Average barometer (in)'].median()]\n",
        "median_b_days = len(med) \n",
        "median_b_days"
      ]
    },
    {
      "cell_type": "markdown",
      "metadata": {
        "id": "OJDKyKYgrVfz"
      },
      "source": [
        "### Out of all the available records how many days are within one standard deviation of average temperaturem"
      ]
    },
    {
      "cell_type": "code",
      "execution_count": 26,
      "metadata": {
        "colab": {
          "base_uri": "https://localhost:8080/"
        },
        "id": "LhSBB9xdrVfz",
        "outputId": "7e11c25a-10b4-4c96-ae35-279ebde1c9b7"
      },
      "outputs": [
        {
          "output_type": "execute_result",
          "data": {
            "text/plain": [
              "2092"
            ]
          },
          "metadata": {},
          "execution_count": 26
        }
      ],
      "source": [
        "std = df['Average temperature (°F)'].std()\n",
        "mean = df['Average temperature (°F)'].mean()\n",
        "no_days = df[(df['Average temperature (°F)'] >= mean-std) & (df['Average temperature (°F)'] <= mean + std)]\n",
        "num_days_std =  len(no_days)  \n",
        "num_days_std"
      ]
    },
    {
      "cell_type": "markdown",
      "metadata": {
        "id": "k0J4HzperVfz"
      },
      "source": [
        "## Once you are done with your solution make sure you have saved the notebook (ctrl + s)"
      ]
    }
  ],
  "metadata": {
    "kernelspec": {
      "display_name": "Python 3",
      "language": "python",
      "name": "python3"
    },
    "language_info": {
      "codemirror_mode": {
        "name": "ipython",
        "version": 3
      },
      "file_extension": ".py",
      "mimetype": "text/x-python",
      "name": "python",
      "nbconvert_exporter": "python",
      "pygments_lexer": "ipython3",
      "version": "3.5.2"
    },
    "colab": {
      "provenance": [],
      "include_colab_link": true
    }
  },
  "nbformat": 4,
  "nbformat_minor": 0
}